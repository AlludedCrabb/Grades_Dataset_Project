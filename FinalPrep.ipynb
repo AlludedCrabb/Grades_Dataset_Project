{
 "cells": [
  {
   "cell_type": "markdown",
   "metadata": {},
   "source": [
    "# Goals:\n",
    "create a psql database, load our information in, query the info we need, then perform hypothesis testing and make a final recommendation."
   ]
  },
  {
   "cell_type": "code",
   "execution_count": 1,
   "metadata": {},
   "outputs": [],
   "source": [
    "#import our libraries\n",
    "import psycopg2\n",
    "import csv\n",
    "import glob\n",
    "import numpy as np \n",
    "import pandas as pd\n",
    "from scipy import stats\n",
    "from sqlalchemy import create_engine"
   ]
  },
  {
   "cell_type": "code",
   "execution_count": 2,
   "metadata": {},
   "outputs": [],
   "source": [
    "#create the database\n",
    "\n",
    "# ! createdb mod2project\n"
   ]
  },
  {
   "cell_type": "code",
   "execution_count": 3,
   "metadata": {},
   "outputs": [],
   "source": [
    "#connect to the database and make a cursor\n",
    "conn = psycopg2.connect(\"dbname=mod2project\")\n",
    "cur = conn.cursor()"
   ]
  },
  {
   "cell_type": "markdown",
   "metadata": {},
   "source": [
    "### Make the tables to hold our data:"
   ]
  },
  {
   "cell_type": "code",
   "execution_count": 4,
   "metadata": {},
   "outputs": [],
   "source": [
    "#set up our SQL tables\n",
    "create_query_1 = \"\"\"\n",
    "CREATE TABLE course_offerings(\n",
    "  uuid text\n",
    ", course_uuid text \n",
    ", term_code integer\n",
    ", name text\n",
    ")\n",
    "\"\"\"\n",
    "\n",
    "create_query_2 = \"\"\"\n",
    "CREATE TABLE courses(\n",
    "  uuid text \n",
    ", name text \n",
    ", number integer\n",
    ")\n",
    "\"\"\"\n",
    "\n",
    "create_query_3 = \"\"\"\n",
    "CREATE TABLE grade_distributions(\n",
    "  course_offering_uuid text\n",
    ", section_number text \n",
    ", a_count integer\n",
    ", ab_count integer\n",
    ", b_count integer\n",
    ", bc_count integer\n",
    ", c_count integer\n",
    ", d_count integer\n",
    ", f_count integer\n",
    ", s_count integer\n",
    ", u_count integer\n",
    ", cr_count integer\n",
    ", n_count integer\n",
    ", p_count integer\n",
    ", i_count integer\n",
    ", nw_count integer\n",
    ", nr_count integer\n",
    ", other_count integer\n",
    ")\n",
    "\"\"\"\n",
    "\n",
    "create_query_4 = \"\"\"\n",
    "CREATE TABLE instructors(\n",
    "  id integer\n",
    ", name text\n",
    ")\n",
    "\"\"\"\n",
    "\n",
    "create_query_5 = \"\"\"\n",
    "CREATE TABLE rooms(\n",
    "  uuid text\n",
    ", facility_code text\n",
    ", room_code text\n",
    ")\n",
    "\"\"\"\n",
    "\n",
    "create_query_6 =\"\"\"\n",
    "CREATE TABLE schedules(\n",
    "  uuid text\n",
    ", start_time integer\n",
    ", end_time integer\n",
    ", mon text\n",
    ", tues text\n",
    ", wed text\n",
    ", thurs text\n",
    ", fri text\n",
    ", sat text\n",
    ", sun text\n",
    ")\n",
    "\"\"\"\n",
    "\n",
    "create_query_7 = \"\"\"\n",
    "CREATE TABLE sections(\n",
    "  uuid text\n",
    ", course_offering_uuid text\n",
    ", section_type text\n",
    ", number text\n",
    ", room_uuid text\n",
    ",schedule_uuid text\n",
    ")\n",
    "\"\"\"\n",
    "\n",
    "create_query_8 = \"\"\"\n",
    "CREATE TABLE subject_memberships(\n",
    "  subject_code integer\n",
    ", course_offering_uuid text\n",
    ")\n",
    "\"\"\"\n",
    "\n",
    "create_query_9 = \"\"\"\n",
    "CREATE TABLE subjects(\n",
    "  code text\n",
    ", name text\n",
    ", abbreviation text\n",
    ")\n",
    "\"\"\"\n",
    "\n",
    "create_query_10 = \"\"\"\n",
    "CREATE TABLE teachings(\n",
    "  instructor_id integer\n",
    ", section_uuid text\n",
    ")\n",
    "\"\"\""
   ]
  },
  {
   "cell_type": "code",
   "execution_count": 5,
   "metadata": {},
   "outputs": [],
   "source": [
    "#get the names and locations of our datafiles\n",
    "csvs_for_table = glob.glob('raw_data/*.csv')"
   ]
  },
  {
   "cell_type": "code",
   "execution_count": 6,
   "metadata": {},
   "outputs": [],
   "source": [
    "#make a list of our queries\n",
    "queries_list = [create_query_1,create_query_2,create_query_3,create_query_4\n",
    "               ,create_query_5,create_query_6,create_query_7\n",
    "               ,create_query_8,create_query_9,create_query_10]"
   ]
  },
  {
   "cell_type": "code",
   "execution_count": 7,
   "metadata": {},
   "outputs": [],
   "source": [
    "#extract table names from our file names\n",
    "table_names = [x.split('/')[1][:-4] for x in csvs_for_table]"
   ]
  },
  {
   "cell_type": "code",
   "execution_count": 8,
   "metadata": {},
   "outputs": [],
   "source": [
    "#loop through our queries list and execute them\n",
    "\n",
    "# for query in queries_list:\n",
    "#     cur.execute(query)\n",
    "#     conn.commit()"
   ]
  },
  {
   "cell_type": "markdown",
   "metadata": {},
   "source": [
    "### Insert our data into our tables:"
   ]
  },
  {
   "cell_type": "code",
   "execution_count": 9,
   "metadata": {
    "scrolled": true
   },
   "outputs": [],
   "source": [
    "# #loop through our table names and indexes\n",
    "# for q_num, table_name in enumerate(table_names):\n",
    "    \n",
    "#     #extract values from our first queries to use\n",
    "#     #in our insert statements below\n",
    "#     fields = tuple(line.strip(\", \").split()[0] for \n",
    "#                    line in queries_list[q_num].split('\\n')[2:-2])\n",
    "    \n",
    "#     #set up our insert statements\n",
    "#     query = f'''\n",
    "#     INSERT INTO {table_name}\n",
    "#     ({', '.join(fields)})\n",
    "#     VALUES ({', '.join('%s' for _ in range(len(fields)))})\n",
    "#     '''\n",
    "        \n",
    "    \n",
    "#     #open each file and insert it's values row\n",
    "#     #by row into the appropriate tables\n",
    "#     with open(csvs_for_table[q_num], 'r') as file:\n",
    "#         reader = csv.reader(file)\n",
    "#         next(reader)  # Skip the header row.\n",
    "#         for row in reader:\n",
    "#             cur.execute(\n",
    "#                 query,\n",
    "#                 row\n",
    "#             )\n",
    "#             conn.commit()\n",
    "            \n",
    "#         #check where we're having problems\n",
    "#         print(table_name,'still good')"
   ]
  },
  {
   "cell_type": "code",
   "execution_count": 10,
   "metadata": {},
   "outputs": [],
   "source": [
    "# remove this before the final release\n",
    "# conn.rollback()\n"
   ]
  },
  {
   "cell_type": "markdown",
   "metadata": {},
   "source": [
    "### Make the query for our information:"
   ]
  },
  {
   "cell_type": "code",
   "execution_count": 11,
   "metadata": {},
   "outputs": [],
   "source": [
    "#set up a sqlalchemy engine\n",
    "\n",
    "engine = create_engine(\"postgresql:///mod2project\", echo=True)\n"
   ]
  },
  {
   "cell_type": "code",
   "execution_count": 12,
   "metadata": {},
   "outputs": [],
   "source": [
    "#build our query\n",
    "q = \"\"\"\n",
    "SELECT DISTINCT\n",
    "  sub_m.subject_code\n",
    ", sub_j.name AS sub_j_name\n",
    ", grade_d.a_count\n",
    ", grade_d.ab_count\n",
    ", grade_d.b_count\n",
    ", grade_d.bc_count\n",
    ", grade_d.c_count\n",
    ", grade_d.d_count\n",
    ", grade_d.f_count\n",
    ", grade_d.s_count\n",
    ", grade_d.u_count\n",
    ", grade_d.cr_count\n",
    ", grade_d.n_count\n",
    ", grade_d.p_count\n",
    ", grade_d.i_count\n",
    ", grade_d.nw_count\n",
    ", grade_d.nr_count\n",
    ", grade_d.other_count\n",
    ", sch.start_time\n",
    ", sch.end_time\n",
    ",\n",
    "\n",
    "  CASE\n",
    "        WHEN term_code BETWEEN 1063 AND 1073 THEN '2006'\n",
    "        WHEN term_code BETWEEN 1073 AND 1083 THEN '2007'\n",
    "        WHEN term_code BETWEEN 1083 AND 1093 THEN '2008'\n",
    "        WHEN term_code BETWEEN 1093 AND 1103 THEN '2009'\n",
    "        WHEN term_code BETWEEN 1103 AND 1113 THEN '2010'\n",
    "        WHEN term_code BETWEEN 1113 AND 1123 THEN '2011'\n",
    "        WHEN term_code BETWEEN 1123 AND 1133 THEN '2012'\n",
    "        WHEN term_code BETWEEN 1133 AND 1143 THEN '2013'\n",
    "        WHEN term_code BETWEEN 1143 AND 1153 THEN '2014'\n",
    "        WHEN term_code BETWEEN 1153 AND 1163 THEN '2015'\n",
    "        WHEN term_code BETWEEN 1163 AND 1173 THEN '2016'\n",
    "        WHEN term_code BETWEEN 1173 AND 1183 THEN '2017'\n",
    "        ELSE 'the_world_is_over'\n",
    "    END AS Year\n",
    "    \n",
    "\n",
    "FROM grade_distributions AS grade_d\n",
    "\n",
    "JOIN sections sect\n",
    "  ON sect.course_offering_uuid = grade_d.course_offering_uuid\n",
    "  AND sect.number = grade_d.section_number\n",
    "\n",
    "JOIN subject_memberships sub_m\n",
    "  ON grade_d.course_offering_uuid = sub_m.course_offering_uuid\n",
    "  \n",
    "\n",
    "JOIN course_offerings cor_o\n",
    "  ON cor_o.uuid = grade_d.course_offering_uuid\n",
    "\n",
    "\n",
    "JOIN schedules sch\n",
    "  ON sect.schedule_uuid = sch.uuid\n",
    "  \n",
    "JOIN subjects sub_j\n",
    "  ON cast(sub_m.subject_code as text) = cast(sub_j.code as text)\n",
    "\n",
    "\"\"\""
   ]
  },
  {
   "cell_type": "code",
   "execution_count": 13,
   "metadata": {
    "scrolled": false
   },
   "outputs": [
    {
     "name": "stdout",
     "output_type": "stream",
     "text": [
      "2019-05-10 09:20:16,964 INFO sqlalchemy.engine.base.Engine select version()\n",
      "2019-05-10 09:20:16,965 INFO sqlalchemy.engine.base.Engine {}\n",
      "2019-05-10 09:20:16,968 INFO sqlalchemy.engine.base.Engine select current_schema()\n",
      "2019-05-10 09:20:16,969 INFO sqlalchemy.engine.base.Engine {}\n",
      "2019-05-10 09:20:16,972 INFO sqlalchemy.engine.base.Engine SELECT CAST('test plain returns' AS VARCHAR(60)) AS anon_1\n",
      "2019-05-10 09:20:16,973 INFO sqlalchemy.engine.base.Engine {}\n",
      "2019-05-10 09:20:16,977 INFO sqlalchemy.engine.base.Engine SELECT CAST('test unicode returns' AS VARCHAR(60)) AS anon_1\n",
      "2019-05-10 09:20:16,978 INFO sqlalchemy.engine.base.Engine {}\n",
      "2019-05-10 09:20:16,980 INFO sqlalchemy.engine.base.Engine show standard_conforming_strings\n",
      "2019-05-10 09:20:16,984 INFO sqlalchemy.engine.base.Engine {}\n",
      "2019-05-10 09:20:16,987 INFO sqlalchemy.engine.base.Engine \n",
      "SELECT DISTINCT\n",
      "  sub_m.subject_code\n",
      ", sub_j.name AS sub_j_name\n",
      ", grade_d.a_count\n",
      ", grade_d.ab_count\n",
      ", grade_d.b_count\n",
      ", grade_d.bc_count\n",
      ", grade_d.c_count\n",
      ", grade_d.d_count\n",
      ", grade_d.f_count\n",
      ", grade_d.s_count\n",
      ", grade_d.u_count\n",
      ", grade_d.cr_count\n",
      ", grade_d.n_count\n",
      ", grade_d.p_count\n",
      ", grade_d.i_count\n",
      ", grade_d.nw_count\n",
      ", grade_d.nr_count\n",
      ", grade_d.other_count\n",
      ", sch.start_time\n",
      ", sch.end_time\n",
      ",\n",
      "\n",
      "  CASE\n",
      "        WHEN term_code BETWEEN 1063 AND 1073 THEN '2006'\n",
      "        WHEN term_code BETWEEN 1073 AND 1083 THEN '2007'\n",
      "        WHEN term_code BETWEEN 1083 AND 1093 THEN '2008'\n",
      "        WHEN term_code BETWEEN 1093 AND 1103 THEN '2009'\n",
      "        WHEN term_code BETWEEN 1103 AND 1113 THEN '2010'\n",
      "        WHEN term_code BETWEEN 1113 AND 1123 THEN '2011'\n",
      "        WHEN term_code BETWEEN 1123 AND 1133 THEN '2012'\n",
      "        WHEN term_code BETWEEN 1133 AND 1143 THEN '2013'\n",
      "        WHEN term_code BETWEEN 1143 AND 1153 THEN '2014'\n",
      "        WHEN term_code BETWEEN 1153 AND 1163 THEN '2015'\n",
      "        WHEN term_code BETWEEN 1163 AND 1173 THEN '2016'\n",
      "        WHEN term_code BETWEEN 1173 AND 1183 THEN '2017'\n",
      "        ELSE 'the_world_is_over'\n",
      "    END AS Year\n",
      "    \n",
      "\n",
      "FROM grade_distributions AS grade_d\n",
      "\n",
      "JOIN sections sect\n",
      "  ON sect.course_offering_uuid = grade_d.course_offering_uuid\n",
      "  AND sect.number = grade_d.section_number\n",
      "\n",
      "JOIN subject_memberships sub_m\n",
      "  ON grade_d.course_offering_uuid = sub_m.course_offering_uuid\n",
      "  \n",
      "\n",
      "JOIN course_offerings cor_o\n",
      "  ON cor_o.uuid = grade_d.course_offering_uuid\n",
      "\n",
      "\n",
      "JOIN schedules sch\n",
      "  ON sect.schedule_uuid = sch.uuid\n",
      "  \n",
      "JOIN subjects sub_j\n",
      "  ON cast(sub_m.subject_code as text) = cast(sub_j.code as text)\n",
      "\n",
      "\n",
      "2019-05-10 09:20:16,987 INFO sqlalchemy.engine.base.Engine {}\n"
     ]
    }
   ],
   "source": [
    "#put our query into a dataframe\n",
    "df_join = pd.read_sql_query(q,con=engine)"
   ]
  },
  {
   "cell_type": "markdown",
   "metadata": {},
   "source": [
    "### Define what is and isn't STEM and create dataframes for each:"
   ]
  },
  {
   "cell_type": "code",
   "execution_count": 14,
   "metadata": {},
   "outputs": [],
   "source": [
    "#create a unique set of course names\n",
    "all_courses = set(df_join.sub_j_name)"
   ]
  },
  {
   "cell_type": "code",
   "execution_count": 15,
   "metadata": {},
   "outputs": [],
   "source": [
    "#make a list of humanites\n",
    "humanities = {'African Languages and Literature', 'Afro-American Studies', \n",
    "              'American Indian Studies', 'Art Department', 'Anthropology'\n",
    "              'Art Education (Department of Art)', 'Art History', 'Asian American Studies',\n",
    "              'Chicana/o and Latina/o Studies', 'Classics', 'Collaborative Nursing Program',\n",
    "              'Communication Arts','Communication Sciences and Disorders', 'Community and Environmental Sociology',\n",
    "              'Comparative Literature', 'Consumer Science', 'Counseling Psychology', 'Curriculum and Instruction',\n",
    "              'Dance', 'Design Studies', 'ENGLISH', 'East Asian Area Studies', 'East Asian Languages and Literature',\n",
    "              'Economics', 'Educational Leadership and Policy Analysis', 'Educational Policy Studies',\n",
    "              'Educational Psychology', 'Emergency Medicine', 'Engineering Professional Development',\n",
    "              'English', 'English as a Second Language', 'Entomology', 'Environmental Studies - Gaylord Nelson Institute',\n",
    "              'FAMILY AND CONSUMER COMMUNICATIONS', 'Family Medicine', 'Farm & Industry Short Course',\n",
    "              'Finance, Investment and Banking', 'Folklore Program', 'Forest and Wildlife Ecology',\n",
    "              'French (French and Italian)', 'Gender and Women’s Studies', 'General Business',\n",
    "              'Geography', 'German', 'Greek (Classics)', 'HEBREW', 'Hebrew-Biblical', 'Hebrew-Modern',\n",
    "              'History', 'History of Science', 'Horticulture', 'Human Development and Family Studies',\n",
    "              'Human Oncology', 'INDUSTRIAL RELATIONS', 'Integrated Arts', 'Integrated Liberal Studies',\n",
    "              'Integrated Science', 'Interdisciplinary Courses (CALS)', 'Interdisciplinary Courses (L&S)',\n",
    "              'Interdisciplinary Courses (SOHE)', 'International Business', 'International Studies',\n",
    "              'Italian (French and Italian)', 'Jewish Studies', 'Journalism and Mass Communication',\n",
    "              'Kinesiology', 'La Follette School of Public Affairs',  'Landscape Architecture',\n",
    "              'Languages and Cultures of Asia', 'Languages and Cultures of Asia - Languages',\n",
    "              'Latin (Classics)', 'Latin American, Caribbean, and Iberian Studies',\n",
    "              'Law','Legal Studies','Library and Information Studies',\n",
    "              'Life Sciences Communication', 'Linguistics', 'Literature in Translation',\n",
    "              'Management and Human Resources', 'Marketing', 'Medical History and Bioethics',\n",
    "              'Medieval Studies','Music','Music-Performance','Nursing','Nutritional Sciences',\n",
    "              'Occupational Therapy (Department of Kinesiology)',\n",
    "              'Operations and Technology Management','PHYSICAL EDUC ACTIVITY PROGM',\n",
    "              'PROFESSIONAL ORIENTATION', 'Pharmacy','Pharmacy Practice','Philosophy',\n",
    "              'Physical Therapy','Physician Assistant Program','Political Science',\n",
    "              'Portuguese (Spanish and Portuguese)','Psychiatry',\n",
    "              'Real Estate and Urban Land Economics',\n",
    "              'Rehabilitation Psychology and Special Education',\n",
    "              'Religious Studies','Risk Management and Insurance',\n",
    "              'Scandinavian Studies','Slavic (Slavic Languages)','Social Work',\n",
    "              'Social and Administrative Pharmacy','Sociology','Soil Science',\n",
    "              'Spanish (Spanish and Portuguese)','TRANSPORTATION AND PUBLIC UTILITIES',\n",
    "              'Theatre and Drama','Therapeutic Science (Department of Kinesiology)',\n",
    "              'Urban and Regional Planning','WILDLIFE ECOLOGY', 'Zoology'\n",
    " \n",
    "              }"
   ]
  },
  {
   "cell_type": "code",
   "execution_count": 16,
   "metadata": {},
   "outputs": [],
   "source": [
    "#remove the humanites from the course list\n",
    "all_courses -= humanities"
   ]
  },
  {
   "cell_type": "code",
   "execution_count": 17,
   "metadata": {},
   "outputs": [],
   "source": [
    "#set a STEM\n",
    "STEM = all_courses"
   ]
  },
  {
   "cell_type": "markdown",
   "metadata": {},
   "source": [
    "### Make a standard scale for grades:\n",
    "Each grade is given an appropriate weight. <br>\n",
    "We do this so we can more accurately find their means."
   ]
  },
  {
   "cell_type": "code",
   "execution_count": 18,
   "metadata": {
    "scrolled": false
   },
   "outputs": [],
   "source": [
    "#make columns with grades adjusted for weight\n",
    "df_join['weighted_a'] = df_join.a_count * 4\n",
    "df_join['weighted_ab'] = df_join.ab_count * 3.5\n",
    "df_join['weighted_b'] = df_join.b_count * 3\n",
    "df_join['weighted_bc'] = df_join.bc_count * 2.5\n",
    "df_join['weighted_c'] = df_join.c_count * 2\n",
    "df_join['weighted_d'] = df_join.c_count * 1\n",
    "df_join['weighted_f'] = df_join.c_count * 0"
   ]
  },
  {
   "cell_type": "code",
   "execution_count": 19,
   "metadata": {
    "scrolled": false
   },
   "outputs": [],
   "source": [
    "#adding the grades together\n",
    "sum_grades = (df_join.weighted_a + \n",
    "              df_join.weighted_ab + \n",
    "              df_join.weighted_b + \n",
    "              df_join.weighted_bc + \n",
    "              df_join.weighted_c +\n",
    "              df_join.weighted_d + \n",
    "              df_join.weighted_f)\n",
    "\n",
    "df_join['sum_of_grades'] = sum_grades"
   ]
  },
  {
   "cell_type": "code",
   "execution_count": 20,
   "metadata": {},
   "outputs": [],
   "source": [
    "#adding the student counts together\n",
    "student_counts = (df_join.a_count +\n",
    "                  df_join.ab_count +\n",
    "                  df_join.b_count +\n",
    "                  df_join.bc_count +\n",
    "                  df_join.c_count + \n",
    "                  df_join.d_count +\n",
    "                  df_join.f_count +\n",
    "                  df_join.s_count +\n",
    "                  df_join.u_count + \n",
    "                  df_join.cr_count +\n",
    "                  df_join.n_count + \n",
    "                  df_join.p_count + \n",
    "                  df_join.i_count +\n",
    "                  df_join.nw_count +\n",
    "                  df_join.nr_count +\n",
    "                  df_join.other_count)\n",
    "\n",
    "df_join['student_count'] = student_counts"
   ]
  },
  {
   "cell_type": "code",
   "execution_count": 21,
   "metadata": {},
   "outputs": [],
   "source": [
    "a_f_count = (df_join.a_count +\n",
    "                  df_join.ab_count +\n",
    "                  df_join.b_count +\n",
    "                  df_join.bc_count +\n",
    "                  df_join.c_count + \n",
    "                  df_join.d_count +\n",
    "                  df_join.f_count)\n",
    "df_join['a_f_count'] = a_f_count"
   ]
  },
  {
   "cell_type": "code",
   "execution_count": 22,
   "metadata": {},
   "outputs": [],
   "source": [
    "#make a ratio of mean grade per class\n",
    "df_join['grade_ratio'] = df_join.sum_of_grades/ df_join.a_f_count\n",
    "\n",
    "#make ratio grade for each student\n",
    "df_STEM = df_join.loc[df_join.sub_j_name.isin(STEM)]\n",
    "STEM_grade = df_STEM.grade_ratio.sum()/df_STEM.grade_ratio.count()\n",
    "\n",
    "df_humanites = df_join.loc[df_join.sub_j_name.isin(humanities)]\n",
    "humanites_grade = df_humanites.grade_ratio.sum()/df_humanites.grade_ratio.count()"
   ]
  },
  {
   "cell_type": "code",
   "execution_count": 23,
   "metadata": {},
   "outputs": [
    {
     "data": {
      "text/html": [
       "<div>\n",
       "<style scoped>\n",
       "    .dataframe tbody tr th:only-of-type {\n",
       "        vertical-align: middle;\n",
       "    }\n",
       "\n",
       "    .dataframe tbody tr th {\n",
       "        vertical-align: top;\n",
       "    }\n",
       "\n",
       "    .dataframe thead th {\n",
       "        text-align: right;\n",
       "    }\n",
       "</style>\n",
       "<table border=\"1\" class=\"dataframe\">\n",
       "  <thead>\n",
       "    <tr style=\"text-align: right;\">\n",
       "      <th></th>\n",
       "      <th>subject_code</th>\n",
       "      <th>sub_j_name</th>\n",
       "      <th>a_count</th>\n",
       "      <th>ab_count</th>\n",
       "      <th>b_count</th>\n",
       "      <th>bc_count</th>\n",
       "      <th>c_count</th>\n",
       "      <th>d_count</th>\n",
       "      <th>f_count</th>\n",
       "      <th>s_count</th>\n",
       "      <th>...</th>\n",
       "      <th>weighted_ab</th>\n",
       "      <th>weighted_b</th>\n",
       "      <th>weighted_bc</th>\n",
       "      <th>weighted_c</th>\n",
       "      <th>weighted_d</th>\n",
       "      <th>weighted_f</th>\n",
       "      <th>sum_of_grades</th>\n",
       "      <th>student_count</th>\n",
       "      <th>a_f_count</th>\n",
       "      <th>grade_ratio</th>\n",
       "    </tr>\n",
       "  </thead>\n",
       "  <tbody>\n",
       "    <tr>\n",
       "      <th>0</th>\n",
       "      <td>102</td>\n",
       "      <td>Air Force Aerospace Studies</td>\n",
       "      <td>0</td>\n",
       "      <td>0</td>\n",
       "      <td>0</td>\n",
       "      <td>0</td>\n",
       "      <td>0</td>\n",
       "      <td>0</td>\n",
       "      <td>0</td>\n",
       "      <td>0</td>\n",
       "      <td>...</td>\n",
       "      <td>0.0</td>\n",
       "      <td>0</td>\n",
       "      <td>0.0</td>\n",
       "      <td>0</td>\n",
       "      <td>0</td>\n",
       "      <td>0</td>\n",
       "      <td>0.0</td>\n",
       "      <td>0</td>\n",
       "      <td>0</td>\n",
       "      <td>NaN</td>\n",
       "    </tr>\n",
       "    <tr>\n",
       "      <th>1</th>\n",
       "      <td>102</td>\n",
       "      <td>Air Force Aerospace Studies</td>\n",
       "      <td>0</td>\n",
       "      <td>0</td>\n",
       "      <td>0</td>\n",
       "      <td>0</td>\n",
       "      <td>0</td>\n",
       "      <td>0</td>\n",
       "      <td>0</td>\n",
       "      <td>0</td>\n",
       "      <td>...</td>\n",
       "      <td>0.0</td>\n",
       "      <td>0</td>\n",
       "      <td>0.0</td>\n",
       "      <td>0</td>\n",
       "      <td>0</td>\n",
       "      <td>0</td>\n",
       "      <td>0.0</td>\n",
       "      <td>0</td>\n",
       "      <td>0</td>\n",
       "      <td>NaN</td>\n",
       "    </tr>\n",
       "    <tr>\n",
       "      <th>2</th>\n",
       "      <td>102</td>\n",
       "      <td>Air Force Aerospace Studies</td>\n",
       "      <td>0</td>\n",
       "      <td>0</td>\n",
       "      <td>0</td>\n",
       "      <td>0</td>\n",
       "      <td>0</td>\n",
       "      <td>0</td>\n",
       "      <td>0</td>\n",
       "      <td>0</td>\n",
       "      <td>...</td>\n",
       "      <td>0.0</td>\n",
       "      <td>0</td>\n",
       "      <td>0.0</td>\n",
       "      <td>0</td>\n",
       "      <td>0</td>\n",
       "      <td>0</td>\n",
       "      <td>0.0</td>\n",
       "      <td>0</td>\n",
       "      <td>0</td>\n",
       "      <td>NaN</td>\n",
       "    </tr>\n",
       "    <tr>\n",
       "      <th>3</th>\n",
       "      <td>102</td>\n",
       "      <td>Air Force Aerospace Studies</td>\n",
       "      <td>1</td>\n",
       "      <td>2</td>\n",
       "      <td>4</td>\n",
       "      <td>3</td>\n",
       "      <td>1</td>\n",
       "      <td>0</td>\n",
       "      <td>0</td>\n",
       "      <td>0</td>\n",
       "      <td>...</td>\n",
       "      <td>7.0</td>\n",
       "      <td>12</td>\n",
       "      <td>7.5</td>\n",
       "      <td>2</td>\n",
       "      <td>1</td>\n",
       "      <td>0</td>\n",
       "      <td>33.5</td>\n",
       "      <td>11</td>\n",
       "      <td>11</td>\n",
       "      <td>3.045455</td>\n",
       "    </tr>\n",
       "    <tr>\n",
       "      <th>4</th>\n",
       "      <td>102</td>\n",
       "      <td>Air Force Aerospace Studies</td>\n",
       "      <td>1</td>\n",
       "      <td>4</td>\n",
       "      <td>1</td>\n",
       "      <td>0</td>\n",
       "      <td>0</td>\n",
       "      <td>0</td>\n",
       "      <td>0</td>\n",
       "      <td>0</td>\n",
       "      <td>...</td>\n",
       "      <td>14.0</td>\n",
       "      <td>3</td>\n",
       "      <td>0.0</td>\n",
       "      <td>0</td>\n",
       "      <td>0</td>\n",
       "      <td>0</td>\n",
       "      <td>21.0</td>\n",
       "      <td>7</td>\n",
       "      <td>6</td>\n",
       "      <td>3.500000</td>\n",
       "    </tr>\n",
       "  </tbody>\n",
       "</table>\n",
       "<p>5 rows × 32 columns</p>\n",
       "</div>"
      ],
      "text/plain": [
       "   subject_code                   sub_j_name  a_count  ab_count  b_count  \\\n",
       "0           102  Air Force Aerospace Studies        0         0        0   \n",
       "1           102  Air Force Aerospace Studies        0         0        0   \n",
       "2           102  Air Force Aerospace Studies        0         0        0   \n",
       "3           102  Air Force Aerospace Studies        1         2        4   \n",
       "4           102  Air Force Aerospace Studies        1         4        1   \n",
       "\n",
       "   bc_count  c_count  d_count  f_count  s_count     ...       weighted_ab  \\\n",
       "0         0        0        0        0        0     ...               0.0   \n",
       "1         0        0        0        0        0     ...               0.0   \n",
       "2         0        0        0        0        0     ...               0.0   \n",
       "3         3        1        0        0        0     ...               7.0   \n",
       "4         0        0        0        0        0     ...              14.0   \n",
       "\n",
       "   weighted_b  weighted_bc  weighted_c  weighted_d  weighted_f  sum_of_grades  \\\n",
       "0           0          0.0           0           0           0            0.0   \n",
       "1           0          0.0           0           0           0            0.0   \n",
       "2           0          0.0           0           0           0            0.0   \n",
       "3          12          7.5           2           1           0           33.5   \n",
       "4           3          0.0           0           0           0           21.0   \n",
       "\n",
       "   student_count  a_f_count  grade_ratio  \n",
       "0              0          0          NaN  \n",
       "1              0          0          NaN  \n",
       "2              0          0          NaN  \n",
       "3             11         11     3.045455  \n",
       "4              7          6     3.500000  \n",
       "\n",
       "[5 rows x 32 columns]"
      ]
     },
     "execution_count": 23,
     "metadata": {},
     "output_type": "execute_result"
    }
   ],
   "source": [
    "df_STEM.head()"
   ]
  },
  {
   "cell_type": "code",
   "execution_count": 24,
   "metadata": {},
   "outputs": [
    {
     "data": {
      "text/html": [
       "<div>\n",
       "<style scoped>\n",
       "    .dataframe tbody tr th:only-of-type {\n",
       "        vertical-align: middle;\n",
       "    }\n",
       "\n",
       "    .dataframe tbody tr th {\n",
       "        vertical-align: top;\n",
       "    }\n",
       "\n",
       "    .dataframe thead th {\n",
       "        text-align: right;\n",
       "    }\n",
       "</style>\n",
       "<table border=\"1\" class=\"dataframe\">\n",
       "  <thead>\n",
       "    <tr style=\"text-align: right;\">\n",
       "      <th></th>\n",
       "      <th>subject_code</th>\n",
       "      <th>sub_j_name</th>\n",
       "      <th>a_count</th>\n",
       "      <th>ab_count</th>\n",
       "      <th>b_count</th>\n",
       "      <th>bc_count</th>\n",
       "      <th>c_count</th>\n",
       "      <th>d_count</th>\n",
       "      <th>f_count</th>\n",
       "      <th>s_count</th>\n",
       "      <th>...</th>\n",
       "      <th>weighted_ab</th>\n",
       "      <th>weighted_b</th>\n",
       "      <th>weighted_bc</th>\n",
       "      <th>weighted_c</th>\n",
       "      <th>weighted_d</th>\n",
       "      <th>weighted_f</th>\n",
       "      <th>sum_of_grades</th>\n",
       "      <th>student_count</th>\n",
       "      <th>a_f_count</th>\n",
       "      <th>grade_ratio</th>\n",
       "    </tr>\n",
       "  </thead>\n",
       "  <tbody>\n",
       "    <tr>\n",
       "      <th>103</th>\n",
       "      <td>104</td>\n",
       "      <td>African Languages and Literature</td>\n",
       "      <td>0</td>\n",
       "      <td>0</td>\n",
       "      <td>0</td>\n",
       "      <td>0</td>\n",
       "      <td>0</td>\n",
       "      <td>0</td>\n",
       "      <td>0</td>\n",
       "      <td>0</td>\n",
       "      <td>...</td>\n",
       "      <td>0.0</td>\n",
       "      <td>0</td>\n",
       "      <td>0.0</td>\n",
       "      <td>0</td>\n",
       "      <td>0</td>\n",
       "      <td>0</td>\n",
       "      <td>0.0</td>\n",
       "      <td>0</td>\n",
       "      <td>0</td>\n",
       "      <td>NaN</td>\n",
       "    </tr>\n",
       "    <tr>\n",
       "      <th>104</th>\n",
       "      <td>104</td>\n",
       "      <td>African Languages and Literature</td>\n",
       "      <td>0</td>\n",
       "      <td>0</td>\n",
       "      <td>0</td>\n",
       "      <td>0</td>\n",
       "      <td>0</td>\n",
       "      <td>0</td>\n",
       "      <td>0</td>\n",
       "      <td>0</td>\n",
       "      <td>...</td>\n",
       "      <td>0.0</td>\n",
       "      <td>0</td>\n",
       "      <td>0.0</td>\n",
       "      <td>0</td>\n",
       "      <td>0</td>\n",
       "      <td>0</td>\n",
       "      <td>0.0</td>\n",
       "      <td>0</td>\n",
       "      <td>0</td>\n",
       "      <td>NaN</td>\n",
       "    </tr>\n",
       "    <tr>\n",
       "      <th>105</th>\n",
       "      <td>104</td>\n",
       "      <td>African Languages and Literature</td>\n",
       "      <td>0</td>\n",
       "      <td>0</td>\n",
       "      <td>0</td>\n",
       "      <td>0</td>\n",
       "      <td>0</td>\n",
       "      <td>0</td>\n",
       "      <td>0</td>\n",
       "      <td>0</td>\n",
       "      <td>...</td>\n",
       "      <td>0.0</td>\n",
       "      <td>0</td>\n",
       "      <td>0.0</td>\n",
       "      <td>0</td>\n",
       "      <td>0</td>\n",
       "      <td>0</td>\n",
       "      <td>0.0</td>\n",
       "      <td>0</td>\n",
       "      <td>0</td>\n",
       "      <td>NaN</td>\n",
       "    </tr>\n",
       "    <tr>\n",
       "      <th>106</th>\n",
       "      <td>104</td>\n",
       "      <td>African Languages and Literature</td>\n",
       "      <td>0</td>\n",
       "      <td>0</td>\n",
       "      <td>0</td>\n",
       "      <td>0</td>\n",
       "      <td>0</td>\n",
       "      <td>0</td>\n",
       "      <td>0</td>\n",
       "      <td>0</td>\n",
       "      <td>...</td>\n",
       "      <td>0.0</td>\n",
       "      <td>0</td>\n",
       "      <td>0.0</td>\n",
       "      <td>0</td>\n",
       "      <td>0</td>\n",
       "      <td>0</td>\n",
       "      <td>0.0</td>\n",
       "      <td>0</td>\n",
       "      <td>0</td>\n",
       "      <td>NaN</td>\n",
       "    </tr>\n",
       "    <tr>\n",
       "      <th>107</th>\n",
       "      <td>104</td>\n",
       "      <td>African Languages and Literature</td>\n",
       "      <td>0</td>\n",
       "      <td>0</td>\n",
       "      <td>0</td>\n",
       "      <td>0</td>\n",
       "      <td>0</td>\n",
       "      <td>0</td>\n",
       "      <td>0</td>\n",
       "      <td>0</td>\n",
       "      <td>...</td>\n",
       "      <td>0.0</td>\n",
       "      <td>0</td>\n",
       "      <td>0.0</td>\n",
       "      <td>0</td>\n",
       "      <td>0</td>\n",
       "      <td>0</td>\n",
       "      <td>0.0</td>\n",
       "      <td>0</td>\n",
       "      <td>0</td>\n",
       "      <td>NaN</td>\n",
       "    </tr>\n",
       "  </tbody>\n",
       "</table>\n",
       "<p>5 rows × 32 columns</p>\n",
       "</div>"
      ],
      "text/plain": [
       "     subject_code                        sub_j_name  a_count  ab_count  \\\n",
       "103           104  African Languages and Literature        0         0   \n",
       "104           104  African Languages and Literature        0         0   \n",
       "105           104  African Languages and Literature        0         0   \n",
       "106           104  African Languages and Literature        0         0   \n",
       "107           104  African Languages and Literature        0         0   \n",
       "\n",
       "     b_count  bc_count  c_count  d_count  f_count  s_count     ...       \\\n",
       "103        0         0        0        0        0        0     ...        \n",
       "104        0         0        0        0        0        0     ...        \n",
       "105        0         0        0        0        0        0     ...        \n",
       "106        0         0        0        0        0        0     ...        \n",
       "107        0         0        0        0        0        0     ...        \n",
       "\n",
       "     weighted_ab  weighted_b  weighted_bc  weighted_c  weighted_d  weighted_f  \\\n",
       "103          0.0           0          0.0           0           0           0   \n",
       "104          0.0           0          0.0           0           0           0   \n",
       "105          0.0           0          0.0           0           0           0   \n",
       "106          0.0           0          0.0           0           0           0   \n",
       "107          0.0           0          0.0           0           0           0   \n",
       "\n",
       "     sum_of_grades  student_count  a_f_count  grade_ratio  \n",
       "103            0.0              0          0          NaN  \n",
       "104            0.0              0          0          NaN  \n",
       "105            0.0              0          0          NaN  \n",
       "106            0.0              0          0          NaN  \n",
       "107            0.0              0          0          NaN  \n",
       "\n",
       "[5 rows x 32 columns]"
      ]
     },
     "execution_count": 24,
     "metadata": {},
     "output_type": "execute_result"
    }
   ],
   "source": [
    "df_humanites.head()"
   ]
  },
  {
   "cell_type": "markdown",
   "metadata": {},
   "source": [
    "\n",
    "## Now for our conditions:\n",
    "<ol>\n",
    "\t<li>STEM education:\n",
    "\tJenkins wants a school that has STEM courses that are on par or better than courses in the humanities</li>\n",
    "\t<li>STEM progression:\n",
    "\tJenkins is concerned with the future of education, especially in STEM courses. We are looking for a school that has shown improvement in their STEM departents during recent years</li>\n",
    "\t<li>Class duration:\n",
    "\tJenkins is interested in the effect of time spent in class. Do Classes with longer sessions produce better grades?</li>\n",
    "\t<li>Consistent improvement:\n",
    "\tJenkins wants to be sure his donation will go to good use. He is looking for a school with consistent results for each and every student, and a proven record of updating and refining courses for the best results.</li>\n",
    "</ol>\n"
   ]
  },
  {
   "cell_type": "markdown",
   "metadata": {},
   "source": [
    "### Condition 1: do STEM courses get worse grades than the humanities?\n",
    "$H_0$: humanities mean grade = STEM mean grade <br>\n",
    "$H_A$: humanities mean grade > STEM mean grade <br>\n",
    "we will be using alpha of 0.05 for our hypothesis test"
   ]
  },
  {
   "cell_type": "code",
   "execution_count": 25,
   "metadata": {
    "scrolled": true
   },
   "outputs": [
    {
     "data": {
      "text/plain": [
       "0.3740595213057142"
      ]
     },
     "execution_count": 25,
     "metadata": {},
     "output_type": "execute_result"
    }
   ],
   "source": [
    "alpha = 0.05\n",
    "\n",
    "#find statistics for a hypothesis test\n",
    "STEM_mean = df_STEM.grade_ratio.mean()\n",
    "STEM_std = df_STEM.grade_ratio.std()\n",
    "\n",
    "humanities_mean = df_humanites.grade_ratio.mean()\n",
    "\n",
    "#perform hypothesis test\n",
    "z_score = (humanities_mean - STEM_mean)/ STEM_std\n",
    "\n",
    "STEM_vs_hum_results = stats.norm.sf(z_score)\n",
    "STEM_vs_hum_results"
   ]
  },
  {
   "cell_type": "code",
   "execution_count": 26,
   "metadata": {},
   "outputs": [
    {
     "data": {
      "text/plain": [
       "False"
      ]
     },
     "execution_count": 26,
     "metadata": {},
     "output_type": "execute_result"
    }
   ],
   "source": [
    "STEM_vs_hum_results < alpha"
   ]
  },
  {
   "cell_type": "markdown",
   "metadata": {},
   "source": [
    "#####  based on our findings, we cannot at this time reject $H_0$"
   ]
  },
  {
   "cell_type": "markdown",
   "metadata": {},
   "source": [
    "### do STEM mean grades get better as time goes on?\n",
    "$H_0$: STEM mean grades in 2007 = STEM mean grades in 2017 <br>\n",
    "$H_A$: STEM mean grades in 2007 != STEM mean grades in 2017 <br>\n",
    "once again we will be using alpha of 0.05"
   ]
  },
  {
   "cell_type": "code",
   "execution_count": 27,
   "metadata": {},
   "outputs": [
    {
     "data": {
      "text/plain": [
       "0.4467094049602883"
      ]
     },
     "execution_count": 27,
     "metadata": {},
     "output_type": "execute_result"
    }
   ],
   "source": [
    "#find statistics for a hypothesis test\n",
    "STEM_o_seven_mean = df_STEM.loc[df_STEM.year == '2007'].grade_ratio.mean()\n",
    "STEM_o_seven_std = df_STEM.loc[df_STEM.year == '2007'].grade_ratio.std()\n",
    "STEM_seventeen_mean = df_STEM.loc[df_STEM.year == '2017'].grade_ratio.mean()\n",
    "\n",
    "#perform hypothesis test\n",
    "STEM_z_score = ((STEM_seventeen_mean - STEM_o_seven_mean)/\n",
    "                STEM_o_seven_std)\n",
    "\n",
    "STEM_decade_results = stats.norm.sf(STEM_z_score)\n",
    "STEM_decade_results"
   ]
  },
  {
   "cell_type": "code",
   "execution_count": 28,
   "metadata": {},
   "outputs": [
    {
     "data": {
      "text/plain": [
       "False"
      ]
     },
     "execution_count": 28,
     "metadata": {},
     "output_type": "execute_result"
    }
   ],
   "source": [
    "STEM_decade_results < alpha"
   ]
  },
  {
   "cell_type": "markdown",
   "metadata": {},
   "source": [
    "#####  based on our findings, we cannot at this time reject $H_0$"
   ]
  },
  {
   "cell_type": "markdown",
   "metadata": {},
   "source": [
    "### does the humanites mean grade get better as time goes on?\n",
    "$H_0$: humanities mean grades in 2007 = humanities mean grades in 2017 <br>\n",
    "$H_A$: humanities mean grades in 2007 != humanities mean grades in 2017 <br>\n",
    "yet again we will be using alpha of 0.05"
   ]
  },
  {
   "cell_type": "code",
   "execution_count": 29,
   "metadata": {},
   "outputs": [
    {
     "data": {
      "text/plain": [
       "0.3995269595910631"
      ]
     },
     "execution_count": 29,
     "metadata": {},
     "output_type": "execute_result"
    }
   ],
   "source": [
    "#find statistics for a hypothesis test\n",
    "hum_o_seven_mean = df_humanites.loc[df_humanites.year == '2007'].grade_ratio.mean()\n",
    "hum_o_seven_std = df_humanites.loc[df_humanites.year == '2007'].grade_ratio.std()\n",
    "hum_seventeen_mean = df_humanites.loc[df_humanites.year == '2017'].grade_ratio.mean()\n",
    "\n",
    "\n",
    "#perform hypothesis test\n",
    "hum_z_score = ((hum_seventeen_mean -\n",
    "                      hum_o_seven_mean)/\n",
    "                     hum_o_seven_std)\n",
    "\n",
    "hum_decade_results = stats.norm.sf(hum_z_score)\n",
    "hum_decade_results"
   ]
  },
  {
   "cell_type": "code",
   "execution_count": 30,
   "metadata": {},
   "outputs": [
    {
     "data": {
      "text/plain": [
       "False"
      ]
     },
     "execution_count": 30,
     "metadata": {},
     "output_type": "execute_result"
    }
   ],
   "source": [
    "hum_decade_results < alpha"
   ]
  },
  {
   "cell_type": "code",
   "execution_count": 163,
   "metadata": {},
   "outputs": [
    {
     "data": {
      "image/png": "[encoded data removed]",
      "text/plain": [
       "<Figure size 432x288 with 1 Axes>"
      ]
     },
     "metadata": {
      "needs_background": "light"
     },
     "output_type": "display_data"
    }
   ],
   "source": [
    "x = (hum_o_seven_mean, hum_seventeen_mean)\n",
    "plt.hist(x);"
   ]
  },
  {
   "cell_type": "code",
   "execution_count": null,
   "metadata": {},
   "outputs": [],
   "source": []
  },
  {
   "cell_type": "markdown",
   "metadata": {},
   "source": [
    "#####  based on our findings, we cannot at this time reject $H_0$"
   ]
  },
  {
   "cell_type": "markdown",
   "metadata": {},
   "source": [
    "### do longer classes have higher mean grades than shorter classes?\n",
    "$H_0$: longer class mean grade = shorter class mean grade <br>\n",
    "$H_A$: longer class mean grade > shorter class mean grade <br>\n",
    "we will be using alpha of 0.05"
   ]
  },
  {
   "cell_type": "code",
   "execution_count": 31,
   "metadata": {},
   "outputs": [],
   "source": [
    "#make new column to measure the length of time in minutes\n",
    "df_join['class_duration'] = (df_join.end_time - \n",
    "                             df_join.start_time)"
   ]
  },
  {
   "cell_type": "code",
   "execution_count": 32,
   "metadata": {},
   "outputs": [
    {
     "data": {
      "text/plain": [
       "array([ 50,  75,   0,  85, 100,  80,  60, 120, 200, 150, 115, 160, 180,\n",
       "       110,  90, 105,  55, 130, 155, 170, 145, 210, 165, 140,  70, 480,\n",
       "       240, 510, 540,  95, 660, 720,  72, 300, 360, 520, 420, 270, 195,\n",
       "       450,  45, 226, 125, 190, 175, 135, 245, 265, 250,  25, 225,   5,\n",
       "       255, 189, 215,  65, 570, 435, 465, 205,  30, 390, 810, 330, 181,\n",
       "        64,  40, 220, 185, 600,  88, 119, 555, 539, 630, 500,  35, 113,\n",
       "       770, 325, 340, 690, 525, 645])"
      ]
     },
     "execution_count": 32,
     "metadata": {},
     "output_type": "execute_result"
    }
   ],
   "source": [
    "#find a good short and long class time to use\n",
    "#we settle with 50 minutes for short and\n",
    "#120 minutes for long\n",
    "df_join.class_duration.unique()"
   ]
  },
  {
   "cell_type": "code",
   "execution_count": 33,
   "metadata": {},
   "outputs": [
    {
     "data": {
      "text/plain": [
       "0.21377535441649897"
      ]
     },
     "execution_count": 33,
     "metadata": {},
     "output_type": "execute_result"
    }
   ],
   "source": [
    "#find statistics for a hypothesis test\n",
    "fifty_mean = df_join.loc[df_join.class_duration == 50].grade_ratio.mean()\n",
    "fifty_std = df_join.loc[df_join.class_duration == 50].grade_ratio.std()\n",
    "one_twenty_mean = df_join.loc[df_join.class_duration == 120].grade_ratio.mean()\n",
    "\n",
    "#perform hypothesis test\n",
    "class_duration_z_score = ((one_twenty_mean -\n",
    "                          fifty_mean)/fifty_std)\n",
    "class_hypo_results = stats.norm.sf(class_duration_z_score)\n",
    "class_hypo_results"
   ]
  },
  {
   "cell_type": "code",
   "execution_count": 157,
   "metadata": {},
   "outputs": [
    {
     "data": {
      "text/plain": [
       "34273"
      ]
     },
     "execution_count": 157,
     "metadata": {},
     "output_type": "execute_result"
    }
   ],
   "source": [
    "len(df_join.loc[df_join.class_duration == 50].grade_ratio)"
   ]
  },
  {
   "cell_type": "code",
   "execution_count": 158,
   "metadata": {},
   "outputs": [],
   "source": [
    "#find statistics for a hypothesis test\n",
    "fifty_mean = df_join.loc[df_join.class_duration == 50].grade_ratio.mean()\n",
    "fifty_std = df_join.loc[df_join.class_duration == 50].grade_ratio.std()\n",
    "one_twenty_mean = df_join.loc[df_join.class_duration == 120].grade_ratio.mean()\n",
    "one_twenty_std = df_join.loc[df_join.class_duration == 120].grade_ratio.std()\n",
    "\n",
    "\n",
    "#perform hypothesis test\n",
    "class_size_t_score = ((one_twenty_mean - fifty_mean)/\n",
    "                      math.sqrt(((one_twenty_std**2)/7556)+\n",
    "                                ((fifty_std**2)/34273)))\n"
   ]
  },
  {
   "cell_type": "code",
   "execution_count": 159,
   "metadata": {},
   "outputs": [
    {
     "data": {
      "text/plain": [
       "70.49929543812506"
      ]
     },
     "execution_count": 159,
     "metadata": {},
     "output_type": "execute_result"
    }
   ],
   "source": [
    "class_size_t_score"
   ]
  },
  {
   "cell_type": "code",
   "execution_count": 34,
   "metadata": {},
   "outputs": [
    {
     "data": {
      "text/plain": [
       "False"
      ]
     },
     "execution_count": 34,
     "metadata": {},
     "output_type": "execute_result"
    }
   ],
   "source": [
    "class_hypo_results < alpha"
   ]
  },
  {
   "cell_type": "markdown",
   "metadata": {},
   "source": [
    "#####  based on our findings, we cannot at this time reject $H_0$"
   ]
  },
  {
   "cell_type": "markdown",
   "metadata": {},
   "source": [
    "### do larger classes have lower mean grades than shorter classes?\n",
    "$H_0$: larger class mean grade = smaller class mean grade <br>\n",
    "$H_A$: larger class mean grade != smaller class mean grade <br>\n",
    "we will be using alpha of 0.05"
   ]
  },
  {
   "cell_type": "code",
   "execution_count": 75,
   "metadata": {},
   "outputs": [],
   "source": [
    "#make new column to measure the size of classes\n",
    "size_grades = df_join[['student_count', 'grade_ratio']]"
   ]
  },
  {
   "cell_type": "code",
   "execution_count": 148,
   "metadata": {},
   "outputs": [
    {
     "name": "stdout",
     "output_type": "stream",
     "text": [
      "<class 'pandas.core.frame.DataFrame'>\n",
      "RangeIndex: 117352 entries, 0 to 117351\n",
      "Data columns (total 2 columns):\n",
      "student_count    117352 non-null int64\n",
      "grade_ratio      102458 non-null float64\n",
      "dtypes: float64(1), int64(1)\n",
      "memory usage: 1.8 MB\n"
     ]
    }
   ],
   "source": [
    "size_grades.info()"
   ]
  },
  {
   "cell_type": "code",
   "execution_count": 76,
   "metadata": {},
   "outputs": [],
   "source": [
    "size_grades_final = size_grades.groupby(['student_count']).mean().reset_index()"
   ]
  },
  {
   "cell_type": "code",
   "execution_count": 77,
   "metadata": {
    "scrolled": true
   },
   "outputs": [
    {
     "name": "stdout",
     "output_type": "stream",
     "text": [
      "The 25% quantile class size is 127.5\n",
      "The 50% quantile class size is 255.0\n",
      "The 75% quantile class size is 382.5\n"
     ]
    }
   ],
   "source": [
    "print('The 25% quantile class size is ' + f\"{size_grades_final['student_count'].quantile(.25)}\")\n",
    "print('The 50% quantile class size is ' + f\"{size_grades_final['student_count'].quantile(.50)}\")\n",
    "print('The 75% quantile class size is ' + f\"{size_grades_final['student_count'].quantile(.75)}\")"
   ]
  },
  {
   "cell_type": "markdown",
   "metadata": {},
   "source": [
    "Based on this information, we are going to designate classes over 255 students a large a class size for this university. "
   ]
  },
  {
   "cell_type": "code",
   "execution_count": 166,
   "metadata": {},
   "outputs": [],
   "source": [
    "classes_large_mean = size_grades_final.loc[size_grades_final['student_count'] >= 255].mean()[1]"
   ]
  },
  {
   "cell_type": "code",
   "execution_count": 167,
   "metadata": {},
   "outputs": [
    {
     "data": {
      "text/plain": [
       "3.214740942278443"
      ]
     },
     "execution_count": 167,
     "metadata": {},
     "output_type": "execute_result"
    }
   ],
   "source": [
    "classes_large_mean"
   ]
  },
  {
   "cell_type": "code",
   "execution_count": 105,
   "metadata": {},
   "outputs": [],
   "source": [
    "classes_large_std = size_grades_final.loc[size_grades_final['student_count'] >= 255].std()[1]"
   ]
  },
  {
   "cell_type": "code",
   "execution_count": 106,
   "metadata": {},
   "outputs": [
    {
     "data": {
      "text/plain": [
       "0.28089690558655256"
      ]
     },
     "execution_count": 106,
     "metadata": {},
     "output_type": "execute_result"
    }
   ],
   "source": [
    "classes_large_std "
   ]
  },
  {
   "cell_type": "code",
   "execution_count": 107,
   "metadata": {},
   "outputs": [],
   "source": [
    "classes_small_mean = size_grades_final.loc[size_grades_final['student_count'] < 255].mean()[1]"
   ]
  },
  {
   "cell_type": "code",
   "execution_count": 108,
   "metadata": {},
   "outputs": [
    {
     "data": {
      "text/plain": [
       "3.334769081144078"
      ]
     },
     "execution_count": 108,
     "metadata": {},
     "output_type": "execute_result"
    }
   ],
   "source": [
    "classes_small_mean"
   ]
  },
  {
   "cell_type": "code",
   "execution_count": 124,
   "metadata": {},
   "outputs": [
    {
     "name": "stdout",
     "output_type": "stream",
     "text": [
      "<class 'pandas.core.frame.DataFrame'>\n",
      "RangeIndex: 511 entries, 0 to 510\n",
      "Data columns (total 2 columns):\n",
      "student_count    511 non-null int64\n",
      "grade_ratio      510 non-null float64\n",
      "dtypes: float64(1), int64(1)\n",
      "memory usage: 8.1 KB\n"
     ]
    }
   ],
   "source": [
    "size_grades_final.info()"
   ]
  },
  {
   "cell_type": "code",
   "execution_count": 109,
   "metadata": {},
   "outputs": [],
   "source": [
    "classes_small_std = size_grades_final.loc[size_grades_final['student_count'] < 255].std()[1]"
   ]
  },
  {
   "cell_type": "code",
   "execution_count": 110,
   "metadata": {},
   "outputs": [
    {
     "data": {
      "text/plain": [
       "0.15403641524074818"
      ]
     },
     "execution_count": 110,
     "metadata": {},
     "output_type": "execute_result"
    }
   ],
   "source": [
    "classes_small_std"
   ]
  },
  {
   "cell_type": "code",
   "execution_count": 169,
   "metadata": {},
   "outputs": [
    {
     "name": "stdout",
     "output_type": "stream",
     "text": [
      "<class 'pandas.core.frame.DataFrame'>\n",
      "Int64Index: 255 entries, 0 to 254\n",
      "Data columns (total 2 columns):\n",
      "student_count    255 non-null int64\n",
      "grade_ratio      254 non-null float64\n",
      "dtypes: float64(1), int64(1)\n",
      "memory usage: 6.0 KB\n"
     ]
    }
   ],
   "source": [
    "size_grades_final.loc[size_grades_final['student_count'] < 255].info()"
   ]
  },
  {
   "cell_type": "code",
   "execution_count": 170,
   "metadata": {},
   "outputs": [
    {
     "data": {
      "text/plain": [
       "-5.971207385553882"
      ]
     },
     "execution_count": 170,
     "metadata": {},
     "output_type": "execute_result"
    }
   ],
   "source": [
    "import math\n",
    "\n",
    "#find statistics for a hypothesis test\n",
    "small_mean = classes_small_mean\n",
    "small_std = classes_small_std\n",
    "large_mean = classes_large_mean\n",
    "large_std = classes_large_std\n",
    "\n",
    "#perform hypothesis test\n",
    "class_size_t_score = ((large_mean - small_mean)/\n",
    "                      math.sqrt(((classes_large_std**2)/254)+\n",
    "                                ((classes_small_std**2)/254)))\n",
    "\n",
    "\n",
    "class_size_t_score\n",
    "\n",
    "#stats.t.sf(class_size_t_score,1576,115759)"
   ]
  },
  {
   "cell_type": "markdown",
   "metadata": {},
   "source": [
    "#####  based on our findings, we cannot at this time reject $H_0$"
   ]
  },
  {
   "cell_type": "code",
   "execution_count": 45,
   "metadata": {},
   "outputs": [],
   "source": [
    "import seaborn as sns"
   ]
  },
  {
   "cell_type": "code",
   "execution_count": 46,
   "metadata": {},
   "outputs": [
    {
     "data": {
      "image/png": "[encoded data removed]",
      "text/plain": [
       "<Figure size 432x288 with 1 Axes>"
      ]
     },
     "metadata": {},
     "output_type": "display_data"
    }
   ],
   "source": [
    "sns.set(style=\"whitegrid\")\n",
    "ax = sns.boxplot(x=size_grades_final['student_count'], \n",
    "                 orient=\"h\", palette=\"Set2\", width=0.5)\n"
   ]
  },
  {
   "cell_type": "code",
   "execution_count": 47,
   "metadata": {},
   "outputs": [],
   "source": [
    "import matplotlib.pyplot as plt\n",
    "import matplotlib\n",
    "%matplotlib inline"
   ]
  },
  {
   "cell_type": "code",
   "execution_count": 48,
   "metadata": {},
   "outputs": [],
   "source": [
    "class_time_hours = df_join['class_duration'].divide(60)"
   ]
  },
  {
   "cell_type": "code",
   "execution_count": 49,
   "metadata": {},
   "outputs": [
    {
     "data": {
      "text/plain": [
       "(array([8.1859e+04, 2.4819e+04, 7.5230e+03, 5.6300e+02, 8.4000e+01,\n",
       "        2.8100e+02, 5.0600e+02, 3.3300e+02, 1.3820e+03, 2.0000e+00]),\n",
       " array([ 0.  ,  1.35,  2.7 ,  4.05,  5.4 ,  6.75,  8.1 ,  9.45, 10.8 ,\n",
       "        12.15, 13.5 ]),\n",
       " <a list of 10 Patch objects>)"
      ]
     },
     "execution_count": 49,
     "metadata": {},
     "output_type": "execute_result"
    },
    {
     "data": {
      "image/png": "[encoded data removed]",
      "text/plain": [
       "<Figure size 432x288 with 1 Axes>"
      ]
     },
     "metadata": {
      "needs_background": "light"
     },
     "output_type": "display_data"
    }
   ],
   "source": [
    "plt.xlabel('Hours')\n",
    "plt.ylabel('Number of classes')\n",
    "plt.title('Duration of classes at UW-Madison')\n",
    "plt.hist(class_time_hours)"
   ]
  },
  {
   "cell_type": "code",
   "execution_count": 50,
   "metadata": {},
   "outputs": [
    {
     "name": "stderr",
     "output_type": "stream",
     "text": [
      "/Users/sherzyang/anaconda3/lib/python3.7/site-packages/numpy/lib/histograms.py:754: RuntimeWarning: invalid value encountered in greater_equal\n",
      "  keep = (tmp_a >= first_edge)\n",
      "/Users/sherzyang/anaconda3/lib/python3.7/site-packages/numpy/lib/histograms.py:755: RuntimeWarning: invalid value encountered in less_equal\n",
      "  keep &= (tmp_a <= last_edge)\n"
     ]
    },
    {
     "data": {
      "image/png": "[encoded data removed]",
      "text/plain": [
       "<Figure size 432x288 with 1 Axes>"
      ]
     },
     "metadata": {
      "needs_background": "light"
     },
     "output_type": "display_data"
    }
   ],
   "source": [
    "plt.xlabel('GPA')\n",
    "plt.ylabel('Number of scores')\n",
    "plt.title('STEM grade distribution 2006-2017')\n",
    "plt.hist(df_STEM.grade_ratio);"
   ]
  },
  {
   "cell_type": "code",
   "execution_count": 51,
   "metadata": {},
   "outputs": [
    {
     "data": {
      "image/png": "[encoded data removed]",
      "text/plain": [
       "<Figure size 432x288 with 1 Axes>"
      ]
     },
     "metadata": {
      "needs_background": "light"
     },
     "output_type": "display_data"
    }
   ],
   "source": [
    "plt.xlabel('GPA')\n",
    "plt.ylabel('Number of scores')\n",
    "plt.title('Humanities grade distribution 2006-2017')\n",
    "plt.hist(df_humanites.grade_ratio);"
   ]
  },
  {
   "cell_type": "code",
   "execution_count": null,
   "metadata": {},
   "outputs": [],
   "source": []
  }
 ],
 "metadata": {
  "kernelspec": {
   "display_name": "Python 3",
   "language": "python",
   "name": "python3"
  },
  "language_info": {
   "codemirror_mode": {
    "name": "ipython",
    "version": 3
   },
   "file_extension": ".py",
   "mimetype": "text/x-python",
   "name": "python",
   "nbconvert_exporter": "python",
   "pygments_lexer": "ipython3",
   "version": "3.7.1"
  }
 },
 "nbformat": 4,
 "nbformat_minor": 2
}
