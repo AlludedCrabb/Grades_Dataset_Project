{
 "cells": [
  {
   "cell_type": "markdown",
   "metadata": {},
   "source": [
    "# Business Understanding:\n",
    "\n",
    "We are to evaluate UW-Madison to see if it qualifies for Jenkins's yearly donation.\n",
    "Our evaluation metric will be the school's grade-points-per-credit system\n",
    "<img src=\"school_weighted_metric.png\" alt=\"grade point per credit chart\" height=\"320\" width=\"480\">\n",
    "\n",
    "\n",
    "## Jenkins Criteria:\n",
    "<ol>\n",
    "    <li>STEM education</li>\n",
    "\t<li>STEM progression</li>\n",
    "\t<li>Class duration</li>\n",
    "\t<li>Class size</li>\n",
    "</ol>\n",
    "\n",
    "We translate these criteria into 4 questions:\n",
    "\n",
    "<ol>\n",
    "    <li>Do STEM courses produce worse grades than the humanities?</li>\n",
    "\t<li>Do STEM mean grades improve as time goes on?</li>\n",
    "\t<li>Do longer classes produce higher mean grades than shorter classes?</li>\n",
    "\t<li>Do larger class sizes produce lower mean grades than smaller ones?</li>\n",
    "</ol>"
   ]
  },
  {
   "cell_type": "markdown",
   "metadata": {},
   "source": [
    "# Data Understanding:\n",
    "\n",
    "We have been provided the school's raw data in csv format for the following:\n",
    "\n",
    "course_offerings\n",
    "courses\n",
    "grade_distributions\n",
    "instructors\n",
    "rooms\n",
    "schedules\n",
    "sections\n",
    "subject_memberships\n",
    "subjects\n",
    "teachings\n",
    "\n",
    "We will be using this data, along with other resources from their website.\n"
   ]
  },
  {
   "cell_type": "markdown",
   "metadata": {},
   "source": [
    "# Data Preperation:\n",
    "We will now build a psql database to hold the data, insert tables for each file we've been given, and fill each table with the appropriate information. <br>\n",
    "After that we build a query to get all information related to our questions.<br>\n",
    "Then we separate STEM from humanities, make dataframes for each, and convert individual grade counts to the school's grade-points-per-credit system"
   ]
  },
  {
   "cell_type": "code",
   "execution_count": 2,
   "metadata": {},
   "outputs": [],
   "source": [
    "#import our libraries\n",
    "import psycopg2\n",
    "import csv\n",
    "import glob\n",
    "import numpy as np \n",
    "import pandas as pd\n",
    "import seaborn as sns\n",
    "from scipy import stats\n",
    "import matplotlib.pyplot as plt\n",
    "import matplotlib\n",
    "%matplotlib inline"
   ]
  },
  {
   "cell_type": "code",
   "execution_count": 3,
   "metadata": {},
   "outputs": [],
   "source": [
    "#create the database\n",
    "\n",
    "!createdb mod2project\n"
   ]
  },
  {
   "cell_type": "code",
   "execution_count": 4,
   "metadata": {},
   "outputs": [],
   "source": [
    "#connect to the database and make a cursor\n",
    "conn = psycopg2.connect(\"dbname=mod2project\")\n",
    "cur = conn.cursor()"
   ]
  },
  {
   "cell_type": "markdown",
   "metadata": {},
   "source": [
    "#### Make the tables to hold our data:"
   ]
  },
  {
   "cell_type": "code",
   "execution_count": 5,
   "metadata": {},
   "outputs": [],
   "source": [
    "#set up our SQL tables\n",
    "create_query_1 = \"\"\"\n",
    "CREATE TABLE course_offerings(\n",
    "  uuid text\n",
    ", course_uuid text \n",
    ", term_code integer\n",
    ", name text\n",
    ")\n",
    "\"\"\"\n",
    "\n",
    "create_query_2 = \"\"\"\n",
    "CREATE TABLE courses(\n",
    "  uuid text \n",
    ", name text \n",
    ", number integer\n",
    ")\n",
    "\"\"\"\n",
    "\n",
    "create_query_3 = \"\"\"\n",
    "CREATE TABLE grade_distributions(\n",
    "  course_offering_uuid text\n",
    ", section_number text \n",
    ", a_count integer\n",
    ", ab_count integer\n",
    ", b_count integer\n",
    ", bc_count integer\n",
    ", c_count integer\n",
    ", d_count integer\n",
    ", f_count integer\n",
    ", s_count integer\n",
    ", u_count integer\n",
    ", cr_count integer\n",
    ", n_count integer\n",
    ", p_count integer\n",
    ", i_count integer\n",
    ", nw_count integer\n",
    ", nr_count integer\n",
    ", other_count integer\n",
    ")\n",
    "\"\"\"\n",
    "\n",
    "create_query_4 = \"\"\"\n",
    "CREATE TABLE instructors(\n",
    "  id integer\n",
    ", name text\n",
    ")\n",
    "\"\"\"\n",
    "\n",
    "create_query_5 = \"\"\"\n",
    "CREATE TABLE rooms(\n",
    "  uuid text\n",
    ", facility_code text\n",
    ", room_code text\n",
    ")\n",
    "\"\"\"\n",
    "\n",
    "create_query_6 =\"\"\"\n",
    "CREATE TABLE schedules(\n",
    "  uuid text\n",
    ", start_time integer\n",
    ", end_time integer\n",
    ", mon text\n",
    ", tues text\n",
    ", wed text\n",
    ", thurs text\n",
    ", fri text\n",
    ", sat text\n",
    ", sun text\n",
    ")\n",
    "\"\"\"\n",
    "\n",
    "create_query_7 = \"\"\"\n",
    "CREATE TABLE sections(\n",
    "  uuid text\n",
    ", course_offering_uuid text\n",
    ", section_type text\n",
    ", number text\n",
    ", room_uuid text\n",
    ",schedule_uuid text\n",
    ")\n",
    "\"\"\"\n",
    "\n",
    "create_query_8 = \"\"\"\n",
    "CREATE TABLE subject_memberships(\n",
    "  subject_code integer\n",
    ", course_offering_uuid text\n",
    ")\n",
    "\"\"\"\n",
    "\n",
    "create_query_9 = \"\"\"\n",
    "CREATE TABLE subjects(\n",
    "  code text\n",
    ", name text\n",
    ", abbreviation text\n",
    ")\n",
    "\"\"\"\n",
    "\n",
    "create_query_10 = \"\"\"\n",
    "CREATE TABLE teachings(\n",
    "  instructor_id integer\n",
    ", section_uuid text\n",
    ")\n",
    "\"\"\""
   ]
  },
  {
   "cell_type": "code",
   "execution_count": 6,
   "metadata": {},
   "outputs": [],
   "source": [
    "#get the names and locations of our datafiles\n",
    "csvs_for_table = glob.glob('raw_data/*.csv')"
   ]
  },
  {
   "cell_type": "code",
   "execution_count": 7,
   "metadata": {},
   "outputs": [],
   "source": [
    "#make a list of our queries\n",
    "queries_list = [create_query_1,create_query_2,create_query_3,create_query_4\n",
    "               ,create_query_5,create_query_6,create_query_7\n",
    "               ,create_query_8,create_query_9,create_query_10]"
   ]
  },
  {
   "cell_type": "code",
   "execution_count": 8,
   "metadata": {},
   "outputs": [],
   "source": [
    "#extract table names from our file names\n",
    "table_names = [x.split('/')[1][:-4] for x in csvs_for_table]"
   ]
  },
  {
   "cell_type": "code",
   "execution_count": 9,
   "metadata": {},
   "outputs": [],
   "source": [
    "#loop through our queries list and execute them\n",
    "\n",
    "for query in queries_list:\n",
    "    cur.execute(query)\n",
    "    conn.commit()"
   ]
  },
  {
   "cell_type": "markdown",
   "metadata": {},
   "source": [
    "#### Insert data into our tables:"
   ]
  },
  {
   "cell_type": "code",
   "execution_count": 10,
   "metadata": {
    "scrolled": true
   },
   "outputs": [],
   "source": [
    "# #loop through our table names and indexes\n",
    "for q_num, table_name in enumerate(table_names):\n",
    "    \n",
    "    #extract values from our first queries to use\n",
    "    #in our insert statements below\n",
    "    fields = tuple(line.strip(\", \").split()[0] for \n",
    "                   line in queries_list[q_num].split('\\n')[2:-2])\n",
    "    \n",
    "    #set up our insert statements\n",
    "    query = f'''\n",
    "    INSERT INTO {table_name}\n",
    "    ({', '.join(fields)})\n",
    "    VALUES ({', '.join('%s' for _ in range(len(fields)))})\n",
    "    '''\n",
    "        \n",
    "    \n",
    "    #open each file and insert it's values row\n",
    "    #by row into the appropriate tables\n",
    "    with open(csvs_for_table[q_num], 'r') as file:\n",
    "        reader = csv.reader(file)\n",
    "        next(reader)  # Skip the header row.\n",
    "        for row in reader:\n",
    "            cur.execute(\n",
    "                query,\n",
    "                row\n",
    "            )\n",
    "            conn.commit()\n",
    "            \n"
   ]
  },
  {
   "cell_type": "markdown",
   "metadata": {},
   "source": [
    "#### Make the query for our information:"
   ]
  },
  {
   "cell_type": "code",
   "execution_count": 11,
   "metadata": {},
   "outputs": [],
   "source": [
    "#build our query\n",
    "q = \"\"\"\n",
    "SELECT DISTINCT\n",
    "  sub_m.subject_code\n",
    ", sub_j.name AS sub_j_name\n",
    ", grade_d.a_count\n",
    ", grade_d.ab_count\n",
    ", grade_d.b_count\n",
    ", grade_d.bc_count\n",
    ", grade_d.c_count\n",
    ", grade_d.d_count\n",
    ", grade_d.f_count\n",
    ", grade_d.s_count\n",
    ", grade_d.u_count\n",
    ", grade_d.cr_count\n",
    ", grade_d.n_count\n",
    ", grade_d.p_count\n",
    ", grade_d.i_count\n",
    ", grade_d.nw_count\n",
    ", grade_d.nr_count\n",
    ", grade_d.other_count\n",
    ", sch.start_time\n",
    ", sch.end_time\n",
    ",\n",
    "\n",
    "  CASE\n",
    "        WHEN term_code BETWEEN 1063 AND 1073 THEN '2006'\n",
    "        WHEN term_code BETWEEN 1073 AND 1083 THEN '2007'\n",
    "        WHEN term_code BETWEEN 1083 AND 1093 THEN '2008'\n",
    "        WHEN term_code BETWEEN 1093 AND 1103 THEN '2009'\n",
    "        WHEN term_code BETWEEN 1103 AND 1113 THEN '2010'\n",
    "        WHEN term_code BETWEEN 1113 AND 1123 THEN '2011'\n",
    "        WHEN term_code BETWEEN 1123 AND 1133 THEN '2012'\n",
    "        WHEN term_code BETWEEN 1133 AND 1143 THEN '2013'\n",
    "        WHEN term_code BETWEEN 1143 AND 1153 THEN '2014'\n",
    "        WHEN term_code BETWEEN 1153 AND 1163 THEN '2015'\n",
    "        WHEN term_code BETWEEN 1163 AND 1173 THEN '2016'\n",
    "        WHEN term_code BETWEEN 1173 AND 1183 THEN '2017'\n",
    "        ELSE 'the_world_is_over'\n",
    "    END AS Year\n",
    "    \n",
    "\n",
    "FROM grade_distributions AS grade_d\n",
    "\n",
    "JOIN sections sect\n",
    "  ON sect.course_offering_uuid = grade_d.course_offering_uuid\n",
    "  AND sect.number = grade_d.section_number\n",
    "\n",
    "JOIN subject_memberships sub_m\n",
    "  ON grade_d.course_offering_uuid = sub_m.course_offering_uuid\n",
    "  \n",
    "\n",
    "JOIN course_offerings cor_o\n",
    "  ON cor_o.uuid = grade_d.course_offering_uuid\n",
    "\n",
    "\n",
    "JOIN schedules sch\n",
    "  ON sect.schedule_uuid = sch.uuid\n",
    "  \n",
    "JOIN subjects sub_j\n",
    "  ON cast(sub_m.subject_code as text) = cast(sub_j.code as text)\n",
    "\n",
    "\"\"\""
   ]
  },
  {
   "cell_type": "code",
   "execution_count": 12,
   "metadata": {
    "scrolled": false
   },
   "outputs": [],
   "source": [
    "#put our query into a dataframe\n",
    "df_join = pd.read_sql_query(q,con=conn)"
   ]
  },
  {
   "cell_type": "code",
   "execution_count": 13,
   "metadata": {
    "scrolled": true
   },
   "outputs": [
    {
     "data": {
      "text/html": [
       "<div>\n",
       "<style scoped>\n",
       "    .dataframe tbody tr th:only-of-type {\n",
       "        vertical-align: middle;\n",
       "    }\n",
       "\n",
       "    .dataframe tbody tr th {\n",
       "        vertical-align: top;\n",
       "    }\n",
       "\n",
       "    .dataframe thead th {\n",
       "        text-align: right;\n",
       "    }\n",
       "</style>\n",
       "<table border=\"1\" class=\"dataframe\">\n",
       "  <thead>\n",
       "    <tr style=\"text-align: right;\">\n",
       "      <th></th>\n",
       "      <th>subject_code</th>\n",
       "      <th>sub_j_name</th>\n",
       "      <th>a_count</th>\n",
       "      <th>ab_count</th>\n",
       "      <th>b_count</th>\n",
       "      <th>bc_count</th>\n",
       "      <th>c_count</th>\n",
       "      <th>d_count</th>\n",
       "      <th>f_count</th>\n",
       "      <th>s_count</th>\n",
       "      <th>...</th>\n",
       "      <th>cr_count</th>\n",
       "      <th>n_count</th>\n",
       "      <th>p_count</th>\n",
       "      <th>i_count</th>\n",
       "      <th>nw_count</th>\n",
       "      <th>nr_count</th>\n",
       "      <th>other_count</th>\n",
       "      <th>start_time</th>\n",
       "      <th>end_time</th>\n",
       "      <th>year</th>\n",
       "    </tr>\n",
       "  </thead>\n",
       "  <tbody>\n",
       "    <tr>\n",
       "      <th>0</th>\n",
       "      <td>102</td>\n",
       "      <td>Air Force Aerospace Studies</td>\n",
       "      <td>0</td>\n",
       "      <td>0</td>\n",
       "      <td>0</td>\n",
       "      <td>0</td>\n",
       "      <td>0</td>\n",
       "      <td>0</td>\n",
       "      <td>0</td>\n",
       "      <td>0</td>\n",
       "      <td>...</td>\n",
       "      <td>0</td>\n",
       "      <td>0</td>\n",
       "      <td>0</td>\n",
       "      <td>0</td>\n",
       "      <td>0</td>\n",
       "      <td>0</td>\n",
       "      <td>0</td>\n",
       "      <td>530</td>\n",
       "      <td>580</td>\n",
       "      <td>2017</td>\n",
       "    </tr>\n",
       "    <tr>\n",
       "      <th>1</th>\n",
       "      <td>102</td>\n",
       "      <td>Air Force Aerospace Studies</td>\n",
       "      <td>0</td>\n",
       "      <td>0</td>\n",
       "      <td>0</td>\n",
       "      <td>0</td>\n",
       "      <td>0</td>\n",
       "      <td>0</td>\n",
       "      <td>0</td>\n",
       "      <td>0</td>\n",
       "      <td>...</td>\n",
       "      <td>0</td>\n",
       "      <td>0</td>\n",
       "      <td>0</td>\n",
       "      <td>0</td>\n",
       "      <td>0</td>\n",
       "      <td>0</td>\n",
       "      <td>0</td>\n",
       "      <td>960</td>\n",
       "      <td>1035</td>\n",
       "      <td>2008</td>\n",
       "    </tr>\n",
       "    <tr>\n",
       "      <th>2</th>\n",
       "      <td>102</td>\n",
       "      <td>Air Force Aerospace Studies</td>\n",
       "      <td>0</td>\n",
       "      <td>0</td>\n",
       "      <td>0</td>\n",
       "      <td>0</td>\n",
       "      <td>0</td>\n",
       "      <td>0</td>\n",
       "      <td>0</td>\n",
       "      <td>0</td>\n",
       "      <td>...</td>\n",
       "      <td>0</td>\n",
       "      <td>0</td>\n",
       "      <td>0</td>\n",
       "      <td>0</td>\n",
       "      <td>0</td>\n",
       "      <td>0</td>\n",
       "      <td>0</td>\n",
       "      <td>960</td>\n",
       "      <td>1035</td>\n",
       "      <td>2009</td>\n",
       "    </tr>\n",
       "    <tr>\n",
       "      <th>3</th>\n",
       "      <td>102</td>\n",
       "      <td>Air Force Aerospace Studies</td>\n",
       "      <td>1</td>\n",
       "      <td>2</td>\n",
       "      <td>4</td>\n",
       "      <td>3</td>\n",
       "      <td>1</td>\n",
       "      <td>0</td>\n",
       "      <td>0</td>\n",
       "      <td>0</td>\n",
       "      <td>...</td>\n",
       "      <td>0</td>\n",
       "      <td>0</td>\n",
       "      <td>0</td>\n",
       "      <td>0</td>\n",
       "      <td>0</td>\n",
       "      <td>0</td>\n",
       "      <td>0</td>\n",
       "      <td>530</td>\n",
       "      <td>580</td>\n",
       "      <td>2007</td>\n",
       "    </tr>\n",
       "    <tr>\n",
       "      <th>4</th>\n",
       "      <td>102</td>\n",
       "      <td>Air Force Aerospace Studies</td>\n",
       "      <td>1</td>\n",
       "      <td>4</td>\n",
       "      <td>1</td>\n",
       "      <td>0</td>\n",
       "      <td>0</td>\n",
       "      <td>0</td>\n",
       "      <td>0</td>\n",
       "      <td>0</td>\n",
       "      <td>...</td>\n",
       "      <td>0</td>\n",
       "      <td>0</td>\n",
       "      <td>0</td>\n",
       "      <td>0</td>\n",
       "      <td>1</td>\n",
       "      <td>0</td>\n",
       "      <td>0</td>\n",
       "      <td>530</td>\n",
       "      <td>580</td>\n",
       "      <td>2008</td>\n",
       "    </tr>\n",
       "  </tbody>\n",
       "</table>\n",
       "<p>5 rows × 21 columns</p>\n",
       "</div>"
      ],
      "text/plain": [
       "   subject_code                   sub_j_name  a_count  ab_count  b_count  \\\n",
       "0           102  Air Force Aerospace Studies        0         0        0   \n",
       "1           102  Air Force Aerospace Studies        0         0        0   \n",
       "2           102  Air Force Aerospace Studies        0         0        0   \n",
       "3           102  Air Force Aerospace Studies        1         2        4   \n",
       "4           102  Air Force Aerospace Studies        1         4        1   \n",
       "\n",
       "   bc_count  c_count  d_count  f_count  s_count  ...  cr_count  n_count  \\\n",
       "0         0        0        0        0        0  ...         0        0   \n",
       "1         0        0        0        0        0  ...         0        0   \n",
       "2         0        0        0        0        0  ...         0        0   \n",
       "3         3        1        0        0        0  ...         0        0   \n",
       "4         0        0        0        0        0  ...         0        0   \n",
       "\n",
       "   p_count  i_count  nw_count  nr_count  other_count  start_time  end_time  \\\n",
       "0        0        0         0         0            0         530       580   \n",
       "1        0        0         0         0            0         960      1035   \n",
       "2        0        0         0         0            0         960      1035   \n",
       "3        0        0         0         0            0         530       580   \n",
       "4        0        0         1         0            0         530       580   \n",
       "\n",
       "   year  \n",
       "0  2017  \n",
       "1  2008  \n",
       "2  2009  \n",
       "3  2007  \n",
       "4  2008  \n",
       "\n",
       "[5 rows x 21 columns]"
      ]
     },
     "execution_count": 13,
     "metadata": {},
     "output_type": "execute_result"
    }
   ],
   "source": [
    "df_join.head()"
   ]
  },
  {
   "cell_type": "markdown",
   "metadata": {},
   "source": [
    "#### Define what is and isn't STEM and create dataframes for each:"
   ]
  },
  {
   "cell_type": "code",
   "execution_count": 14,
   "metadata": {},
   "outputs": [],
   "source": [
    "#create a unique set of course names\n",
    "all_courses = set(df_join.sub_j_name)"
   ]
  },
  {
   "cell_type": "code",
   "execution_count": 15,
   "metadata": {},
   "outputs": [],
   "source": [
    "#make a list of humanites\n",
    "humanities = {'African Languages and Literature', 'Afro-American Studies', \n",
    "              'American Indian Studies', 'Art Department', 'Anthropology'\n",
    "              'Art Education (Department of Art)', 'Art History', 'Asian American Studies',\n",
    "              'Chicana/o and Latina/o Studies', 'Classics', 'Collaborative Nursing Program',\n",
    "              'Communication Arts','Communication Sciences and Disorders', 'Community and Environmental Sociology',\n",
    "              'Comparative Literature', 'Consumer Science', 'Counseling Psychology', 'Curriculum and Instruction',\n",
    "              'Dance', 'Design Studies', 'ENGLISH', 'East Asian Area Studies', 'East Asian Languages and Literature',\n",
    "              'Economics', 'Educational Leadership and Policy Analysis', 'Educational Policy Studies',\n",
    "              'Educational Psychology', 'Emergency Medicine', 'Engineering Professional Development',\n",
    "              'English', 'English as a Second Language', 'Entomology', 'Environmental Studies - Gaylord Nelson Institute',\n",
    "              'FAMILY AND CONSUMER COMMUNICATIONS', 'Family Medicine', 'Farm & Industry Short Course',\n",
    "              'Finance, Investment and Banking', 'Folklore Program', 'Forest and Wildlife Ecology',\n",
    "              'French (French and Italian)', 'Gender and Women’s Studies', 'General Business',\n",
    "              'Geography', 'German', 'Greek (Classics)', 'HEBREW', 'Hebrew-Biblical', 'Hebrew-Modern',\n",
    "              'History', 'History of Science', 'Horticulture', 'Human Development and Family Studies',\n",
    "              'Human Oncology', 'INDUSTRIAL RELATIONS', 'Integrated Arts', 'Integrated Liberal Studies',\n",
    "              'Integrated Science', 'Interdisciplinary Courses (CALS)', 'Interdisciplinary Courses (L&S)',\n",
    "              'Interdisciplinary Courses (SOHE)', 'International Business', 'International Studies',\n",
    "              'Italian (French and Italian)', 'Jewish Studies', 'Journalism and Mass Communication',\n",
    "              'Kinesiology', 'La Follette School of Public Affairs',  'Landscape Architecture',\n",
    "              'Languages and Cultures of Asia', 'Languages and Cultures of Asia - Languages',\n",
    "              'Latin (Classics)', 'Latin American, Caribbean, and Iberian Studies',\n",
    "              'Law','Legal Studies','Library and Information Studies',\n",
    "              'Life Sciences Communication', 'Linguistics', 'Literature in Translation',\n",
    "              'Management and Human Resources', 'Marketing', 'Medical History and Bioethics',\n",
    "              'Medieval Studies','Music','Music-Performance','Nursing','Nutritional Sciences',\n",
    "              'Occupational Therapy (Department of Kinesiology)',\n",
    "              'Operations and Technology Management','PHYSICAL EDUC ACTIVITY PROGM',\n",
    "              'PROFESSIONAL ORIENTATION', 'Pharmacy','Pharmacy Practice','Philosophy',\n",
    "              'Physical Therapy','Physician Assistant Program','Political Science',\n",
    "              'Portuguese (Spanish and Portuguese)','Psychiatry',\n",
    "              'Real Estate and Urban Land Economics',\n",
    "              'Rehabilitation Psychology and Special Education',\n",
    "              'Religious Studies','Risk Management and Insurance',\n",
    "              'Scandinavian Studies','Slavic (Slavic Languages)','Social Work',\n",
    "              'Social and Administrative Pharmacy','Sociology','Soil Science',\n",
    "              'Spanish (Spanish and Portuguese)','TRANSPORTATION AND PUBLIC UTILITIES',\n",
    "              'Theatre and Drama','Therapeutic Science (Department of Kinesiology)',\n",
    "              'Urban and Regional Planning','WILDLIFE ECOLOGY', 'Zoology'\n",
    " \n",
    "              }"
   ]
  },
  {
   "cell_type": "code",
   "execution_count": 16,
   "metadata": {},
   "outputs": [],
   "source": [
    "#remove the humanites from the course list\n",
    "all_courses -= humanities"
   ]
  },
  {
   "cell_type": "code",
   "execution_count": 17,
   "metadata": {},
   "outputs": [],
   "source": [
    "#set a STEM\n",
    "STEM = all_courses"
   ]
  },
  {
   "cell_type": "markdown",
   "metadata": {},
   "source": [
    "#### Convert grade counts to grade points per credit:\n",
    "We also sum up all counts of grades to get a student count for each class"
   ]
  },
  {
   "cell_type": "code",
   "execution_count": 18,
   "metadata": {
    "scrolled": false
   },
   "outputs": [],
   "source": [
    "#make columns with grades adjusted for weight\n",
    "df_join['weighted_a'] = df_join.a_count * 4\n",
    "df_join['weighted_ab'] = df_join.ab_count * 3.5\n",
    "df_join['weighted_b'] = df_join.b_count * 3\n",
    "df_join['weighted_bc'] = df_join.bc_count * 2.5\n",
    "df_join['weighted_c'] = df_join.c_count * 2\n",
    "df_join['weighted_d'] = df_join.c_count * 1\n",
    "df_join['weighted_f'] = df_join.c_count * 0"
   ]
  },
  {
   "cell_type": "code",
   "execution_count": 19,
   "metadata": {
    "scrolled": false
   },
   "outputs": [],
   "source": [
    "#adding the grades together\n",
    "sum_grades = (df_join.weighted_a + \n",
    "              df_join.weighted_ab + \n",
    "              df_join.weighted_b + \n",
    "              df_join.weighted_bc + \n",
    "              df_join.weighted_c +\n",
    "              df_join.weighted_d + \n",
    "              df_join.weighted_f)\n",
    "\n",
    "df_join['sum_of_grades'] = sum_grades"
   ]
  },
  {
   "cell_type": "code",
   "execution_count": 20,
   "metadata": {},
   "outputs": [],
   "source": [
    "#adding the student counts together\n",
    "student_counts = (df_join.a_count +\n",
    "                  df_join.ab_count +\n",
    "                  df_join.b_count +\n",
    "                  df_join.bc_count +\n",
    "                  df_join.c_count + \n",
    "                  df_join.d_count +\n",
    "                  df_join.f_count +\n",
    "                  df_join.s_count +\n",
    "                  df_join.u_count + \n",
    "                  df_join.cr_count +\n",
    "                  df_join.n_count + \n",
    "                  df_join.p_count + \n",
    "                  df_join.i_count +\n",
    "                  df_join.nw_count +\n",
    "                  df_join.nr_count +\n",
    "                  df_join.other_count)\n",
    "\n",
    "df_join['student_count'] = student_counts"
   ]
  },
  {
   "cell_type": "code",
   "execution_count": 21,
   "metadata": {},
   "outputs": [],
   "source": [
    "a_f_count = (df_join.a_count +\n",
    "                  df_join.ab_count +\n",
    "                  df_join.b_count +\n",
    "                  df_join.bc_count +\n",
    "                  df_join.c_count + \n",
    "                  df_join.d_count +\n",
    "                  df_join.f_count)\n",
    "df_join['a_f_count'] = a_f_count"
   ]
  },
  {
   "cell_type": "code",
   "execution_count": 22,
   "metadata": {},
   "outputs": [],
   "source": [
    "#make a ratio of mean grade per class\n",
    "df_join['grade_ratio'] = df_join.sum_of_grades/ df_join.a_f_count\n",
    "df_join.loc[df_join.grade_ratio.isna()] = 0\n",
    "\n",
    "#make ratio grade for each student\n",
    "df_STEM = df_join.loc[df_join.sub_j_name.isin(STEM)]\n",
    "STEM_grade = df_STEM.grade_ratio.mean()\n",
    "\n",
    "df_humanites = df_join.loc[df_join.sub_j_name.isin(humanities)]\n",
    "humanites_grade = df_humanites.grade_ratio.mean()"
   ]
  },
  {
   "cell_type": "code",
   "execution_count": 23,
   "metadata": {},
   "outputs": [
    {
     "data": {
      "text/plain": [
       "3.6172471240161372"
      ]
     },
     "execution_count": 23,
     "metadata": {},
     "output_type": "execute_result"
    }
   ],
   "source": [
    "humanites_grade"
   ]
  },
  {
   "cell_type": "code",
   "execution_count": 24,
   "metadata": {},
   "outputs": [
    {
     "data": {
      "text/html": [
       "<div>\n",
       "<style scoped>\n",
       "    .dataframe tbody tr th:only-of-type {\n",
       "        vertical-align: middle;\n",
       "    }\n",
       "\n",
       "    .dataframe tbody tr th {\n",
       "        vertical-align: top;\n",
       "    }\n",
       "\n",
       "    .dataframe thead th {\n",
       "        text-align: right;\n",
       "    }\n",
       "</style>\n",
       "<table border=\"1\" class=\"dataframe\">\n",
       "  <thead>\n",
       "    <tr style=\"text-align: right;\">\n",
       "      <th></th>\n",
       "      <th>subject_code</th>\n",
       "      <th>sub_j_name</th>\n",
       "      <th>a_count</th>\n",
       "      <th>ab_count</th>\n",
       "      <th>b_count</th>\n",
       "      <th>bc_count</th>\n",
       "      <th>c_count</th>\n",
       "      <th>d_count</th>\n",
       "      <th>f_count</th>\n",
       "      <th>s_count</th>\n",
       "      <th>...</th>\n",
       "      <th>weighted_ab</th>\n",
       "      <th>weighted_b</th>\n",
       "      <th>weighted_bc</th>\n",
       "      <th>weighted_c</th>\n",
       "      <th>weighted_d</th>\n",
       "      <th>weighted_f</th>\n",
       "      <th>sum_of_grades</th>\n",
       "      <th>student_count</th>\n",
       "      <th>a_f_count</th>\n",
       "      <th>grade_ratio</th>\n",
       "    </tr>\n",
       "  </thead>\n",
       "  <tbody>\n",
       "    <tr>\n",
       "      <th>3</th>\n",
       "      <td>102</td>\n",
       "      <td>Air Force Aerospace Studies</td>\n",
       "      <td>1</td>\n",
       "      <td>2</td>\n",
       "      <td>4</td>\n",
       "      <td>3</td>\n",
       "      <td>1</td>\n",
       "      <td>0</td>\n",
       "      <td>0</td>\n",
       "      <td>0</td>\n",
       "      <td>...</td>\n",
       "      <td>7.0</td>\n",
       "      <td>12</td>\n",
       "      <td>7.5</td>\n",
       "      <td>2</td>\n",
       "      <td>1</td>\n",
       "      <td>0</td>\n",
       "      <td>33.5</td>\n",
       "      <td>11</td>\n",
       "      <td>11</td>\n",
       "      <td>3.045455</td>\n",
       "    </tr>\n",
       "    <tr>\n",
       "      <th>4</th>\n",
       "      <td>102</td>\n",
       "      <td>Air Force Aerospace Studies</td>\n",
       "      <td>1</td>\n",
       "      <td>4</td>\n",
       "      <td>1</td>\n",
       "      <td>0</td>\n",
       "      <td>0</td>\n",
       "      <td>0</td>\n",
       "      <td>0</td>\n",
       "      <td>0</td>\n",
       "      <td>...</td>\n",
       "      <td>14.0</td>\n",
       "      <td>3</td>\n",
       "      <td>0.0</td>\n",
       "      <td>0</td>\n",
       "      <td>0</td>\n",
       "      <td>0</td>\n",
       "      <td>21.0</td>\n",
       "      <td>7</td>\n",
       "      <td>6</td>\n",
       "      <td>3.500000</td>\n",
       "    </tr>\n",
       "    <tr>\n",
       "      <th>5</th>\n",
       "      <td>102</td>\n",
       "      <td>Air Force Aerospace Studies</td>\n",
       "      <td>3</td>\n",
       "      <td>4</td>\n",
       "      <td>2</td>\n",
       "      <td>0</td>\n",
       "      <td>1</td>\n",
       "      <td>0</td>\n",
       "      <td>0</td>\n",
       "      <td>0</td>\n",
       "      <td>...</td>\n",
       "      <td>14.0</td>\n",
       "      <td>6</td>\n",
       "      <td>0.0</td>\n",
       "      <td>2</td>\n",
       "      <td>1</td>\n",
       "      <td>0</td>\n",
       "      <td>35.0</td>\n",
       "      <td>10</td>\n",
       "      <td>10</td>\n",
       "      <td>3.500000</td>\n",
       "    </tr>\n",
       "    <tr>\n",
       "      <th>6</th>\n",
       "      <td>102</td>\n",
       "      <td>Air Force Aerospace Studies</td>\n",
       "      <td>3</td>\n",
       "      <td>8</td>\n",
       "      <td>1</td>\n",
       "      <td>0</td>\n",
       "      <td>0</td>\n",
       "      <td>0</td>\n",
       "      <td>0</td>\n",
       "      <td>0</td>\n",
       "      <td>...</td>\n",
       "      <td>28.0</td>\n",
       "      <td>3</td>\n",
       "      <td>0.0</td>\n",
       "      <td>0</td>\n",
       "      <td>0</td>\n",
       "      <td>0</td>\n",
       "      <td>43.0</td>\n",
       "      <td>12</td>\n",
       "      <td>12</td>\n",
       "      <td>3.583333</td>\n",
       "    </tr>\n",
       "    <tr>\n",
       "      <th>7</th>\n",
       "      <td>102</td>\n",
       "      <td>Air Force Aerospace Studies</td>\n",
       "      <td>4</td>\n",
       "      <td>2</td>\n",
       "      <td>1</td>\n",
       "      <td>0</td>\n",
       "      <td>0</td>\n",
       "      <td>0</td>\n",
       "      <td>0</td>\n",
       "      <td>0</td>\n",
       "      <td>...</td>\n",
       "      <td>7.0</td>\n",
       "      <td>3</td>\n",
       "      <td>0.0</td>\n",
       "      <td>0</td>\n",
       "      <td>0</td>\n",
       "      <td>0</td>\n",
       "      <td>26.0</td>\n",
       "      <td>7</td>\n",
       "      <td>7</td>\n",
       "      <td>3.714286</td>\n",
       "    </tr>\n",
       "  </tbody>\n",
       "</table>\n",
       "<p>5 rows × 32 columns</p>\n",
       "</div>"
      ],
      "text/plain": [
       "   subject_code                   sub_j_name  a_count  ab_count  b_count  \\\n",
       "3           102  Air Force Aerospace Studies        1         2        4   \n",
       "4           102  Air Force Aerospace Studies        1         4        1   \n",
       "5           102  Air Force Aerospace Studies        3         4        2   \n",
       "6           102  Air Force Aerospace Studies        3         8        1   \n",
       "7           102  Air Force Aerospace Studies        4         2        1   \n",
       "\n",
       "   bc_count  c_count  d_count  f_count  s_count  ...  weighted_ab  weighted_b  \\\n",
       "3         3        1        0        0        0  ...          7.0          12   \n",
       "4         0        0        0        0        0  ...         14.0           3   \n",
       "5         0        1        0        0        0  ...         14.0           6   \n",
       "6         0        0        0        0        0  ...         28.0           3   \n",
       "7         0        0        0        0        0  ...          7.0           3   \n",
       "\n",
       "   weighted_bc  weighted_c  weighted_d  weighted_f  sum_of_grades  \\\n",
       "3          7.5           2           1           0           33.5   \n",
       "4          0.0           0           0           0           21.0   \n",
       "5          0.0           2           1           0           35.0   \n",
       "6          0.0           0           0           0           43.0   \n",
       "7          0.0           0           0           0           26.0   \n",
       "\n",
       "   student_count  a_f_count  grade_ratio  \n",
       "3             11         11     3.045455  \n",
       "4              7          6     3.500000  \n",
       "5             10         10     3.500000  \n",
       "6             12         12     3.583333  \n",
       "7              7          7     3.714286  \n",
       "\n",
       "[5 rows x 32 columns]"
      ]
     },
     "execution_count": 24,
     "metadata": {},
     "output_type": "execute_result"
    }
   ],
   "source": [
    "df_STEM.head()"
   ]
  },
  {
   "cell_type": "markdown",
   "metadata": {},
   "source": [
    "# Modeling/Evaluation:\n",
    "We are ready to begin our hypothesis testing"
   ]
  },
  {
   "cell_type": "markdown",
   "metadata": {},
   "source": [
    "### Question 1: do STEM courses get worse grades than the humanities?\n",
    "$H_0$: humanities mean grade = STEM mean grade <br>\n",
    "$H_A$: humanities mean grade != STEM mean grade <br>\n",
    "we will be using alpha of 0.05 for our hypothesis test"
   ]
  },
  {
   "cell_type": "code",
   "execution_count": 25,
   "metadata": {},
   "outputs": [],
   "source": [
    "from statsmodels.stats import weightstats"
   ]
  },
  {
   "cell_type": "code",
   "execution_count": 28,
   "metadata": {},
   "outputs": [
    {
     "data": {
      "text/plain": [
       "(-55.04763961022864, 0.0)"
      ]
     },
     "execution_count": 28,
     "metadata": {},
     "output_type": "execute_result"
    }
   ],
   "source": [
    "alpha = 0.05\n",
    "\n",
    "#find statistics for a t test\n",
    "STEM_grade = df_STEM.grade_ratio\n",
    "hum_grade = df_humanites.grade_ratio\n",
    "\n",
    "#perform a two sample z test\n",
    "STEM_vs_hum_z = weightstats.ztest(STEM_grade, hum_grade)\n",
    "STEM_vs_hum_z"
   ]
  },
  {
   "cell_type": "code",
   "execution_count": 29,
   "metadata": {},
   "outputs": [
    {
     "data": {
      "text/plain": [
       "Ttest_indResult(statistic=-55.04763961022864, pvalue=0.0)"
      ]
     },
     "execution_count": 29,
     "metadata": {},
     "output_type": "execute_result"
    }
   ],
   "source": [
    "#perform a two sample t test\n",
    "STEM_vs_hum_t = stats.ttest_ind(STEM_grade, hum_grade)\n",
    "STEM_vs_hum_t"
   ]
  },
  {
   "cell_type": "code",
   "execution_count": 32,
   "metadata": {},
   "outputs": [
    {
     "data": {
      "text/plain": [
       "(True, True)"
      ]
     },
     "execution_count": 32,
     "metadata": {},
     "output_type": "execute_result"
    }
   ],
   "source": [
    "STEM_vs_hum_z[1] < alpha, STEM_vs_hum_t[1] < alpha"
   ]
  },
  {
   "cell_type": "markdown",
   "metadata": {},
   "source": [
    "### Question 2: do STEM mean grades get better as time goes on?\n",
    "$H_0$: STEM mean grades in 2007 = STEM mean grades in 2017 <br>\n",
    "$H_A$: STEM mean grades in 2007 != STEM mean grades in 2017 <br>\n",
    "once again we will be using alpha of 0.05"
   ]
  },
  {
   "cell_type": "code",
   "execution_count": 33,
   "metadata": {},
   "outputs": [
    {
     "data": {
      "text/plain": [
       "(-5.60326573133991, 2.103503577559272e-08)"
      ]
     },
     "execution_count": 33,
     "metadata": {},
     "output_type": "execute_result"
    }
   ],
   "source": [
    "#find statistics for a hypothesis test\n",
    "STEM_o_seven_mean = df_STEM.loc[df_STEM.year == '2007'].grade_ratio\n",
    "STEM_seventeen_mean = df_STEM.loc[df_STEM.year == '2017'].grade_ratio\n",
    "\n",
    "#perform a two sample z test\n",
    "STEM_o_vs_STEM_sevteen_z = weightstats.ztest(STEM_o_seven_mean,\n",
    "                                              STEM_seventeen_mean)\n",
    "STEM_o_vs_STEM_sevteen_z"
   ]
  },
  {
   "cell_type": "code",
   "execution_count": 34,
   "metadata": {},
   "outputs": [
    {
     "data": {
      "text/plain": [
       "Ttest_indResult(statistic=-5.603265731339909, pvalue=2.1931589547214256e-08)"
      ]
     },
     "execution_count": 34,
     "metadata": {},
     "output_type": "execute_result"
    }
   ],
   "source": [
    "#perform a two sample t test\n",
    "STEM_o_vs_STEM_sevteen_t = stats.ttest_ind(STEM_o_seven_mean, STEM_seventeen_mean)\n",
    "STEM_o_vs_STEM_sevteen_t"
   ]
  },
  {
   "cell_type": "code",
   "execution_count": 36,
   "metadata": {},
   "outputs": [
    {
     "data": {
      "text/plain": [
       "(True, True)"
      ]
     },
     "execution_count": 36,
     "metadata": {},
     "output_type": "execute_result"
    }
   ],
   "source": [
    "STEM_o_vs_STEM_sevteen_z[1] < alpha, STEM_o_vs_STEM_sevteen_t[1] < alpha"
   ]
  },
  {
   "cell_type": "markdown",
   "metadata": {},
   "source": [
    "### Question 3: do longer classes have higher mean grades than shorter classes?\n",
    "$H_0$: longer class mean grade = shorter class mean grade <br>\n",
    "$H_A$: longer class mean grade != shorter class mean grade <br>\n",
    "we will be using alpha of 0.05"
   ]
  },
  {
   "cell_type": "code",
   "execution_count": 37,
   "metadata": {},
   "outputs": [],
   "source": [
    "#make new column to measure the length of time in minutes\n",
    "df_join['class_duration'] = (df_join.end_time - \n",
    "                             df_join.start_time)"
   ]
  },
  {
   "cell_type": "code",
   "execution_count": 38,
   "metadata": {},
   "outputs": [
    {
     "data": {
      "text/plain": [
       "array([  0,  50,  75, 120,  80, 110, 180, 100, 115, 105, 150,  55, 130,\n",
       "        90, 155, 160, 170, 145, 210, 165,  60,  70, 140, 240, 510, 540,\n",
       "        95,  85, 660,  72, 300, 360, 520, 270, 420, 195, 480, 450, 200,\n",
       "       226, 125, 190, 175, 135, 245, 265, 250,  25,   5, 255,  45, 189,\n",
       "       215,  65, 570, 225, 205,  30, 390, 810, 330, 181,  64,  40, 220,\n",
       "       185, 465, 600, 555, 539, 630,  35, 113, 770, 720, 325, 690, 525,\n",
       "       645, 340])"
      ]
     },
     "execution_count": 38,
     "metadata": {},
     "output_type": "execute_result"
    }
   ],
   "source": [
    "#find a good short and long class time to use\n",
    "#we settle with 50 minutes for short and\n",
    "#120 minutes for long\n",
    "df_join.class_duration.unique()"
   ]
  },
  {
   "cell_type": "code",
   "execution_count": 40,
   "metadata": {},
   "outputs": [
    {
     "data": {
      "text/plain": [
       "(-57.74916998791659, 0.0)"
      ]
     },
     "execution_count": 40,
     "metadata": {},
     "output_type": "execute_result"
    }
   ],
   "source": [
    "#find statistics for a hypothesis test\n",
    "fifty_mean = df_join.loc[df_join.class_duration == 50].grade_ratio\n",
    "one_twenty_mean = df_join.loc[df_join.class_duration == 120].grade_ratio\n",
    "\n",
    "#perform a two sample z test\n",
    "fifty_vs_one_twenty_z = weightstats.ztest(fifty_mean, one_twenty_mean)\n",
    "fifty_vs_one_twenty_z"
   ]
  },
  {
   "cell_type": "code",
   "execution_count": 41,
   "metadata": {},
   "outputs": [
    {
     "data": {
      "text/plain": [
       "Ttest_indResult(statistic=57.74916998791659, pvalue=0.0)"
      ]
     },
     "execution_count": 41,
     "metadata": {},
     "output_type": "execute_result"
    }
   ],
   "source": [
    "#perform a two sample t test\n",
    "fifty_vs_one_twenty_t = stats.ttest_ind(one_twenty_mean, fifty_mean)\n",
    "fifty_vs_one_twenty_t "
   ]
  },
  {
   "cell_type": "code",
   "execution_count": 42,
   "metadata": {},
   "outputs": [
    {
     "data": {
      "text/plain": [
       "(True, True)"
      ]
     },
     "execution_count": 42,
     "metadata": {},
     "output_type": "execute_result"
    }
   ],
   "source": [
    "fifty_vs_one_twenty_z[1] < alpha, fifty_vs_one_twenty_z[1] < alpha"
   ]
  },
  {
   "cell_type": "markdown",
   "metadata": {},
   "source": [
    "### Question 4: do larger classes have lower mean grades than shorter classes?\n",
    "$H_0$: larger class mean grade = smaller class mean grade <br>\n",
    "$H_A$: larger class mean grade < smaller class mean grade <br>\n",
    "We will be using alpha of 0.05"
   ]
  },
  {
   "cell_type": "code",
   "execution_count": 43,
   "metadata": {},
   "outputs": [],
   "source": [
    "#make new column to measure the size of classes\n",
    "size_grades = df_join[['student_count', 'grade_ratio']]"
   ]
  },
  {
   "cell_type": "markdown",
   "metadata": {},
   "source": [
    "#### find a good definition for large and small class sizes"
   ]
  },
  {
   "cell_type": "code",
   "execution_count": 44,
   "metadata": {},
   "outputs": [
    {
     "name": "stdout",
     "output_type": "stream",
     "text": [
      "The 25% quantile class size is 127.5\n",
      "The 50% quantile class size is 255.0\n",
      "The 75% quantile class size is 382.5\n"
     ]
    }
   ],
   "source": [
    "size_grades_final = size_grades.groupby(['student_count']).mean().reset_index()\n",
    "print('The 25% quantile class size is ' + f\"{size_grades_final['student_count'].quantile(.25)}\")\n",
    "print('The 50% quantile class size is ' + f\"{size_grades_final['student_count'].quantile(.50)}\")\n",
    "print('The 75% quantile class size is ' + f\"{size_grades_final['student_count'].quantile(.75)}\")      "
   ]
  },
  {
   "cell_type": "markdown",
   "metadata": {},
   "source": [
    "#### Based on this information, we are going to designate classes over 255 students a large a class size for this university."
   ]
  },
  {
   "cell_type": "code",
   "execution_count": 46,
   "metadata": {},
   "outputs": [
    {
     "data": {
      "text/plain": [
       "(-4.471449366439937, 7.769125568886941e-06)"
      ]
     },
     "execution_count": 46,
     "metadata": {},
     "output_type": "execute_result"
    }
   ],
   "source": [
    "#find statistics for a hypothesis test\n",
    "classes_large_mean = size_grades_final.loc[size_grades_final['student_count'] >= 255].grade_ratio\n",
    "classes_small_mean = size_grades_final.loc[size_grades_final['student_count'] < 255].grade_ratio\n",
    "\n",
    "#perform a two sample z test\n",
    "large_vs_small_z = weightstats.ztest(classes_large_mean,\n",
    "                                     classes_small_mean)\n",
    "large_vs_small_z"
   ]
  },
  {
   "cell_type": "code",
   "execution_count": 47,
   "metadata": {},
   "outputs": [
    {
     "data": {
      "text/plain": [
       "Ttest_indResult(statistic=-4.471449366439937, pvalue=9.587129960781398e-06)"
      ]
     },
     "execution_count": 47,
     "metadata": {},
     "output_type": "execute_result"
    }
   ],
   "source": [
    "#perform a two sample t test\n",
    "large_vs_small_t = stats.ttest_ind(classes_large_mean,classes_small_mean)\n",
    "large_vs_small_t"
   ]
  },
  {
   "cell_type": "code",
   "execution_count": 48,
   "metadata": {},
   "outputs": [
    {
     "data": {
      "text/plain": [
       "(True, True)"
      ]
     },
     "execution_count": 48,
     "metadata": {},
     "output_type": "execute_result"
    }
   ],
   "source": [
    "large_vs_small_z[1] < alpha, large_vs_small_t[1] < alpha"
   ]
  },
  {
   "cell_type": "markdown",
   "metadata": {},
   "source": [
    "## Final recommendation:\n",
    "We need more information before making any recommendations one way or the other"
   ]
  },
  {
   "cell_type": "code",
   "execution_count": null,
   "metadata": {},
   "outputs": [],
   "source": []
  }
 ],
 "metadata": {
  "kernelspec": {
   "display_name": "learn-env",
   "language": "python",
   "name": "learn-env"
  },
  "language_info": {
   "codemirror_mode": {
    "name": "ipython",
    "version": 3
   },
   "file_extension": ".py",
   "mimetype": "text/x-python",
   "name": "python",
   "nbconvert_exporter": "python",
   "pygments_lexer": "ipython3",
   "version": "3.6.8"
  }
 },
 "nbformat": 4,
 "nbformat_minor": 2
}
