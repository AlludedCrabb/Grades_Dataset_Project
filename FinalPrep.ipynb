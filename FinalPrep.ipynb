{
 "cells": [
  {
   "cell_type": "markdown",
   "metadata": {},
   "source": [
    "# Goals:\n",
    "create a psql database, load our information in, query the info we need, then perform hypothesis testing and make a final recommendation."
   ]
  },
  {
   "cell_type": "code",
   "execution_count": 1,
   "metadata": {},
   "outputs": [],
   "source": [
    "#import our libraries\n",
    "import psycopg2\n",
    "import csv\n",
    "import glob\n",
    "import numpy as np \n",
    "import pandas as pd\n",
    "from scipy import stats\n",
    "from sqlalchemy import create_engine"
   ]
  },
  {
   "cell_type": "code",
   "execution_count": 2,
   "metadata": {},
   "outputs": [],
   "source": [
    "#create the database\n",
    "\n",
    "# ! createdb mod2project\n"
   ]
  },
  {
   "cell_type": "code",
   "execution_count": 3,
   "metadata": {},
   "outputs": [],
   "source": [
    "#connect to the database and make a cursor\n",
    "conn = psycopg2.connect(\"dbname=mod2project\")\n",
    "cur = conn.cursor()"
   ]
  },
  {
   "cell_type": "markdown",
   "metadata": {},
   "source": [
    "### Make the tables to hold our data:"
   ]
  },
  {
   "cell_type": "code",
   "execution_count": 4,
   "metadata": {},
   "outputs": [],
   "source": [
    "#set up our SQL tables\n",
    "create_query_1 = \"\"\"\n",
    "CREATE TABLE course_offerings(\n",
    "  uuid text\n",
    ", course_uuid text \n",
    ", term_code integer\n",
    ", name text\n",
    ")\n",
    "\"\"\"\n",
    "\n",
    "create_query_2 = \"\"\"\n",
    "CREATE TABLE courses(\n",
    "  uuid text \n",
    ", name text \n",
    ", number integer\n",
    ")\n",
    "\"\"\"\n",
    "\n",
    "create_query_3 = \"\"\"\n",
    "CREATE TABLE grade_distributions(\n",
    "  course_offering_uuid text\n",
    ", section_number text \n",
    ", a_count integer\n",
    ", ab_count integer\n",
    ", b_count integer\n",
    ", bc_count integer\n",
    ", c_count integer\n",
    ", d_count integer\n",
    ", f_count integer\n",
    ", s_count integer\n",
    ", u_count integer\n",
    ", cr_count integer\n",
    ", n_count integer\n",
    ", p_count integer\n",
    ", i_count integer\n",
    ", nw_count integer\n",
    ", nr_count integer\n",
    ", other_count integer\n",
    ")\n",
    "\"\"\"\n",
    "\n",
    "create_query_4 = \"\"\"\n",
    "CREATE TABLE instructors(\n",
    "  id integer\n",
    ", name text\n",
    ")\n",
    "\"\"\"\n",
    "\n",
    "create_query_5 = \"\"\"\n",
    "CREATE TABLE rooms(\n",
    "  uuid text\n",
    ", facility_code text\n",
    ", room_code text\n",
    ")\n",
    "\"\"\"\n",
    "\n",
    "create_query_6 =\"\"\"\n",
    "CREATE TABLE schedules(\n",
    "  uuid text\n",
    ", start_time integer\n",
    ", end_time integer\n",
    ", mon text\n",
    ", tues text\n",
    ", wed text\n",
    ", thurs text\n",
    ", fri text\n",
    ", sat text\n",
    ", sun text\n",
    ")\n",
    "\"\"\"\n",
    "\n",
    "create_query_7 = \"\"\"\n",
    "CREATE TABLE sections(\n",
    "  uuid text\n",
    ", course_offering_uuid text\n",
    ", section_type text\n",
    ", number text\n",
    ", room_uuid text\n",
    ",schedule_uuid text\n",
    ")\n",
    "\"\"\"\n",
    "\n",
    "create_query_8 = \"\"\"\n",
    "CREATE TABLE subject_memberships(\n",
    "  subject_code integer\n",
    ", course_offering_uuid text\n",
    ")\n",
    "\"\"\"\n",
    "\n",
    "create_query_9 = \"\"\"\n",
    "CREATE TABLE subjects(\n",
    "  code text\n",
    ", name text\n",
    ", abbreviation text\n",
    ")\n",
    "\"\"\"\n",
    "\n",
    "create_query_10 = \"\"\"\n",
    "CREATE TABLE teachings(\n",
    "  instructor_id integer\n",
    ", section_uuid text\n",
    ")\n",
    "\"\"\""
   ]
  },
  {
   "cell_type": "code",
   "execution_count": 5,
   "metadata": {},
   "outputs": [],
   "source": [
    "#get the names and locations of our datafiles\n",
    "csvs_for_table = glob.glob('raw_data/*.csv')"
   ]
  },
  {
   "cell_type": "code",
   "execution_count": 6,
   "metadata": {},
   "outputs": [],
   "source": [
    "#make a list of our queries\n",
    "queries_list = [create_query_1,create_query_2,create_query_3,create_query_4\n",
    "               ,create_query_5,create_query_6,create_query_7\n",
    "               ,create_query_8,create_query_9,create_query_10]"
   ]
  },
  {
   "cell_type": "code",
   "execution_count": 7,
   "metadata": {},
   "outputs": [],
   "source": [
    "#extract table names from our file names\n",
    "table_names = [x.split('/')[1][:-4] for x in csvs_for_table]"
   ]
  },
  {
   "cell_type": "code",
   "execution_count": 8,
   "metadata": {},
   "outputs": [],
   "source": [
    "#loop through our queries list and execute them\n",
    "\n",
    "# for query in queries_list:\n",
    "#     cur.execute(query)\n",
    "#     conn.commit()"
   ]
  },
  {
   "cell_type": "markdown",
   "metadata": {},
   "source": [
    "### Insert our data into our tables:"
   ]
  },
  {
   "cell_type": "code",
   "execution_count": 9,
   "metadata": {
    "scrolled": true
   },
   "outputs": [],
   "source": [
    "# #loop through our table names and indexes\n",
    "# for q_num, table_name in enumerate(table_names):\n",
    "    \n",
    "#     #extract values from our first queries to use\n",
    "#     #in our insert statements below\n",
    "#     fields = tuple(line.strip(\", \").split()[0] for \n",
    "#                    line in queries_list[q_num].split('\\n')[2:-2])\n",
    "    \n",
    "#     #set up our insert statements\n",
    "#     query = f'''\n",
    "#     INSERT INTO {table_name}\n",
    "#     ({', '.join(fields)})\n",
    "#     VALUES ({', '.join('%s' for _ in range(len(fields)))})\n",
    "#     '''\n",
    "        \n",
    "    \n",
    "#     #open each file and insert it's values row\n",
    "#     #by row into the appropriate tables\n",
    "#     with open(csvs_for_table[q_num], 'r') as file:\n",
    "#         reader = csv.reader(file)\n",
    "#         next(reader)  # Skip the header row.\n",
    "#         for row in reader:\n",
    "#             cur.execute(\n",
    "#                 query,\n",
    "#                 row\n",
    "#             )\n",
    "#             conn.commit()\n",
    "            \n",
    "#         #check where we're having problems\n",
    "#         print(table_name,'still good')"
   ]
  },
  {
   "cell_type": "code",
   "execution_count": 10,
   "metadata": {},
   "outputs": [],
   "source": [
    "# remove this before the final release\n",
    "# conn.rollback()\n"
   ]
  },
  {
   "cell_type": "markdown",
   "metadata": {},
   "source": [
    "### Make the query for our information:"
   ]
  },
  {
   "cell_type": "code",
   "execution_count": 11,
   "metadata": {},
   "outputs": [],
   "source": [
    "#set up a sqlalchemy engine\n",
    "\n",
    "engine = create_engine(\"postgresql:///mod2project\", echo=True)\n"
   ]
  },
  {
   "cell_type": "code",
   "execution_count": 12,
   "metadata": {},
   "outputs": [],
   "source": [
    "#build our query\n",
    "q = \"\"\"\n",
    "SELECT DISTINCT\n",
    "  sub_m.subject_code\n",
    ", sub_j.name AS sub_j_name\n",
    ", grade_d.a_count\n",
    ", grade_d.ab_count\n",
    ", grade_d.b_count\n",
    ", grade_d.bc_count\n",
    ", grade_d.c_count\n",
    ", grade_d.d_count\n",
    ", grade_d.f_count\n",
    ", grade_d.s_count\n",
    ", grade_d.u_count\n",
    ", grade_d.cr_count\n",
    ", grade_d.n_count\n",
    ", grade_d.p_count\n",
    ", grade_d.i_count\n",
    ", grade_d.nw_count\n",
    ", grade_d.nr_count\n",
    ", grade_d.other_count\n",
    ", sch.start_time\n",
    ", sch.end_time\n",
    ",\n",
    "\n",
    "  CASE\n",
    "        WHEN term_code BETWEEN 1063 AND 1073 THEN '2006'\n",
    "        WHEN term_code BETWEEN 1073 AND 1083 THEN '2007'\n",
    "        WHEN term_code BETWEEN 1083 AND 1093 THEN '2008'\n",
    "        WHEN term_code BETWEEN 1093 AND 1103 THEN '2009'\n",
    "        WHEN term_code BETWEEN 1103 AND 1113 THEN '2010'\n",
    "        WHEN term_code BETWEEN 1113 AND 1123 THEN '2011'\n",
    "        WHEN term_code BETWEEN 1123 AND 1133 THEN '2012'\n",
    "        WHEN term_code BETWEEN 1133 AND 1143 THEN '2013'\n",
    "        WHEN term_code BETWEEN 1143 AND 1153 THEN '2014'\n",
    "        WHEN term_code BETWEEN 1153 AND 1163 THEN '2015'\n",
    "        WHEN term_code BETWEEN 1163 AND 1173 THEN '2016'\n",
    "        WHEN term_code BETWEEN 1173 AND 1183 THEN '2017'\n",
    "        ELSE 'the_world_is_over'\n",
    "    END AS Year\n",
    "    \n",
    "\n",
    "FROM grade_distributions AS grade_d\n",
    "\n",
    "JOIN sections sect\n",
    "  ON sect.course_offering_uuid = grade_d.course_offering_uuid\n",
    "  AND sect.number = grade_d.section_number\n",
    "\n",
    "JOIN subject_memberships sub_m\n",
    "  ON grade_d.course_offering_uuid = sub_m.course_offering_uuid\n",
    "  \n",
    "\n",
    "JOIN course_offerings cor_o\n",
    "  ON cor_o.uuid = grade_d.course_offering_uuid\n",
    "\n",
    "\n",
    "JOIN schedules sch\n",
    "  ON sect.schedule_uuid = sch.uuid\n",
    "  \n",
    "JOIN subjects sub_j\n",
    "  ON cast(sub_m.subject_code as text) = cast(sub_j.code as text)\n",
    "\n",
    "\"\"\""
   ]
  },
  {
   "cell_type": "code",
   "execution_count": 13,
   "metadata": {
    "scrolled": false
   },
   "outputs": [
    {
     "name": "stdout",
     "output_type": "stream",
     "text": [
      "2019-05-09 17:25:50,570 INFO sqlalchemy.engine.base.Engine select version()\n",
      "2019-05-09 17:25:50,571 INFO sqlalchemy.engine.base.Engine {}\n",
      "2019-05-09 17:25:50,573 INFO sqlalchemy.engine.base.Engine select current_schema()\n",
      "2019-05-09 17:25:50,574 INFO sqlalchemy.engine.base.Engine {}\n",
      "2019-05-09 17:25:50,577 INFO sqlalchemy.engine.base.Engine SELECT CAST('test plain returns' AS VARCHAR(60)) AS anon_1\n",
      "2019-05-09 17:25:50,578 INFO sqlalchemy.engine.base.Engine {}\n",
      "2019-05-09 17:25:50,580 INFO sqlalchemy.engine.base.Engine SELECT CAST('test unicode returns' AS VARCHAR(60)) AS anon_1\n",
      "2019-05-09 17:25:50,581 INFO sqlalchemy.engine.base.Engine {}\n",
      "2019-05-09 17:25:50,583 INFO sqlalchemy.engine.base.Engine show standard_conforming_strings\n",
      "2019-05-09 17:25:50,584 INFO sqlalchemy.engine.base.Engine {}\n",
      "2019-05-09 17:25:50,586 INFO sqlalchemy.engine.base.Engine \n",
      "SELECT DISTINCT\n",
      "  sub_m.subject_code\n",
      ", sub_j.name AS sub_j_name\n",
      ", grade_d.a_count\n",
      ", grade_d.ab_count\n",
      ", grade_d.b_count\n",
      ", grade_d.bc_count\n",
      ", grade_d.c_count\n",
      ", grade_d.d_count\n",
      ", grade_d.f_count\n",
      ", grade_d.s_count\n",
      ", grade_d.u_count\n",
      ", grade_d.cr_count\n",
      ", grade_d.n_count\n",
      ", grade_d.p_count\n",
      ", grade_d.i_count\n",
      ", grade_d.nw_count\n",
      ", grade_d.nr_count\n",
      ", grade_d.other_count\n",
      ", sch.start_time\n",
      ", sch.end_time\n",
      ",\n",
      "\n",
      "  CASE\n",
      "        WHEN term_code BETWEEN 1063 AND 1073 THEN '2006'\n",
      "        WHEN term_code BETWEEN 1073 AND 1083 THEN '2007'\n",
      "        WHEN term_code BETWEEN 1083 AND 1093 THEN '2008'\n",
      "        WHEN term_code BETWEEN 1093 AND 1103 THEN '2009'\n",
      "        WHEN term_code BETWEEN 1103 AND 1113 THEN '2010'\n",
      "        WHEN term_code BETWEEN 1113 AND 1123 THEN '2011'\n",
      "        WHEN term_code BETWEEN 1123 AND 1133 THEN '2012'\n",
      "        WHEN term_code BETWEEN 1133 AND 1143 THEN '2013'\n",
      "        WHEN term_code BETWEEN 1143 AND 1153 THEN '2014'\n",
      "        WHEN term_code BETWEEN 1153 AND 1163 THEN '2015'\n",
      "        WHEN term_code BETWEEN 1163 AND 1173 THEN '2016'\n",
      "        WHEN term_code BETWEEN 1173 AND 1183 THEN '2017'\n",
      "        ELSE 'the_world_is_over'\n",
      "    END AS Year\n",
      "    \n",
      "\n",
      "FROM grade_distributions AS grade_d\n",
      "\n",
      "JOIN sections sect\n",
      "  ON sect.course_offering_uuid = grade_d.course_offering_uuid\n",
      "  AND sect.number = grade_d.section_number\n",
      "\n",
      "JOIN subject_memberships sub_m\n",
      "  ON grade_d.course_offering_uuid = sub_m.course_offering_uuid\n",
      "  \n",
      "\n",
      "JOIN course_offerings cor_o\n",
      "  ON cor_o.uuid = grade_d.course_offering_uuid\n",
      "\n",
      "\n",
      "JOIN schedules sch\n",
      "  ON sect.schedule_uuid = sch.uuid\n",
      "  \n",
      "JOIN subjects sub_j\n",
      "  ON cast(sub_m.subject_code as text) = cast(sub_j.code as text)\n",
      "\n",
      "\n",
      "2019-05-09 17:25:50,587 INFO sqlalchemy.engine.base.Engine {}\n"
     ]
    }
   ],
   "source": [
    "#put our query into a dataframe\n",
    "df_join = pd.read_sql_query(q,con=engine)"
   ]
  },
  {
   "cell_type": "markdown",
   "metadata": {},
   "source": [
    "### Define what is and isn't STEM and create dataframes for each:"
   ]
  },
  {
   "cell_type": "code",
   "execution_count": 14,
   "metadata": {},
   "outputs": [],
   "source": [
    "#create a unique set of course names\n",
    "all_courses = set(df_join.sub_j_name)"
   ]
  },
  {
   "cell_type": "code",
   "execution_count": 15,
   "metadata": {},
   "outputs": [],
   "source": [
    "#make a list of humanites\n",
    "humanities = {'African Languages and Literature', 'Afro-American Studies', \n",
    "              'American Indian Studies', 'Art Department', 'Anthropology'\n",
    "              'Art Education (Department of Art)', 'Art History', 'Asian American Studies',\n",
    "              'Chicana/o and Latina/o Studies', 'Classics', 'Collaborative Nursing Program',\n",
    "              'Communication Arts','Communication Sciences and Disorders', 'Community and Environmental Sociology',\n",
    "              'Comparative Literature', 'Consumer Science', 'Counseling Psychology', 'Curriculum and Instruction',\n",
    "              'Dance', 'Design Studies', 'ENGLISH', 'East Asian Area Studies', 'East Asian Languages and Literature',\n",
    "              'Economics', 'Educational Leadership and Policy Analysis', 'Educational Policy Studies',\n",
    "              'Educational Psychology', 'Emergency Medicine', 'Engineering Professional Development',\n",
    "              'English', 'English as a Second Language', 'Entomology', 'Environmental Studies - Gaylord Nelson Institute',\n",
    "              'FAMILY AND CONSUMER COMMUNICATIONS', 'Family Medicine', 'Farm & Industry Short Course',\n",
    "              'Finance, Investment and Banking', 'Folklore Program', 'Forest and Wildlife Ecology',\n",
    "              'French (French and Italian)', 'Gender and Women’s Studies', 'General Business',\n",
    "              'Geography', 'German', 'Greek (Classics)', 'HEBREW', 'Hebrew-Biblical', 'Hebrew-Modern',\n",
    "              'History', 'History of Science', 'Horticulture', 'Human Development and Family Studies',\n",
    "              'Human Oncology', 'INDUSTRIAL RELATIONS', 'Integrated Arts', 'Integrated Liberal Studies',\n",
    "              'Integrated Science', 'Interdisciplinary Courses (CALS)', 'Interdisciplinary Courses (L&S)',\n",
    "              'Interdisciplinary Courses (SOHE)', 'International Business', 'International Studies',\n",
    "              'Italian (French and Italian)', 'Jewish Studies', 'Journalism and Mass Communication',\n",
    "              'Kinesiology', 'La Follette School of Public Affairs',  'Landscape Architecture',\n",
    "              'Languages and Cultures of Asia', 'Languages and Cultures of Asia - Languages',\n",
    "              'Latin (Classics)', 'Latin American, Caribbean, and Iberian Studies',\n",
    "              'Law','Legal Studies','Library and Information Studies',\n",
    "              'Life Sciences Communication', 'Linguistics', 'Literature in Translation',\n",
    "              'Management and Human Resources', 'Marketing', 'Medical History and Bioethics',\n",
    "              'Medieval Studies','Music','Music-Performance','Nursing','Nutritional Sciences',\n",
    "              'Occupational Therapy (Department of Kinesiology)',\n",
    "              'Operations and Technology Management','PHYSICAL EDUC ACTIVITY PROGM',\n",
    "              'PROFESSIONAL ORIENTATION', 'Pharmacy','Pharmacy Practice','Philosophy',\n",
    "              'Physical Therapy','Physician Assistant Program','Political Science',\n",
    "              'Portuguese (Spanish and Portuguese)','Psychiatry',\n",
    "              'Real Estate and Urban Land Economics',\n",
    "              'Rehabilitation Psychology and Special Education',\n",
    "              'Religious Studies','Risk Management and Insurance',\n",
    "              'Scandinavian Studies','Slavic (Slavic Languages)','Social Work',\n",
    "              'Social and Administrative Pharmacy','Sociology','Soil Science',\n",
    "              'Spanish (Spanish and Portuguese)','TRANSPORTATION AND PUBLIC UTILITIES',\n",
    "              'Theatre and Drama','Therapeutic Science (Department of Kinesiology)',\n",
    "              'Urban and Regional Planning','WILDLIFE ECOLOGY', 'Zoology'\n",
    " \n",
    "              }"
   ]
  },
  {
   "cell_type": "code",
   "execution_count": 16,
   "metadata": {},
   "outputs": [],
   "source": [
    "#remove the humanites from the course list\n",
    "all_courses -= humanities"
   ]
  },
  {
   "cell_type": "code",
   "execution_count": 17,
   "metadata": {},
   "outputs": [],
   "source": [
    "#set a STEM\n",
    "STEM = all_courses"
   ]
  },
  {
   "cell_type": "markdown",
   "metadata": {},
   "source": [
    "### Make a standard scale for grades:\n",
    "Each grade is given an appropriate weight. <br>\n",
    "We do this so we can more accurately find their means."
   ]
  },
  {
   "cell_type": "code",
   "execution_count": 18,
   "metadata": {
    "scrolled": false
   },
   "outputs": [],
   "source": [
    "#make columns with grades adjusted for weight\n",
    "df_join['weighted_a'] = df_join.a_count * .925\n",
    "df_join['weighted_ab'] = df_join.ab_count * .835\n",
    "df_join['weighted_b'] = df_join.b_count * .795\n",
    "df_join['weighted_bc'] = df_join.bc_count * .756\n",
    "df_join['weighted_c'] = df_join.c_count * .73\n",
    "df_join['weighted_d'] = df_join.c_count * .69\n",
    "df_join['weighted_f'] = df_join.c_count * .655"
   ]
  },
  {
   "cell_type": "code",
   "execution_count": 19,
   "metadata": {
    "scrolled": false
   },
   "outputs": [],
   "source": [
    "#adding the grades together\n",
    "sum_grades = (df_join.weighted_a + \n",
    "              df_join.weighted_ab + \n",
    "              df_join.weighted_b + \n",
    "              df_join.weighted_bc + \n",
    "              df_join.weighted_c +\n",
    "              df_join.weighted_d + \n",
    "              df_join.weighted_f)\n",
    "\n",
    "df_join['sum_of_grades'] = sum_grades"
   ]
  },
  {
   "cell_type": "code",
   "execution_count": 20,
   "metadata": {},
   "outputs": [],
   "source": [
    "#adding the student counts together\n",
    "student_counts = (df_join.a_count +\n",
    "                  df_join.ab_count +\n",
    "                  df_join.b_count +\n",
    "                  df_join.bc_count +\n",
    "                  df_join.c_count + \n",
    "                  df_join.d_count +\n",
    "                  df_join.f_count +\n",
    "                  df_join.s_count +\n",
    "                  df_join.u_count + \n",
    "                  df_join.cr_count +\n",
    "                  df_join.n_count + \n",
    "                  df_join.p_count + \n",
    "                  df_join.i_count +\n",
    "                  df_join.nw_count +\n",
    "                  df_join.nr_count +\n",
    "                  df_join.other_count)\n",
    "\n",
    "df_join['student_count'] = student_counts"
   ]
  },
  {
   "cell_type": "code",
   "execution_count": 21,
   "metadata": {},
   "outputs": [],
   "source": [
    "a_f_count = (df_join.a_count +\n",
    "                  df_join.ab_count +\n",
    "                  df_join.b_count +\n",
    "                  df_join.bc_count +\n",
    "                  df_join.c_count + \n",
    "                  df_join.d_count +\n",
    "                  df_join.f_count)\n",
    "df_join['a_f_count'] = a_f_count"
   ]
  },
  {
   "cell_type": "code",
   "execution_count": 22,
   "metadata": {},
   "outputs": [],
   "source": [
    "#make a ratio of mean grade per class\n",
    "df_join['grade_ratio'] = df_join.sum_of_grades/ df_join.a_f_count\n",
    "\n",
    "#make ratio grade for each student\n",
    "df_STEM = df_join.loc[df_join.sub_j_name.isin(STEM)]\n",
    "STEM_grade = df_STEM.grade_ratio.sum()/df_STEM.grade_ratio.count()\n",
    "\n",
    "df_humanites = df_join.loc[df_join.sub_j_name.isin(humanities)]\n",
    "humanites_grade = df_humanites.grade_ratio.sum()/df_humanites.grade_ratio.count()"
   ]
  },
  {
   "cell_type": "code",
   "execution_count": 23,
   "metadata": {},
   "outputs": [
    {
     "data": {
      "text/html": [
       "<div>\n",
       "<style scoped>\n",
       "    .dataframe tbody tr th:only-of-type {\n",
       "        vertical-align: middle;\n",
       "    }\n",
       "\n",
       "    .dataframe tbody tr th {\n",
       "        vertical-align: top;\n",
       "    }\n",
       "\n",
       "    .dataframe thead th {\n",
       "        text-align: right;\n",
       "    }\n",
       "</style>\n",
       "<table border=\"1\" class=\"dataframe\">\n",
       "  <thead>\n",
       "    <tr style=\"text-align: right;\">\n",
       "      <th></th>\n",
       "      <th>subject_code</th>\n",
       "      <th>sub_j_name</th>\n",
       "      <th>a_count</th>\n",
       "      <th>ab_count</th>\n",
       "      <th>b_count</th>\n",
       "      <th>bc_count</th>\n",
       "      <th>c_count</th>\n",
       "      <th>d_count</th>\n",
       "      <th>f_count</th>\n",
       "      <th>s_count</th>\n",
       "      <th>...</th>\n",
       "      <th>weighted_ab</th>\n",
       "      <th>weighted_b</th>\n",
       "      <th>weighted_bc</th>\n",
       "      <th>weighted_c</th>\n",
       "      <th>weighted_d</th>\n",
       "      <th>weighted_f</th>\n",
       "      <th>sum_of_grades</th>\n",
       "      <th>student_count</th>\n",
       "      <th>a_f_count</th>\n",
       "      <th>grade_ratio</th>\n",
       "    </tr>\n",
       "  </thead>\n",
       "  <tbody>\n",
       "    <tr>\n",
       "      <th>0</th>\n",
       "      <td>102</td>\n",
       "      <td>Air Force Aerospace Studies</td>\n",
       "      <td>0</td>\n",
       "      <td>0</td>\n",
       "      <td>0</td>\n",
       "      <td>0</td>\n",
       "      <td>0</td>\n",
       "      <td>0</td>\n",
       "      <td>0</td>\n",
       "      <td>0</td>\n",
       "      <td>...</td>\n",
       "      <td>0.00</td>\n",
       "      <td>0.000</td>\n",
       "      <td>0.000</td>\n",
       "      <td>0.00</td>\n",
       "      <td>0.00</td>\n",
       "      <td>0.000</td>\n",
       "      <td>0.000</td>\n",
       "      <td>0</td>\n",
       "      <td>0</td>\n",
       "      <td>NaN</td>\n",
       "    </tr>\n",
       "    <tr>\n",
       "      <th>1</th>\n",
       "      <td>102</td>\n",
       "      <td>Air Force Aerospace Studies</td>\n",
       "      <td>0</td>\n",
       "      <td>0</td>\n",
       "      <td>0</td>\n",
       "      <td>0</td>\n",
       "      <td>0</td>\n",
       "      <td>0</td>\n",
       "      <td>0</td>\n",
       "      <td>0</td>\n",
       "      <td>...</td>\n",
       "      <td>0.00</td>\n",
       "      <td>0.000</td>\n",
       "      <td>0.000</td>\n",
       "      <td>0.00</td>\n",
       "      <td>0.00</td>\n",
       "      <td>0.000</td>\n",
       "      <td>0.000</td>\n",
       "      <td>0</td>\n",
       "      <td>0</td>\n",
       "      <td>NaN</td>\n",
       "    </tr>\n",
       "    <tr>\n",
       "      <th>2</th>\n",
       "      <td>102</td>\n",
       "      <td>Air Force Aerospace Studies</td>\n",
       "      <td>0</td>\n",
       "      <td>0</td>\n",
       "      <td>0</td>\n",
       "      <td>0</td>\n",
       "      <td>0</td>\n",
       "      <td>0</td>\n",
       "      <td>0</td>\n",
       "      <td>0</td>\n",
       "      <td>...</td>\n",
       "      <td>0.00</td>\n",
       "      <td>0.000</td>\n",
       "      <td>0.000</td>\n",
       "      <td>0.00</td>\n",
       "      <td>0.00</td>\n",
       "      <td>0.000</td>\n",
       "      <td>0.000</td>\n",
       "      <td>0</td>\n",
       "      <td>0</td>\n",
       "      <td>NaN</td>\n",
       "    </tr>\n",
       "    <tr>\n",
       "      <th>3</th>\n",
       "      <td>102</td>\n",
       "      <td>Air Force Aerospace Studies</td>\n",
       "      <td>1</td>\n",
       "      <td>2</td>\n",
       "      <td>4</td>\n",
       "      <td>3</td>\n",
       "      <td>1</td>\n",
       "      <td>0</td>\n",
       "      <td>0</td>\n",
       "      <td>0</td>\n",
       "      <td>...</td>\n",
       "      <td>1.67</td>\n",
       "      <td>3.180</td>\n",
       "      <td>2.268</td>\n",
       "      <td>0.73</td>\n",
       "      <td>0.69</td>\n",
       "      <td>0.655</td>\n",
       "      <td>10.118</td>\n",
       "      <td>11</td>\n",
       "      <td>11</td>\n",
       "      <td>0.919818</td>\n",
       "    </tr>\n",
       "    <tr>\n",
       "      <th>4</th>\n",
       "      <td>102</td>\n",
       "      <td>Air Force Aerospace Studies</td>\n",
       "      <td>1</td>\n",
       "      <td>4</td>\n",
       "      <td>1</td>\n",
       "      <td>0</td>\n",
       "      <td>0</td>\n",
       "      <td>0</td>\n",
       "      <td>0</td>\n",
       "      <td>0</td>\n",
       "      <td>...</td>\n",
       "      <td>3.34</td>\n",
       "      <td>0.795</td>\n",
       "      <td>0.000</td>\n",
       "      <td>0.00</td>\n",
       "      <td>0.00</td>\n",
       "      <td>0.000</td>\n",
       "      <td>5.060</td>\n",
       "      <td>7</td>\n",
       "      <td>6</td>\n",
       "      <td>0.843333</td>\n",
       "    </tr>\n",
       "  </tbody>\n",
       "</table>\n",
       "<p>5 rows × 32 columns</p>\n",
       "</div>"
      ],
      "text/plain": [
       "   subject_code                   sub_j_name  a_count  ab_count  b_count  \\\n",
       "0           102  Air Force Aerospace Studies        0         0        0   \n",
       "1           102  Air Force Aerospace Studies        0         0        0   \n",
       "2           102  Air Force Aerospace Studies        0         0        0   \n",
       "3           102  Air Force Aerospace Studies        1         2        4   \n",
       "4           102  Air Force Aerospace Studies        1         4        1   \n",
       "\n",
       "   bc_count  c_count  d_count  f_count  s_count  ...  weighted_ab  weighted_b  \\\n",
       "0         0        0        0        0        0  ...         0.00       0.000   \n",
       "1         0        0        0        0        0  ...         0.00       0.000   \n",
       "2         0        0        0        0        0  ...         0.00       0.000   \n",
       "3         3        1        0        0        0  ...         1.67       3.180   \n",
       "4         0        0        0        0        0  ...         3.34       0.795   \n",
       "\n",
       "   weighted_bc  weighted_c  weighted_d  weighted_f  sum_of_grades  \\\n",
       "0        0.000        0.00        0.00       0.000          0.000   \n",
       "1        0.000        0.00        0.00       0.000          0.000   \n",
       "2        0.000        0.00        0.00       0.000          0.000   \n",
       "3        2.268        0.73        0.69       0.655         10.118   \n",
       "4        0.000        0.00        0.00       0.000          5.060   \n",
       "\n",
       "   student_count  a_f_count  grade_ratio  \n",
       "0              0          0          NaN  \n",
       "1              0          0          NaN  \n",
       "2              0          0          NaN  \n",
       "3             11         11     0.919818  \n",
       "4              7          6     0.843333  \n",
       "\n",
       "[5 rows x 32 columns]"
      ]
     },
     "execution_count": 23,
     "metadata": {},
     "output_type": "execute_result"
    }
   ],
   "source": [
    "df_STEM.head()"
   ]
  },
  {
   "cell_type": "code",
   "execution_count": 24,
   "metadata": {},
   "outputs": [
    {
     "data": {
      "text/html": [
       "<div>\n",
       "<style scoped>\n",
       "    .dataframe tbody tr th:only-of-type {\n",
       "        vertical-align: middle;\n",
       "    }\n",
       "\n",
       "    .dataframe tbody tr th {\n",
       "        vertical-align: top;\n",
       "    }\n",
       "\n",
       "    .dataframe thead th {\n",
       "        text-align: right;\n",
       "    }\n",
       "</style>\n",
       "<table border=\"1\" class=\"dataframe\">\n",
       "  <thead>\n",
       "    <tr style=\"text-align: right;\">\n",
       "      <th></th>\n",
       "      <th>subject_code</th>\n",
       "      <th>sub_j_name</th>\n",
       "      <th>a_count</th>\n",
       "      <th>ab_count</th>\n",
       "      <th>b_count</th>\n",
       "      <th>bc_count</th>\n",
       "      <th>c_count</th>\n",
       "      <th>d_count</th>\n",
       "      <th>f_count</th>\n",
       "      <th>s_count</th>\n",
       "      <th>...</th>\n",
       "      <th>weighted_ab</th>\n",
       "      <th>weighted_b</th>\n",
       "      <th>weighted_bc</th>\n",
       "      <th>weighted_c</th>\n",
       "      <th>weighted_d</th>\n",
       "      <th>weighted_f</th>\n",
       "      <th>sum_of_grades</th>\n",
       "      <th>student_count</th>\n",
       "      <th>a_f_count</th>\n",
       "      <th>grade_ratio</th>\n",
       "    </tr>\n",
       "  </thead>\n",
       "  <tbody>\n",
       "    <tr>\n",
       "      <th>103</th>\n",
       "      <td>104</td>\n",
       "      <td>African Languages and Literature</td>\n",
       "      <td>0</td>\n",
       "      <td>0</td>\n",
       "      <td>0</td>\n",
       "      <td>0</td>\n",
       "      <td>0</td>\n",
       "      <td>0</td>\n",
       "      <td>0</td>\n",
       "      <td>0</td>\n",
       "      <td>...</td>\n",
       "      <td>0.0</td>\n",
       "      <td>0.0</td>\n",
       "      <td>0.0</td>\n",
       "      <td>0.0</td>\n",
       "      <td>0.0</td>\n",
       "      <td>0.0</td>\n",
       "      <td>0.0</td>\n",
       "      <td>0</td>\n",
       "      <td>0</td>\n",
       "      <td>NaN</td>\n",
       "    </tr>\n",
       "    <tr>\n",
       "      <th>104</th>\n",
       "      <td>104</td>\n",
       "      <td>African Languages and Literature</td>\n",
       "      <td>0</td>\n",
       "      <td>0</td>\n",
       "      <td>0</td>\n",
       "      <td>0</td>\n",
       "      <td>0</td>\n",
       "      <td>0</td>\n",
       "      <td>0</td>\n",
       "      <td>0</td>\n",
       "      <td>...</td>\n",
       "      <td>0.0</td>\n",
       "      <td>0.0</td>\n",
       "      <td>0.0</td>\n",
       "      <td>0.0</td>\n",
       "      <td>0.0</td>\n",
       "      <td>0.0</td>\n",
       "      <td>0.0</td>\n",
       "      <td>0</td>\n",
       "      <td>0</td>\n",
       "      <td>NaN</td>\n",
       "    </tr>\n",
       "    <tr>\n",
       "      <th>105</th>\n",
       "      <td>104</td>\n",
       "      <td>African Languages and Literature</td>\n",
       "      <td>0</td>\n",
       "      <td>0</td>\n",
       "      <td>0</td>\n",
       "      <td>0</td>\n",
       "      <td>0</td>\n",
       "      <td>0</td>\n",
       "      <td>0</td>\n",
       "      <td>0</td>\n",
       "      <td>...</td>\n",
       "      <td>0.0</td>\n",
       "      <td>0.0</td>\n",
       "      <td>0.0</td>\n",
       "      <td>0.0</td>\n",
       "      <td>0.0</td>\n",
       "      <td>0.0</td>\n",
       "      <td>0.0</td>\n",
       "      <td>0</td>\n",
       "      <td>0</td>\n",
       "      <td>NaN</td>\n",
       "    </tr>\n",
       "    <tr>\n",
       "      <th>106</th>\n",
       "      <td>104</td>\n",
       "      <td>African Languages and Literature</td>\n",
       "      <td>0</td>\n",
       "      <td>0</td>\n",
       "      <td>0</td>\n",
       "      <td>0</td>\n",
       "      <td>0</td>\n",
       "      <td>0</td>\n",
       "      <td>0</td>\n",
       "      <td>0</td>\n",
       "      <td>...</td>\n",
       "      <td>0.0</td>\n",
       "      <td>0.0</td>\n",
       "      <td>0.0</td>\n",
       "      <td>0.0</td>\n",
       "      <td>0.0</td>\n",
       "      <td>0.0</td>\n",
       "      <td>0.0</td>\n",
       "      <td>0</td>\n",
       "      <td>0</td>\n",
       "      <td>NaN</td>\n",
       "    </tr>\n",
       "    <tr>\n",
       "      <th>107</th>\n",
       "      <td>104</td>\n",
       "      <td>African Languages and Literature</td>\n",
       "      <td>0</td>\n",
       "      <td>0</td>\n",
       "      <td>0</td>\n",
       "      <td>0</td>\n",
       "      <td>0</td>\n",
       "      <td>0</td>\n",
       "      <td>0</td>\n",
       "      <td>0</td>\n",
       "      <td>...</td>\n",
       "      <td>0.0</td>\n",
       "      <td>0.0</td>\n",
       "      <td>0.0</td>\n",
       "      <td>0.0</td>\n",
       "      <td>0.0</td>\n",
       "      <td>0.0</td>\n",
       "      <td>0.0</td>\n",
       "      <td>0</td>\n",
       "      <td>0</td>\n",
       "      <td>NaN</td>\n",
       "    </tr>\n",
       "  </tbody>\n",
       "</table>\n",
       "<p>5 rows × 32 columns</p>\n",
       "</div>"
      ],
      "text/plain": [
       "     subject_code                        sub_j_name  a_count  ab_count  \\\n",
       "103           104  African Languages and Literature        0         0   \n",
       "104           104  African Languages and Literature        0         0   \n",
       "105           104  African Languages and Literature        0         0   \n",
       "106           104  African Languages and Literature        0         0   \n",
       "107           104  African Languages and Literature        0         0   \n",
       "\n",
       "     b_count  bc_count  c_count  d_count  f_count  s_count  ...  weighted_ab  \\\n",
       "103        0         0        0        0        0        0  ...          0.0   \n",
       "104        0         0        0        0        0        0  ...          0.0   \n",
       "105        0         0        0        0        0        0  ...          0.0   \n",
       "106        0         0        0        0        0        0  ...          0.0   \n",
       "107        0         0        0        0        0        0  ...          0.0   \n",
       "\n",
       "     weighted_b  weighted_bc  weighted_c  weighted_d  weighted_f  \\\n",
       "103         0.0          0.0         0.0         0.0         0.0   \n",
       "104         0.0          0.0         0.0         0.0         0.0   \n",
       "105         0.0          0.0         0.0         0.0         0.0   \n",
       "106         0.0          0.0         0.0         0.0         0.0   \n",
       "107         0.0          0.0         0.0         0.0         0.0   \n",
       "\n",
       "     sum_of_grades  student_count  a_f_count  grade_ratio  \n",
       "103            0.0              0          0          NaN  \n",
       "104            0.0              0          0          NaN  \n",
       "105            0.0              0          0          NaN  \n",
       "106            0.0              0          0          NaN  \n",
       "107            0.0              0          0          NaN  \n",
       "\n",
       "[5 rows x 32 columns]"
      ]
     },
     "execution_count": 24,
     "metadata": {},
     "output_type": "execute_result"
    }
   ],
   "source": [
    "df_humanites.head()"
   ]
  },
  {
   "cell_type": "markdown",
   "metadata": {},
   "source": [
    "\n",
    "## Now for our conditions:\n",
    "<ol>\n",
    "\t<li>STEM education:\n",
    "\tJenkins wants a school that has STEM courses that are on par or better than courses in the humanities</li>\n",
    "\t<li>STEM progression:\n",
    "\tJenkins is concerned with the future of education, especially in STEM courses. We are looking for a school that has shown improvement in their STEM departents during recent years</li>\n",
    "\t<li>Class duration:\n",
    "\tJenkins is interested in the effect of time spent in class. Do Classes with longer sessions produce better grades?</li>\n",
    "\t<li>Consistent improvement:\n",
    "\tJenkins wants to be sure his donation will go to good use. He is looking for a school with consistent results for each and every student, and a proven record of updating and refining courses for the best results.</li>\n",
    "</ol>\n"
   ]
  },
  {
   "cell_type": "markdown",
   "metadata": {},
   "source": [
    "### Condition 1: do STEM courses get worse grades than the humanities?\n",
    "$H_0$: humanities mean grade = STEM mean grade <br>\n",
    "$H_A$: humanities mean grade > STEM mean grade <br>\n",
    "we will be using alpha of 0.05 for our hypothesis test"
   ]
  },
  {
   "cell_type": "code",
   "execution_count": 25,
   "metadata": {
    "scrolled": true
   },
   "outputs": [
    {
     "data": {
      "text/plain": [
       "0.5767077274938539"
      ]
     },
     "execution_count": 25,
     "metadata": {},
     "output_type": "execute_result"
    }
   ],
   "source": [
    "alpha = 0.05\n",
    "\n",
    "#find statistics for a hypothesis test\n",
    "STEM_mean = df_STEM.grade_ratio.mean()\n",
    "STEM_std = df_STEM.grade_ratio.std()\n",
    "\n",
    "humanities_mean = df_humanites.grade_ratio.mean()\n",
    "\n",
    "#perform hypothesis test\n",
    "z_score = (humanities_mean - STEM_mean)/ STEM_std\n",
    "\n",
    "STEM_vs_hum_results = stats.norm.sf(z_score)\n",
    "STEM_vs_hum_results"
   ]
  },
  {
   "cell_type": "code",
   "execution_count": 26,
   "metadata": {},
   "outputs": [
    {
     "data": {
      "text/plain": [
       "False"
      ]
     },
     "execution_count": 26,
     "metadata": {},
     "output_type": "execute_result"
    }
   ],
   "source": [
    "STEM_vs_hum_results < alpha"
   ]
  },
  {
   "cell_type": "markdown",
   "metadata": {},
   "source": [
    "#####  based on our findings, we cannot at this time reject $H_0$"
   ]
  },
  {
   "cell_type": "markdown",
   "metadata": {},
   "source": [
    "### do STEM mean grades get better as time goes on?\n",
    "$H_0$: STEM mean grades in 2007 = STEM mean grades in 2017 <br>\n",
    "$H_A$: STEM mean grades in 2007 < STEM mean grades in 2017 <br>\n",
    "once again we will be using alpha of 0.05"
   ]
  },
  {
   "cell_type": "code",
   "execution_count": 27,
   "metadata": {},
   "outputs": [
    {
     "data": {
      "text/plain": [
       "0.5255292778675951"
      ]
     },
     "execution_count": 27,
     "metadata": {},
     "output_type": "execute_result"
    }
   ],
   "source": [
    "#find statistics for a hypothesis test\n",
    "STEM_o_seven_mean = df_STEM.loc[df_STEM.year == '2007'].grade_ratio.mean()\n",
    "STEM_o_seven_std = df_STEM.loc[df_STEM.year == '2007'].grade_ratio.std()\n",
    "STEM_seventeen_mean = df_STEM.loc[df_STEM.year == '2017'].grade_ratio.mean()\n",
    "\n",
    "#perform hypothesis test\n",
    "STEM_z_score = ((STEM_seventeen_mean - STEM_o_seven_mean)/\n",
    "                STEM_o_seven_std)\n",
    "\n",
    "STEM_decade_results = stats.norm.sf(STEM_z_score)\n",
    "STEM_decade_results"
   ]
  },
  {
   "cell_type": "code",
   "execution_count": 28,
   "metadata": {},
   "outputs": [
    {
     "data": {
      "text/plain": [
       "False"
      ]
     },
     "execution_count": 28,
     "metadata": {},
     "output_type": "execute_result"
    }
   ],
   "source": [
    "STEM_decade_results < alpha"
   ]
  },
  {
   "cell_type": "markdown",
   "metadata": {},
   "source": [
    "#####  based on our findings, we cannot at this time reject $H_0$"
   ]
  },
  {
   "cell_type": "markdown",
   "metadata": {},
   "source": [
    "### does the humanites mean grade get better as time goes on?\n",
    "$H_0$: humanities mean grades in 2007 = humanities mean grades in 2017 <br>\n",
    "$H_A$: humanities mean grades in 2007 < humanities mean grades in 2017 <br>\n",
    "yet again we will be using alpha of 0.05"
   ]
  },
  {
   "cell_type": "code",
   "execution_count": 29,
   "metadata": {},
   "outputs": [
    {
     "data": {
      "text/plain": [
       "0.4851831936520029"
      ]
     },
     "execution_count": 29,
     "metadata": {},
     "output_type": "execute_result"
    }
   ],
   "source": [
    "#find statistics for a hypothesis test\n",
    "hum_o_seven_mean = df_humanites.loc[df_humanites.year == '2007'].grade_ratio.mean()\n",
    "hum_o_seven_std = df_humanites.loc[df_humanites.year == '2007'].grade_ratio.std()\n",
    "hum_seventeen_mean = df_humanites.loc[df_humanites.year == '2017'].grade_ratio.mean()\n",
    "\n",
    "\n",
    "#perform hypothesis test\n",
    "hum_z_score = ((hum_seventeen_mean -\n",
    "                      hum_o_seven_mean)/\n",
    "                     hum_o_seven_std)\n",
    "\n",
    "hum_decade_results = stats.norm.sf(hum_z_score)\n",
    "hum_decade_results"
   ]
  },
  {
   "cell_type": "code",
   "execution_count": 30,
   "metadata": {},
   "outputs": [
    {
     "data": {
      "text/plain": [
       "False"
      ]
     },
     "execution_count": 30,
     "metadata": {},
     "output_type": "execute_result"
    }
   ],
   "source": [
    "hum_decade_results < alpha"
   ]
  },
  {
   "cell_type": "markdown",
   "metadata": {},
   "source": [
    "#####  based on our findings, we cannot at this time reject $H_0$"
   ]
  },
  {
   "cell_type": "markdown",
   "metadata": {},
   "source": [
    "### do longer classes have higher mean grades than shorter classes?\n",
    "$H_0$: longer class mean grade = shorter class mean grade <br>\n",
    "$H_A$: longer class mean grade > shorter class mean grade <br>\n",
    "we will be using alpha of 0.05"
   ]
  },
  {
   "cell_type": "code",
   "execution_count": 31,
   "metadata": {},
   "outputs": [],
   "source": [
    "#make new column to measure the length of time in minutes\n",
    "df_join['class_duration'] = (df_join.end_time - \n",
    "                             df_join.start_time)"
   ]
  },
  {
   "cell_type": "code",
   "execution_count": 32,
   "metadata": {},
   "outputs": [
    {
     "data": {
      "text/plain": [
       "array([ 50,  75,   0,  85, 100,  80,  60, 120, 200, 150, 115, 160, 180,\n",
       "       110,  90, 105,  55, 130, 155, 170, 145, 210, 165, 140,  70, 480,\n",
       "       240, 510, 540,  95, 660, 720,  72, 300, 360, 520, 420, 270, 195,\n",
       "       450,  45, 226, 125, 190, 175, 135, 245, 265, 250,  25, 225,   5,\n",
       "       255, 189, 215,  65, 570, 435, 465, 205,  30, 390, 810, 330, 181,\n",
       "        64,  40, 220, 185, 600,  88, 119, 555, 539, 630, 500,  35, 113,\n",
       "       770, 325, 340, 690, 525, 645])"
      ]
     },
     "execution_count": 32,
     "metadata": {},
     "output_type": "execute_result"
    }
   ],
   "source": [
    "#find a good short and long class time to use\n",
    "#we settle with 50 minutes for short and\n",
    "#120 minutes for long\n",
    "df_join.class_duration.unique()"
   ]
  },
  {
   "cell_type": "code",
   "execution_count": 33,
   "metadata": {},
   "outputs": [
    {
     "data": {
      "text/plain": [
       "0.5310432393816399"
      ]
     },
     "execution_count": 33,
     "metadata": {},
     "output_type": "execute_result"
    }
   ],
   "source": [
    "#find statistics for a hypothesis test\n",
    "fifty_mean = df_join.loc[df_join.class_duration == 50].grade_ratio.mean()\n",
    "fifty_std = df_join.loc[df_join.class_duration == 50].grade_ratio.std()\n",
    "one_twenty_mean = df_join.loc[df_join.class_duration == 120].grade_ratio.mean()\n",
    "\n",
    "#perform hypothesis test\n",
    "class_duration_z_score = ((one_twenty_mean -\n",
    "                          fifty_mean)/fifty_std)\n",
    "class_hypo_results = stats.norm.sf(class_duration_z_score)\n",
    "class_hypo_results"
   ]
  },
  {
   "cell_type": "code",
   "execution_count": 34,
   "metadata": {},
   "outputs": [
    {
     "data": {
      "text/plain": [
       "False"
      ]
     },
     "execution_count": 34,
     "metadata": {},
     "output_type": "execute_result"
    }
   ],
   "source": [
    "class_hypo_results < alpha"
   ]
  },
  {
   "cell_type": "markdown",
   "metadata": {},
   "source": [
    "#####  based on our findings, we cannot at this time reject $H_0$"
   ]
  },
  {
   "cell_type": "code",
   "execution_count": null,
   "metadata": {},
   "outputs": [],
   "source": []
  }
 ],
 "metadata": {
  "kernelspec": {
   "display_name": "learn-env",
   "language": "python",
   "name": "learn-env"
  },
  "language_info": {
   "codemirror_mode": {
    "name": "ipython",
    "version": 3
   },
   "file_extension": ".py",
   "mimetype": "text/x-python",
   "name": "python",
   "nbconvert_exporter": "python",
   "pygments_lexer": "ipython3",
   "version": "3.6.8"
  }
 },
 "nbformat": 4,
 "nbformat_minor": 2
}
