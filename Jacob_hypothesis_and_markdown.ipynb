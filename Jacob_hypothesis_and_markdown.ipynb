{
 "cells": [
  {
   "cell_type": "code",
   "execution_count": 2,
   "metadata": {},
   "outputs": [],
   "source": [
    "import psycopg2\n",
    "import csv\n",
    "import glob\n",
    "import numpy as np \n",
    "import pandas as pd\n",
    "from scipy import stats\n",
    "from sqlalchemy import create_engine"
   ]
  },
  {
   "cell_type": "code",
   "execution_count": 3,
   "metadata": {},
   "outputs": [],
   "source": [
    "#create the database\n",
    "\n",
    "# ! createdb mod2project\n"
   ]
  },
  {
   "cell_type": "code",
   "execution_count": 4,
   "metadata": {},
   "outputs": [],
   "source": [
    "#connect to the database and make a cursor\n",
    "conn = psycopg2.connect(\"dbname=mod2project\")\n",
    "cur = conn.cursor()"
   ]
  },
  {
   "cell_type": "code",
   "execution_count": 5,
   "metadata": {},
   "outputs": [],
   "source": [
    "#set up our SQL tables\n",
    "create_query_1 = \"\"\"\n",
    "CREATE TABLE course_offerings(\n",
    "  uuid text\n",
    ", course_uuid text \n",
    ", term_code integer\n",
    ", name text\n",
    ")\n",
    "\"\"\"\n",
    "\n",
    "create_query_2 = \"\"\"\n",
    "CREATE TABLE courses(\n",
    "  uuid text \n",
    ", name text \n",
    ", number integer\n",
    ")\n",
    "\"\"\"\n",
    "\n",
    "create_query_3 = \"\"\"\n",
    "CREATE TABLE grade_distributions(\n",
    "  course_offering_uuid text\n",
    ", section_number text \n",
    ", a_count integer\n",
    ", ab_count integer\n",
    ", b_count integer\n",
    ", bc_count integer\n",
    ", c_count integer\n",
    ", d_count integer\n",
    ", f_count integer\n",
    ", s_count integer\n",
    ", u_count integer\n",
    ", cr_count integer\n",
    ", n_count integer\n",
    ", p_count integer\n",
    ", i_count integer\n",
    ", nw_count integer\n",
    ", nr_count integer\n",
    ", other_count integer\n",
    ")\n",
    "\"\"\"\n",
    "\n",
    "create_query_4 = \"\"\"\n",
    "CREATE TABLE instructors(\n",
    "  id integer\n",
    ", name text\n",
    ")\n",
    "\"\"\"\n",
    "\n",
    "create_query_5 = \"\"\"\n",
    "CREATE TABLE rooms(\n",
    "  uuid text\n",
    ", facility_code text\n",
    ", room_code text\n",
    ")\n",
    "\"\"\"\n",
    "\n",
    "create_query_6 =\"\"\"\n",
    "CREATE TABLE schedules(\n",
    "  uuid text\n",
    ", start_time integer\n",
    ", end_time integer\n",
    ", mon text\n",
    ", tues text\n",
    ", wed text\n",
    ", thurs text\n",
    ", fri text\n",
    ", sat text\n",
    ", sun text\n",
    ")\n",
    "\"\"\"\n",
    "\n",
    "create_query_7 = \"\"\"\n",
    "CREATE TABLE sections(\n",
    "  uuid text\n",
    ", course_offering_uuid text\n",
    ", section_type text\n",
    ", number text\n",
    ", room_uuid text\n",
    ",schedule_uuid text\n",
    ")\n",
    "\"\"\"\n",
    "\n",
    "create_query_8 = \"\"\"\n",
    "CREATE TABLE subject_memberships(\n",
    "  subject_code integer\n",
    ", course_offering_uuid text\n",
    ")\n",
    "\"\"\"\n",
    "\n",
    "create_query_9 = \"\"\"\n",
    "CREATE TABLE subjects(\n",
    "  code text\n",
    ", name text\n",
    ", abbreviation text\n",
    ")\n",
    "\"\"\"\n",
    "\n",
    "create_query_10 = \"\"\"\n",
    "CREATE TABLE teachings(\n",
    "  instructor_id integer\n",
    ", section_uuid text\n",
    ")\n",
    "\"\"\""
   ]
  },
  {
   "cell_type": "code",
   "execution_count": 6,
   "metadata": {},
   "outputs": [],
   "source": [
    "#get the names and locations of our datafiles\n",
    "csvs_for_table = glob.glob('raw_data/*.csv')"
   ]
  },
  {
   "cell_type": "code",
   "execution_count": 7,
   "metadata": {},
   "outputs": [],
   "source": [
    "#make a list of our queries\n",
    "queries_list = [create_query_1,create_query_2,create_query_3,create_query_4\n",
    "               ,create_query_5,create_query_6,create_query_7\n",
    "               ,create_query_8,create_query_9,create_query_10]"
   ]
  },
  {
   "cell_type": "code",
   "execution_count": 8,
   "metadata": {},
   "outputs": [],
   "source": [
    "#extract table names from our file names\n",
    "table_names = [x.split('/')[1][:-4] for x in csvs_for_table]"
   ]
  },
  {
   "cell_type": "code",
   "execution_count": 9,
   "metadata": {},
   "outputs": [],
   "source": [
    "#loop through our queries list and execute them\n",
    "\n",
    "# for query in queries_list:\n",
    "#     cur.execute(query)\n",
    "#     conn.commit()"
   ]
  },
  {
   "cell_type": "code",
   "execution_count": 10,
   "metadata": {
    "scrolled": true
   },
   "outputs": [],
   "source": [
    "# #loop through our table names and indexes\n",
    "# for q_num, table_name in enumerate(table_names):\n",
    "    \n",
    "#     #extract values from our first queries to use\n",
    "#     #in our insert statements below\n",
    "#     fields = tuple(line.strip(\", \").split()[0] for \n",
    "#                    line in queries_list[q_num].split('\\n')[2:-2])\n",
    "    \n",
    "#     #set up our insert statements\n",
    "#     query = f'''\n",
    "#     INSERT INTO {table_name}\n",
    "#     ({', '.join(fields)})\n",
    "#     VALUES ({', '.join('%s' for _ in range(len(fields)))})\n",
    "#     '''\n",
    "        \n",
    "    \n",
    "#     #open each file and insert it's values row\n",
    "#     #by row into the appropriate tables\n",
    "#     with open(csvs_for_table[q_num], 'r') as file:\n",
    "#         reader = csv.reader(file)\n",
    "#         next(reader)  # Skip the header row.\n",
    "#         for row in reader:\n",
    "#             cur.execute(\n",
    "#                 query,\n",
    "#                 row\n",
    "#             )\n",
    "#             conn.commit()\n",
    "            \n",
    "#         #check where we're having problems\n",
    "#         print(table_name,'still good')"
   ]
  },
  {
   "cell_type": "code",
   "execution_count": 11,
   "metadata": {},
   "outputs": [],
   "source": [
    "# conn.rollback()\n"
   ]
  },
  {
   "cell_type": "code",
   "execution_count": 12,
   "metadata": {},
   "outputs": [],
   "source": [
    "#set up a sqlalchemy engine\n",
    "\n",
    "engine = create_engine(\"postgresql:///mod2project\", echo=True)\n"
   ]
  },
  {
   "cell_type": "code",
   "execution_count": 13,
   "metadata": {},
   "outputs": [],
   "source": [
    "#build our query\n",
    "q = \"\"\"\n",
    "SELECT \n",
    "  sub_m.subject_code\n",
    ", sub_j.name AS sub_j_name\n",
    ", grade_d.a_count\n",
    ", grade_d.ab_count\n",
    ", grade_d.b_count\n",
    ", grade_d.bc_count\n",
    ", grade_d.c_count\n",
    ", sch.start_time\n",
    ", sch.end_time\n",
    ",\n",
    "\n",
    "  CASE\n",
    "        WHEN term_code BETWEEN 1063 AND 1073 THEN '2006'\n",
    "        WHEN term_code BETWEEN 1073 AND 1083 THEN '2007'\n",
    "        WHEN term_code BETWEEN 1083 AND 1093 THEN '2008'\n",
    "        WHEN term_code BETWEEN 1093 AND 1103 THEN '2009'\n",
    "        WHEN term_code BETWEEN 1103 AND 1113 THEN '2010'\n",
    "        WHEN term_code BETWEEN 1113 AND 1123 THEN '2011'\n",
    "        WHEN term_code BETWEEN 1123 AND 1133 THEN '2012'\n",
    "        WHEN term_code BETWEEN 1133 AND 1143 THEN '2013'\n",
    "        WHEN term_code BETWEEN 1143 AND 1153 THEN '2014'\n",
    "        WHEN term_code BETWEEN 1153 AND 1163 THEN '2015'\n",
    "        WHEN term_code BETWEEN 1163 AND 1173 THEN '2016'\n",
    "        WHEN term_code BETWEEN 1173 AND 1183 THEN '2017'\n",
    "        ELSE 'the_world_is_over'\n",
    "    END AS Year\n",
    "    \n",
    "\n",
    "FROM subject_memberships AS sub_m\n",
    "JOIN subjects sub_j\n",
    "ON cast(sub_m.subject_code as text) = cast(sub_j.code as text)\n",
    "JOIN course_offerings cor_o\n",
    "ON cor_o.uuid = sub_m.course_offering_uuid\n",
    "JOIN grade_distributions grade_d\n",
    "ON grade_d.course_offering_uuid = cor_o.uuid\n",
    "JOIN sections sect\n",
    "ON sect.course_offering_uuid = cor_o.uuid\n",
    "JOIN schedules sch\n",
    "ON sect.schedule_uuid = sch.uuid\n",
    "\n",
    "\"\"\""
   ]
  },
  {
   "cell_type": "code",
   "execution_count": 14,
   "metadata": {
    "scrolled": false
   },
   "outputs": [
    {
     "name": "stdout",
     "output_type": "stream",
     "text": [
      "2019-05-09 10:44:26,846 INFO sqlalchemy.engine.base.Engine select version()\n",
      "2019-05-09 10:44:26,847 INFO sqlalchemy.engine.base.Engine {}\n",
      "2019-05-09 10:44:26,850 INFO sqlalchemy.engine.base.Engine select current_schema()\n",
      "2019-05-09 10:44:26,851 INFO sqlalchemy.engine.base.Engine {}\n",
      "2019-05-09 10:44:26,855 INFO sqlalchemy.engine.base.Engine SELECT CAST('test plain returns' AS VARCHAR(60)) AS anon_1\n",
      "2019-05-09 10:44:26,856 INFO sqlalchemy.engine.base.Engine {}\n",
      "2019-05-09 10:44:26,858 INFO sqlalchemy.engine.base.Engine SELECT CAST('test unicode returns' AS VARCHAR(60)) AS anon_1\n",
      "2019-05-09 10:44:26,859 INFO sqlalchemy.engine.base.Engine {}\n",
      "2019-05-09 10:44:26,861 INFO sqlalchemy.engine.base.Engine show standard_conforming_strings\n",
      "2019-05-09 10:44:26,862 INFO sqlalchemy.engine.base.Engine {}\n",
      "2019-05-09 10:44:26,864 INFO sqlalchemy.engine.base.Engine \n",
      "SELECT \n",
      "  sub_m.subject_code\n",
      ", sub_j.name AS sub_j_name\n",
      ", grade_d.a_count\n",
      ", grade_d.ab_count\n",
      ", grade_d.b_count\n",
      ", grade_d.bc_count\n",
      ", grade_d.c_count\n",
      ", sch.start_time\n",
      ", sch.end_time\n",
      ",\n",
      "\n",
      "  CASE\n",
      "        WHEN term_code BETWEEN 1063 AND 1073 THEN '2006'\n",
      "        WHEN term_code BETWEEN 1073 AND 1083 THEN '2007'\n",
      "        WHEN term_code BETWEEN 1083 AND 1093 THEN '2008'\n",
      "        WHEN term_code BETWEEN 1093 AND 1103 THEN '2009'\n",
      "        WHEN term_code BETWEEN 1103 AND 1113 THEN '2010'\n",
      "        WHEN term_code BETWEEN 1113 AND 1123 THEN '2011'\n",
      "        WHEN term_code BETWEEN 1123 AND 1133 THEN '2012'\n",
      "        WHEN term_code BETWEEN 1133 AND 1143 THEN '2013'\n",
      "        WHEN term_code BETWEEN 1143 AND 1153 THEN '2014'\n",
      "        WHEN term_code BETWEEN 1153 AND 1163 THEN '2015'\n",
      "        WHEN term_code BETWEEN 1163 AND 1173 THEN '2016'\n",
      "        WHEN term_code BETWEEN 1173 AND 1183 THEN '2017'\n",
      "        ELSE 'the_world_is_over'\n",
      "    END AS Year\n",
      "    \n",
      "\n",
      "FROM subject_memberships AS sub_m\n",
      "JOIN subjects sub_j\n",
      "ON cast(sub_m.subject_code as text) = cast(sub_j.code as text)\n",
      "JOIN course_offerings cor_o\n",
      "ON cor_o.uuid = sub_m.course_offering_uuid\n",
      "JOIN grade_distributions grade_d\n",
      "ON grade_d.course_offering_uuid = cor_o.uuid\n",
      "JOIN sections sect\n",
      "ON sect.course_offering_uuid = cor_o.uuid\n",
      "JOIN schedules sch\n",
      "ON sect.schedule_uuid = sch.uuid\n",
      "\n",
      "\n",
      "2019-05-09 10:44:26,866 INFO sqlalchemy.engine.base.Engine {}\n"
     ]
    }
   ],
   "source": [
    "#put our query into a dataframe\n",
    "df_join = pd.read_sql_query(q,con=engine)"
   ]
  },
  {
   "cell_type": "code",
   "execution_count": 15,
   "metadata": {},
   "outputs": [],
   "source": [
    "#create a unique set of course names\n",
    "all_courses = set(df_join.sub_j_name)"
   ]
  },
  {
   "cell_type": "code",
   "execution_count": 16,
   "metadata": {},
   "outputs": [],
   "source": [
    "#make a list of humanites\n",
    "humanities = {'African Languages and Literature', 'Afro-American Studies', \n",
    "              'American Indian Studies', 'Art Department', 'Anthropology'\n",
    "              'Art Education (Department of Art)', 'Art History', 'Asian American Studies',\n",
    "              'Chicana/o and Latina/o Studies', 'Classics', 'Collaborative Nursing Program',\n",
    "              'Communication Arts','Communication Sciences and Disorders', 'Community and Environmental Sociology',\n",
    "              'Comparative Literature', 'Consumer Science', 'Counseling Psychology', 'Curriculum and Instruction',\n",
    "              'Dance', 'Design Studies', 'ENGLISH', 'East Asian Area Studies', 'East Asian Languages and Literature',\n",
    "              'Economics', 'Educational Leadership and Policy Analysis', 'Educational Policy Studies',\n",
    "              'Educational Psychology', 'Emergency Medicine', 'Engineering Professional Development',\n",
    "              'English', 'English as a Second Language', 'Entomology', 'Environmental Studies - Gaylord Nelson Institute',\n",
    "              'FAMILY AND CONSUMER COMMUNICATIONS', 'Family Medicine', 'Farm & Industry Short Course',\n",
    "              'Finance, Investment and Banking', 'Folklore Program', 'Forest and Wildlife Ecology',\n",
    "              'French (French and Italian)', 'Gender and Women’s Studies', 'General Business',\n",
    "              'Geography', 'German', 'Greek (Classics)', 'HEBREW', 'Hebrew-Biblical', 'Hebrew-Modern',\n",
    "              'History', 'History of Science', 'Horticulture', 'Human Development and Family Studies',\n",
    "              'Human Oncology', 'INDUSTRIAL RELATIONS', 'Integrated Arts', 'Integrated Liberal Studies',\n",
    "              'Integrated Science', 'Interdisciplinary Courses (CALS)', 'Interdisciplinary Courses (L&S)',\n",
    "              'Interdisciplinary Courses (SOHE)', 'International Business', 'International Studies',\n",
    "              'Italian (French and Italian)', 'Jewish Studies', 'Journalism and Mass Communication',\n",
    "              'Kinesiology', 'La Follette School of Public Affairs',  'Landscape Architecture',\n",
    "              'Languages and Cultures of Asia', 'Languages and Cultures of Asia - Languages',\n",
    "              'Latin (Classics)', 'Latin American, Caribbean, and Iberian Studies',\n",
    "              'Law','Legal Studies','Library and Information Studies',\n",
    "              'Life Sciences Communication', 'Linguistics', 'Literature in Translation',\n",
    "              'Management and Human Resources', 'Marketing', 'Medical History and Bioethics',\n",
    "              'Medieval Studies','Music','Music-Performance','Nursing','Nutritional Sciences',\n",
    "              'Occupational Therapy (Department of Kinesiology)',\n",
    "              'Operations and Technology Management','PHYSICAL EDUC ACTIVITY PROGM',\n",
    "              'PROFESSIONAL ORIENTATION', 'Pharmacy','Pharmacy Practice','Philosophy',\n",
    "              'Physical Therapy','Physician Assistant Program','Political Science',\n",
    "              'Portuguese (Spanish and Portuguese)','Psychiatry',\n",
    "              'Real Estate and Urban Land Economics',\n",
    "              'Rehabilitation Psychology and Special Education',\n",
    "              'Religious Studies','Risk Management and Insurance',\n",
    "              'Scandinavian Studies','Slavic (Slavic Languages)','Social Work',\n",
    "              'Social and Administrative Pharmacy','Sociology','Soil Science',\n",
    "              'Spanish (Spanish and Portuguese)','TRANSPORTATION AND PUBLIC UTILITIES',\n",
    "              'Theatre and Drama','Therapeutic Science (Department of Kinesiology)',\n",
    "              'Urban and Regional Planning','WILDLIFE ECOLOGY', 'Zoology'\n",
    " \n",
    "              }"
   ]
  },
  {
   "cell_type": "code",
   "execution_count": 17,
   "metadata": {},
   "outputs": [],
   "source": [
    "#remove the humanites from the course list\n",
    "all_courses -= humanities"
   ]
  },
  {
   "cell_type": "code",
   "execution_count": 18,
   "metadata": {},
   "outputs": [],
   "source": [
    "#set a STEM\n",
    "STEM = all_courses"
   ]
  },
  {
   "cell_type": "code",
   "execution_count": 19,
   "metadata": {
    "scrolled": false
   },
   "outputs": [],
   "source": [
    "#make columns with grades adjusted for weight\n",
    "df_join['weighted_a'] = df_join.a_count * 0.95\n",
    "df_join['weighted_ab'] = df_join.ab_count * 0.9\n",
    "df_join['weighted_b'] = df_join.b_count * 0.85\n",
    "df_join['weighted_bc'] = df_join.bc_count * .8\n",
    "df_join['weighted_c'] = df_join.c_count * .75"
   ]
  },
  {
   "cell_type": "code",
   "execution_count": 20,
   "metadata": {
    "scrolled": false
   },
   "outputs": [],
   "source": [
    "#adding the grades together\n",
    "sum_grades = (df_join.weighted_a + \n",
    "              df_join.weighted_ab + \n",
    "              df_join.weighted_b + \n",
    "              df_join.weighted_bc + \n",
    "              df_join.weighted_c)\n",
    "\n",
    "df_join['sum_of_grades'] = sum_grades"
   ]
  },
  {
   "cell_type": "code",
   "execution_count": 21,
   "metadata": {},
   "outputs": [],
   "source": [
    "#adding the student counts together\n",
    "student_counts = (df_join.a_count +\n",
    "                  df_join.ab_count +\n",
    "                  df_join.b_count +\n",
    "                  df_join.bc_count +\n",
    "                  df_join.c_count)\n",
    "\n",
    "df_join['student_count'] = student_counts"
   ]
  },
  {
   "cell_type": "code",
   "execution_count": 22,
   "metadata": {},
   "outputs": [],
   "source": [
    "#make a ratio of mean grade per class\n",
    "df_join['grade_ratio'] = df_join.sum_of_grades/ df_join.student_count\n",
    "\n",
    "#make ratio grade for each student\n",
    "df_STEM = df_join.loc[df_join.sub_j_name.isin(STEM)]\n",
    "STEM_grade = df_STEM.grade_ratio.sum()/df_STEM.grade_ratio.count()\n",
    "\n",
    "df_humanites = df_join.loc[df_join.sub_j_name.isin(humanities)]\n",
    "humanites_grade = df_humanites.grade_ratio.sum()/df_humanites.grade_ratio.count()"
   ]
  },
  {
   "cell_type": "code",
   "execution_count": 23,
   "metadata": {},
   "outputs": [
    {
     "data": {
      "text/html": [
       "<div>\n",
       "<style scoped>\n",
       "    .dataframe tbody tr th:only-of-type {\n",
       "        vertical-align: middle;\n",
       "    }\n",
       "\n",
       "    .dataframe tbody tr th {\n",
       "        vertical-align: top;\n",
       "    }\n",
       "\n",
       "    .dataframe thead th {\n",
       "        text-align: right;\n",
       "    }\n",
       "</style>\n",
       "<table border=\"1\" class=\"dataframe\">\n",
       "  <thead>\n",
       "    <tr style=\"text-align: right;\">\n",
       "      <th></th>\n",
       "      <th>subject_code</th>\n",
       "      <th>sub_j_name</th>\n",
       "      <th>a_count</th>\n",
       "      <th>ab_count</th>\n",
       "      <th>b_count</th>\n",
       "      <th>bc_count</th>\n",
       "      <th>c_count</th>\n",
       "      <th>start_time</th>\n",
       "      <th>end_time</th>\n",
       "      <th>year</th>\n",
       "      <th>weighted_a</th>\n",
       "      <th>weighted_ab</th>\n",
       "      <th>weighted_b</th>\n",
       "      <th>weighted_bc</th>\n",
       "      <th>weighted_c</th>\n",
       "      <th>sum_of_grades</th>\n",
       "      <th>student_count</th>\n",
       "      <th>grade_ratio</th>\n",
       "    </tr>\n",
       "  </thead>\n",
       "  <tbody>\n",
       "    <tr>\n",
       "      <th>0</th>\n",
       "      <td>220</td>\n",
       "      <td>Chemical and Biological Engineering</td>\n",
       "      <td>129</td>\n",
       "      <td>8</td>\n",
       "      <td>2</td>\n",
       "      <td>0</td>\n",
       "      <td>1</td>\n",
       "      <td>-1</td>\n",
       "      <td>-1</td>\n",
       "      <td>2015</td>\n",
       "      <td>122.55</td>\n",
       "      <td>7.2</td>\n",
       "      <td>1.7</td>\n",
       "      <td>0.0</td>\n",
       "      <td>0.75</td>\n",
       "      <td>132.2</td>\n",
       "      <td>140</td>\n",
       "      <td>0.944286</td>\n",
       "    </tr>\n",
       "    <tr>\n",
       "      <th>1</th>\n",
       "      <td>320</td>\n",
       "      <td>Electrical and Computer Engineering</td>\n",
       "      <td>129</td>\n",
       "      <td>8</td>\n",
       "      <td>2</td>\n",
       "      <td>0</td>\n",
       "      <td>1</td>\n",
       "      <td>-1</td>\n",
       "      <td>-1</td>\n",
       "      <td>2015</td>\n",
       "      <td>122.55</td>\n",
       "      <td>7.2</td>\n",
       "      <td>1.7</td>\n",
       "      <td>0.0</td>\n",
       "      <td>0.75</td>\n",
       "      <td>132.2</td>\n",
       "      <td>140</td>\n",
       "      <td>0.944286</td>\n",
       "    </tr>\n",
       "    <tr>\n",
       "      <th>2</th>\n",
       "      <td>346</td>\n",
       "      <td>Engineering Mechanics and Astronautics</td>\n",
       "      <td>129</td>\n",
       "      <td>8</td>\n",
       "      <td>2</td>\n",
       "      <td>0</td>\n",
       "      <td>1</td>\n",
       "      <td>-1</td>\n",
       "      <td>-1</td>\n",
       "      <td>2015</td>\n",
       "      <td>122.55</td>\n",
       "      <td>7.2</td>\n",
       "      <td>1.7</td>\n",
       "      <td>0.0</td>\n",
       "      <td>0.75</td>\n",
       "      <td>132.2</td>\n",
       "      <td>140</td>\n",
       "      <td>0.944286</td>\n",
       "    </tr>\n",
       "    <tr>\n",
       "      <th>3</th>\n",
       "      <td>612</td>\n",
       "      <td>Mechanical Engineering</td>\n",
       "      <td>129</td>\n",
       "      <td>8</td>\n",
       "      <td>2</td>\n",
       "      <td>0</td>\n",
       "      <td>1</td>\n",
       "      <td>-1</td>\n",
       "      <td>-1</td>\n",
       "      <td>2015</td>\n",
       "      <td>122.55</td>\n",
       "      <td>7.2</td>\n",
       "      <td>1.7</td>\n",
       "      <td>0.0</td>\n",
       "      <td>0.75</td>\n",
       "      <td>132.2</td>\n",
       "      <td>140</td>\n",
       "      <td>0.944286</td>\n",
       "    </tr>\n",
       "    <tr>\n",
       "      <th>4</th>\n",
       "      <td>207</td>\n",
       "      <td>Biomedical Engineering</td>\n",
       "      <td>129</td>\n",
       "      <td>8</td>\n",
       "      <td>2</td>\n",
       "      <td>0</td>\n",
       "      <td>1</td>\n",
       "      <td>-1</td>\n",
       "      <td>-1</td>\n",
       "      <td>2015</td>\n",
       "      <td>122.55</td>\n",
       "      <td>7.2</td>\n",
       "      <td>1.7</td>\n",
       "      <td>0.0</td>\n",
       "      <td>0.75</td>\n",
       "      <td>132.2</td>\n",
       "      <td>140</td>\n",
       "      <td>0.944286</td>\n",
       "    </tr>\n",
       "  </tbody>\n",
       "</table>\n",
       "</div>"
      ],
      "text/plain": [
       "   subject_code                              sub_j_name  a_count  ab_count  \\\n",
       "0           220     Chemical and Biological Engineering      129         8   \n",
       "1           320     Electrical and Computer Engineering      129         8   \n",
       "2           346  Engineering Mechanics and Astronautics      129         8   \n",
       "3           612                  Mechanical Engineering      129         8   \n",
       "4           207                  Biomedical Engineering      129         8   \n",
       "\n",
       "   b_count  bc_count  c_count  start_time  end_time  year  weighted_a  \\\n",
       "0        2         0        1          -1        -1  2015      122.55   \n",
       "1        2         0        1          -1        -1  2015      122.55   \n",
       "2        2         0        1          -1        -1  2015      122.55   \n",
       "3        2         0        1          -1        -1  2015      122.55   \n",
       "4        2         0        1          -1        -1  2015      122.55   \n",
       "\n",
       "   weighted_ab  weighted_b  weighted_bc  weighted_c  sum_of_grades  \\\n",
       "0          7.2         1.7          0.0        0.75          132.2   \n",
       "1          7.2         1.7          0.0        0.75          132.2   \n",
       "2          7.2         1.7          0.0        0.75          132.2   \n",
       "3          7.2         1.7          0.0        0.75          132.2   \n",
       "4          7.2         1.7          0.0        0.75          132.2   \n",
       "\n",
       "   student_count  grade_ratio  \n",
       "0            140     0.944286  \n",
       "1            140     0.944286  \n",
       "2            140     0.944286  \n",
       "3            140     0.944286  \n",
       "4            140     0.944286  "
      ]
     },
     "execution_count": 23,
     "metadata": {},
     "output_type": "execute_result"
    }
   ],
   "source": [
    "df_STEM.head()"
   ]
  },
  {
   "cell_type": "code",
   "execution_count": 24,
   "metadata": {},
   "outputs": [
    {
     "data": {
      "text/html": [
       "<div>\n",
       "<style scoped>\n",
       "    .dataframe tbody tr th:only-of-type {\n",
       "        vertical-align: middle;\n",
       "    }\n",
       "\n",
       "    .dataframe tbody tr th {\n",
       "        vertical-align: top;\n",
       "    }\n",
       "\n",
       "    .dataframe thead th {\n",
       "        text-align: right;\n",
       "    }\n",
       "</style>\n",
       "<table border=\"1\" class=\"dataframe\">\n",
       "  <thead>\n",
       "    <tr style=\"text-align: right;\">\n",
       "      <th></th>\n",
       "      <th>subject_code</th>\n",
       "      <th>sub_j_name</th>\n",
       "      <th>a_count</th>\n",
       "      <th>ab_count</th>\n",
       "      <th>b_count</th>\n",
       "      <th>bc_count</th>\n",
       "      <th>c_count</th>\n",
       "      <th>start_time</th>\n",
       "      <th>end_time</th>\n",
       "      <th>year</th>\n",
       "      <th>weighted_a</th>\n",
       "      <th>weighted_ab</th>\n",
       "      <th>weighted_b</th>\n",
       "      <th>weighted_bc</th>\n",
       "      <th>weighted_c</th>\n",
       "      <th>sum_of_grades</th>\n",
       "      <th>student_count</th>\n",
       "      <th>grade_ratio</th>\n",
       "    </tr>\n",
       "  </thead>\n",
       "  <tbody>\n",
       "    <tr>\n",
       "      <th>61</th>\n",
       "      <td>741</td>\n",
       "      <td>Dance</td>\n",
       "      <td>22</td>\n",
       "      <td>16</td>\n",
       "      <td>0</td>\n",
       "      <td>0</td>\n",
       "      <td>0</td>\n",
       "      <td>660</td>\n",
       "      <td>760</td>\n",
       "      <td>2015</td>\n",
       "      <td>20.9</td>\n",
       "      <td>14.4</td>\n",
       "      <td>0.00</td>\n",
       "      <td>0.0</td>\n",
       "      <td>0.0</td>\n",
       "      <td>35.30</td>\n",
       "      <td>38</td>\n",
       "      <td>0.928947</td>\n",
       "    </tr>\n",
       "    <tr>\n",
       "      <th>62</th>\n",
       "      <td>741</td>\n",
       "      <td>Dance</td>\n",
       "      <td>18</td>\n",
       "      <td>12</td>\n",
       "      <td>0</td>\n",
       "      <td>0</td>\n",
       "      <td>0</td>\n",
       "      <td>660</td>\n",
       "      <td>760</td>\n",
       "      <td>2015</td>\n",
       "      <td>17.1</td>\n",
       "      <td>10.8</td>\n",
       "      <td>0.00</td>\n",
       "      <td>0.0</td>\n",
       "      <td>0.0</td>\n",
       "      <td>27.90</td>\n",
       "      <td>30</td>\n",
       "      <td>0.930000</td>\n",
       "    </tr>\n",
       "    <tr>\n",
       "      <th>63</th>\n",
       "      <td>741</td>\n",
       "      <td>Dance</td>\n",
       "      <td>22</td>\n",
       "      <td>3</td>\n",
       "      <td>5</td>\n",
       "      <td>0</td>\n",
       "      <td>0</td>\n",
       "      <td>660</td>\n",
       "      <td>760</td>\n",
       "      <td>2015</td>\n",
       "      <td>20.9</td>\n",
       "      <td>2.7</td>\n",
       "      <td>4.25</td>\n",
       "      <td>0.0</td>\n",
       "      <td>0.0</td>\n",
       "      <td>27.85</td>\n",
       "      <td>30</td>\n",
       "      <td>0.928333</td>\n",
       "    </tr>\n",
       "    <tr>\n",
       "      <th>64</th>\n",
       "      <td>741</td>\n",
       "      <td>Dance</td>\n",
       "      <td>18</td>\n",
       "      <td>1</td>\n",
       "      <td>0</td>\n",
       "      <td>0</td>\n",
       "      <td>0</td>\n",
       "      <td>660</td>\n",
       "      <td>760</td>\n",
       "      <td>2015</td>\n",
       "      <td>17.1</td>\n",
       "      <td>0.9</td>\n",
       "      <td>0.00</td>\n",
       "      <td>0.0</td>\n",
       "      <td>0.0</td>\n",
       "      <td>18.00</td>\n",
       "      <td>19</td>\n",
       "      <td>0.947368</td>\n",
       "    </tr>\n",
       "    <tr>\n",
       "      <th>65</th>\n",
       "      <td>741</td>\n",
       "      <td>Dance</td>\n",
       "      <td>22</td>\n",
       "      <td>16</td>\n",
       "      <td>0</td>\n",
       "      <td>0</td>\n",
       "      <td>0</td>\n",
       "      <td>725</td>\n",
       "      <td>775</td>\n",
       "      <td>2015</td>\n",
       "      <td>20.9</td>\n",
       "      <td>14.4</td>\n",
       "      <td>0.00</td>\n",
       "      <td>0.0</td>\n",
       "      <td>0.0</td>\n",
       "      <td>35.30</td>\n",
       "      <td>38</td>\n",
       "      <td>0.928947</td>\n",
       "    </tr>\n",
       "  </tbody>\n",
       "</table>\n",
       "</div>"
      ],
      "text/plain": [
       "    subject_code sub_j_name  a_count  ab_count  b_count  bc_count  c_count  \\\n",
       "61           741      Dance       22        16        0         0        0   \n",
       "62           741      Dance       18        12        0         0        0   \n",
       "63           741      Dance       22         3        5         0        0   \n",
       "64           741      Dance       18         1        0         0        0   \n",
       "65           741      Dance       22        16        0         0        0   \n",
       "\n",
       "    start_time  end_time  year  weighted_a  weighted_ab  weighted_b  \\\n",
       "61         660       760  2015        20.9         14.4        0.00   \n",
       "62         660       760  2015        17.1         10.8        0.00   \n",
       "63         660       760  2015        20.9          2.7        4.25   \n",
       "64         660       760  2015        17.1          0.9        0.00   \n",
       "65         725       775  2015        20.9         14.4        0.00   \n",
       "\n",
       "    weighted_bc  weighted_c  sum_of_grades  student_count  grade_ratio  \n",
       "61          0.0         0.0          35.30             38     0.928947  \n",
       "62          0.0         0.0          27.90             30     0.930000  \n",
       "63          0.0         0.0          27.85             30     0.928333  \n",
       "64          0.0         0.0          18.00             19     0.947368  \n",
       "65          0.0         0.0          35.30             38     0.928947  "
      ]
     },
     "execution_count": 24,
     "metadata": {},
     "output_type": "execute_result"
    }
   ],
   "source": [
    "df_humanites.head()"
   ]
  },
  {
   "cell_type": "markdown",
   "metadata": {},
   "source": [
    "## do STEM courses get worse grades than the humanities?\n",
    "null hypothesis: humanities mean grade = STEM mean grade <br>\n",
    "alternative hypothesis: humanities mean grade > STEM mean grade <br>\n",
    "we will be using alpha of 0.05 for our hypothesis test"
   ]
  },
  {
   "cell_type": "code",
   "execution_count": 74,
   "metadata": {
    "scrolled": true
   },
   "outputs": [
    {
     "data": {
      "text/plain": [
       "0.23420663504578448"
      ]
     },
     "execution_count": 74,
     "metadata": {},
     "output_type": "execute_result"
    }
   ],
   "source": [
    "alpha = 0.05\n",
    "\n",
    "#find statistics for a hypothesis test\n",
    "STEM_mean = df_STEM.grade_ratio.mean()\n",
    "STEM_std = df_STEM.grade_ratio.std()\n",
    "\n",
    "humanities_mean = df_humanites.grade_ratio.mean()\n",
    "\n",
    "#perform hypothesis test\n",
    "z_score = (humanities_mean - STEM_mean)/ STEM_std\n",
    "\n",
    "STEM_vs_hum_results = stats.norm.sf(z_score)\n",
    "STEM_vs_hum_results"
   ]
  },
  {
   "cell_type": "code",
   "execution_count": 75,
   "metadata": {},
   "outputs": [
    {
     "data": {
      "text/plain": [
       "False"
      ]
     },
     "execution_count": 75,
     "metadata": {},
     "output_type": "execute_result"
    }
   ],
   "source": [
    "STEM_vs_hum_results < alpha"
   ]
  },
  {
   "cell_type": "markdown",
   "metadata": {},
   "source": [
    "#####  based on our findings, we cannot at this time reject the null hypothesis"
   ]
  },
  {
   "cell_type": "markdown",
   "metadata": {},
   "source": [
    "## do STEM mean grades get better as time goes on?\n",
    "null hypothesis: STEM mean grades in 2007 = STEM mean grades in 2017 <br>\n",
    "alternative hypothesis: STEM mean grades in 2007 < STEM mean grades in 2017 <br>\n",
    "once again we will be using alpha of 0.05"
   ]
  },
  {
   "cell_type": "code",
   "execution_count": 78,
   "metadata": {},
   "outputs": [
    {
     "data": {
      "text/plain": [
       "0.4426261632812877"
      ]
     },
     "execution_count": 78,
     "metadata": {},
     "output_type": "execute_result"
    }
   ],
   "source": [
    "#find statistics for a hypothesis test\n",
    "STEM_o_seven_mean = df_STEM.loc[df_STEM.year == '2007'].grade_ratio.mean()\n",
    "STEM_o_seven_std = df_STEM.loc[df_STEM.year == '2007'].grade_ratio.std()\n",
    "STEM_seventeen_mean = df_STEM.loc[df_STEM.year == '2017'].grade_ratio.mean()\n",
    "\n",
    "#perform hypothesis test\n",
    "STEM_z_score = ((STEM_seventeen_mean - STEM_o_seven_mean)/\n",
    "                STEM_o_seven_std)\n",
    "\n",
    "STEM_decade_results = stats.norm.sf(STEM_z_score)\n",
    "STEM_decade_results"
   ]
  },
  {
   "cell_type": "code",
   "execution_count": 77,
   "metadata": {},
   "outputs": [
    {
     "data": {
      "text/plain": [
       "False"
      ]
     },
     "execution_count": 77,
     "metadata": {},
     "output_type": "execute_result"
    }
   ],
   "source": [
    "STEM_decade_results < alpha"
   ]
  },
  {
   "cell_type": "markdown",
   "metadata": {},
   "source": [
    "#####  based on our findings, we cannot at this time reject the null hypothesis"
   ]
  },
  {
   "cell_type": "markdown",
   "metadata": {},
   "source": [
    "## does the humanites mean grade get better as time goes on?\n",
    "null hypothesis: humanities mean grades in 2007 = humanities mean grades in 2017 <br>\n",
    "alternative hypothesis: humanities mean grades in 2007 < humanities mean grades in 2017 <br>\n",
    "yet again we will be using alpha of 0.05"
   ]
  },
  {
   "cell_type": "code",
   "execution_count": 79,
   "metadata": {},
   "outputs": [
    {
     "data": {
      "text/plain": [
       "0.32038024346486504"
      ]
     },
     "execution_count": 79,
     "metadata": {},
     "output_type": "execute_result"
    }
   ],
   "source": [
    "#find statistics for a hypothesis test\n",
    "hum_o_seven_mean = df_humanites.loc[df_humanites.year == '2007'].grade_ratio.mean()\n",
    "hum_o_seven_std = df_humanites.loc[df_humanites.year == '2007'].grade_ratio.std()\n",
    "hum_seventeen_mean = df_humanites.loc[df_humanites.year == '2017'].grade_ratio.mean()\n",
    "\n",
    "\n",
    "#perform hypothesis test\n",
    "hum_z_score = ((hum_seventeen_mean -\n",
    "                      hum_o_seven_mean)/\n",
    "                     hum_o_seven_std)\n",
    "\n",
    "hum_decade_results = stats.norm.sf(humanites_z_score)\n",
    "hum_decade_results"
   ]
  },
  {
   "cell_type": "code",
   "execution_count": 80,
   "metadata": {},
   "outputs": [
    {
     "data": {
      "text/plain": [
       "False"
      ]
     },
     "execution_count": 80,
     "metadata": {},
     "output_type": "execute_result"
    }
   ],
   "source": [
    "hum_decade_results < alpha"
   ]
  },
  {
   "cell_type": "markdown",
   "metadata": {},
   "source": [
    "#####  based on our findings, we cannot at this time reject the null hypothesis"
   ]
  },
  {
   "cell_type": "markdown",
   "metadata": {},
   "source": [
    "## do longer classes have higher mean grades than shorter classes?\n",
    "null hypothesis: longer class mean grade = shorter class mean grade <br>\n",
    "alternative hypothesis: longer class mean grade > shorter class mean grade <br>\n",
    "we will be using alpha of 0.05"
   ]
  },
  {
   "cell_type": "code",
   "execution_count": 34,
   "metadata": {},
   "outputs": [],
   "source": [
    "#make new column to measure the length of time in minutes\n",
    "df_join['class_duration'] = (df_join.end_time - \n",
    "                             df_join.start_time)"
   ]
  },
  {
   "cell_type": "code",
   "execution_count": 81,
   "metadata": {},
   "outputs": [
    {
     "data": {
      "text/plain": [
       "array([  0, 100,  50, 120,  60, 105, 150,  90,  75, 180, 115,  80,  70,\n",
       "       110, 125, 215, 185, 240, 160, 200, 175,  55, 135,  40, 450, 155,\n",
       "        65, 210, 140,  30, 130, 420, 245, 181, 195,  45, 480, 255, 435,\n",
       "       165, 510, 540, 300,  85, 220, 465, 190, 270, 145, 340, 330, 325,\n",
       "       600, 630, 570,  95, 555, 660, 225, 720, 360, 170, 176, 390, 690,\n",
       "       539, 250, 265, 205,  72, 189, 810, 525, 172,  88, 770,   5,  64,\n",
       "       500,  25, 113, 226,  35,  56,  49, 520,  14, 645, 119,  48])"
      ]
     },
     "execution_count": 81,
     "metadata": {},
     "output_type": "execute_result"
    }
   ],
   "source": [
    "#find a good short and long class time to use\n",
    "#we settle with 50 minutes for short and\n",
    "#120 minutes for long\n",
    "df_join.class_duration.unique()"
   ]
  },
  {
   "cell_type": "code",
   "execution_count": 72,
   "metadata": {},
   "outputs": [
    {
     "data": {
      "text/plain": [
       "0.18980967173777946"
      ]
     },
     "execution_count": 72,
     "metadata": {},
     "output_type": "execute_result"
    }
   ],
   "source": [
    "#find statistics for a hypothesis test\n",
    "fifty_mean = df_join.loc[df_join.class_duration == 50].grade_ratio.mean()\n",
    "fifty_std = df_join.loc[df_join.class_duration == 50].grade_ratio.std()\n",
    "one_twenty_mean = df_join.loc[df_join.class_duration == 120].grade_ratio.mean()\n",
    "\n",
    "#perform hypothesis test\n",
    "class_duration_z_score = ((one_twenty_mean -\n",
    "                          fifty_mean)/fifty_std)\n",
    "class_hypo_results = stats.norm.sf(class_duration_z_score)\n",
    "class_hypo_results"
   ]
  },
  {
   "cell_type": "code",
   "execution_count": 82,
   "metadata": {},
   "outputs": [
    {
     "data": {
      "text/plain": [
       "False"
      ]
     },
     "execution_count": 82,
     "metadata": {},
     "output_type": "execute_result"
    }
   ],
   "source": [
    "class_hypo_results < alpha"
   ]
  },
  {
   "cell_type": "markdown",
   "metadata": {},
   "source": [
    "#####  based on our findings, we cannot at this time reject the null hypothesis"
   ]
  },
  {
   "cell_type": "code",
   "execution_count": null,
   "metadata": {},
   "outputs": [],
   "source": []
  }
 ],
 "metadata": {
  "kernelspec": {
   "display_name": "learn-env",
   "language": "python",
   "name": "learn-env"
  },
  "language_info": {
   "codemirror_mode": {
    "name": "ipython",
    "version": 3
   },
   "file_extension": ".py",
   "mimetype": "text/x-python",
   "name": "python",
   "nbconvert_exporter": "python",
   "pygments_lexer": "ipython3",
   "version": "3.6.8"
  }
 },
 "nbformat": 4,
 "nbformat_minor": 2
}
