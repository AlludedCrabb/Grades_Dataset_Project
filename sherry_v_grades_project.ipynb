{
 "cells": [
  {
   "cell_type": "code",
   "execution_count": 5,
   "metadata": {},
   "outputs": [],
   "source": [
    "import psycopg2\n",
    "import csv"
   ]
  },
  {
   "cell_type": "code",
   "execution_count": 23,
   "metadata": {},
   "outputs": [],
   "source": [
    "import numpy as np "
   ]
  },
  {
   "cell_type": "markdown",
   "metadata": {},
   "source": [
    "* My csv files:\n",
    "* course_offerings.csv\n",
    "* courses.csv\n",
    "* grade_distributions.csv\n",
    "* instructors.csv\n",
    "* rooms.csv\n",
    "* schedules.csv\n",
    "* sections.csv\n",
    "* subject_memberships.csv\n",
    "* subjects.csv\n",
    "* teachings.csv"
   ]
  },
  {
   "cell_type": "code",
   "execution_count": 12,
   "metadata": {},
   "outputs": [],
   "source": [
    "conn = psycopg2.connect(\"dbname=mod2project\")\n",
    "cur = conn.cursor()"
   ]
  },
  {
   "cell_type": "code",
   "execution_count": 64,
   "metadata": {},
   "outputs": [],
   "source": [
    "cur.execute(create_query)"
   ]
  },
  {
   "cell_type": "code",
   "execution_count": 65,
   "metadata": {},
   "outputs": [],
   "source": [
    "conn.commit()"
   ]
  },
  {
   "cell_type": "code",
   "execution_count": 68,
   "metadata": {},
   "outputs": [],
   "source": [
    "query = f\"\"\"\n",
    "INSERT INTO {table}\n",
    "  ({', '.join(fields)})\n",
    "VALUES\n",
    "  ({', '.join('%s' for _ in range(len(fields)))})\n",
    "\"\"\""
   ]
  },
  {
   "cell_type": "code",
   "execution_count": null,
   "metadata": {},
   "outputs": [],
   "source": [
    "create_query = \"\"\"\n",
    "CREATE TABLE courses(\n",
    "  uuid text PRIMARY KEY\n",
    ", name text \n",
    ", number integer\n",
    ")\n",
    "\"\"\""
   ]
  },
  {
   "cell_type": "code",
   "execution_count": null,
   "metadata": {},
   "outputs": [],
   "source": [
    "create_query = \"\"\"\n",
    "CREATE TABLE course_offerings(\n",
    "  uuid text\n",
    ", course_uuid text \n",
    ", term_code integer\n",
    ", name text\n",
    ")\n",
    "\"\"\""
   ]
  },
  {
   "cell_type": "code",
   "execution_count": null,
   "metadata": {},
   "outputs": [],
   "source": [
    "create_query = \"\"\"\n",
    "CREATE TABLE grade_distributions(\n",
    "  course_offering_uuid text\n",
    ", section_number text \n",
    ", a_count integer\n",
    ", ab_count integer\n",
    ", b_count integer\n",
    ", bc_count integer\n",
    ", c_count integer\n",
    ", d_count integer\n",
    ", f_count integer\n",
    ", s_count integer\n",
    ", u_count integer\n",
    ", cr_count integer\n",
    ", n_count integer\n",
    ", p_count integer\n",
    ", i_count integer\n",
    ", nw_count integer\n",
    ", nr_count integer\n",
    ", other_count integer\n",
    ", PRIMARY KEY (course_offering_uuid, section_number)\n",
    ")\n",
    "\"\"\""
   ]
  },
  {
   "cell_type": "code",
   "execution_count": null,
   "metadata": {},
   "outputs": [],
   "source": [
    "create_query = \"\"\"\n",
    "CREATE TABLE instructors(\n",
    "  id integer PRIMARY KEY\n",
    ", name text\n",
    ")\n",
    "\"\"\""
   ]
  },
  {
   "cell_type": "code",
   "execution_count": null,
   "metadata": {},
   "outputs": [],
   "source": [
    "create_query = \"\"\"\n",
    "CREATE TABLE rooms(\n",
    "  uuid text PRIMARY KEY\n",
    ", facility_code text\n",
    ", room_code text\n",
    ")\n",
    "\"\"\""
   ]
  },
  {
   "cell_type": "code",
   "execution_count": null,
   "metadata": {},
   "outputs": [],
   "source": [
    "create_query =\"\"\"\n",
    "CREATE TABLE schedules(\n",
    "  uuid text PRIMARY KEY\n",
    ", start_time integer\n",
    ", mon integer\n",
    ", tues integer\n",
    ", wed integer\n",
    ", thurs integer\n",
    ", fri integer\n",
    ", sat integer\n",
    ", sun integer\n",
    ")\n",
    "\"\"\""
   ]
  },
  {
   "cell_type": "code",
   "execution_count": null,
   "metadata": {},
   "outputs": [],
   "source": [
    "\"\"\"CREATE TABLE sections(\n",
    "            uuid text PRIMARY KEY,\n",
    "            course_offering_uuid text,\n",
    "            section_type text,\n",
    "            number text,\n",
    "            room_uuid text,\n",
    "            schedule_uuid text)\"\"\""
   ]
  },
  {
   "cell_type": "code",
   "execution_count": null,
   "metadata": {},
   "outputs": [],
   "source": [
    "\"\"\"CREATE TABLE subject_memberships(\n",
    "            subject_code integer PRIMARY KEY,\n",
    "            course_offering_uuid text)\"\"\""
   ]
  },
  {
   "cell_type": "code",
   "execution_count": null,
   "metadata": {},
   "outputs": [],
   "source": [
    "\"\"\"CREATE TABLE subjects(\n",
    "            code integer PRIMARY KEY,\n",
    "            name text,\n",
    "            abbreviation text)\"\"\""
   ]
  },
  {
   "cell_type": "code",
   "execution_count": null,
   "metadata": {},
   "outputs": [],
   "source": [
    "\"\"\"CREATE TABLE teachings(\n",
    "            instructor_id integer PRIMARY KEY,\n",
    "            section_uuid text)\"\"\""
   ]
  },
  {
   "cell_type": "code",
   "execution_count": null,
   "metadata": {},
   "outputs": [],
   "source": [
    "table = 'grade_distributions'"
   ]
  },
  {
   "cell_type": "code",
   "execution_count": null,
   "metadata": {},
   "outputs": [],
   "source": [
    "fields = tuple(line.strip(\", \").split()[0] for \n",
    "               line in create_query.split('\\n')[2:-3])"
   ]
  },
  {
   "cell_type": "code",
   "execution_count": 69,
   "metadata": {
    "scrolled": true
   },
   "outputs": [],
   "source": [
    "with open('courses.csv', 'r') as f:\n",
    "    reader = csv.reader(f)\n",
    "    next(reader)  # Skip the header row.\n",
    "    for row in reader:\n",
    "        cur.execute(\n",
    "            query,\n",
    "            row\n",
    "        )\n",
    "conn.commit()"
   ]
  }
 ],
 "metadata": {
  "kernelspec": {
   "display_name": "Python 3",
   "language": "python",
   "name": "python3"
  },
  "language_info": {
   "codemirror_mode": {
    "name": "ipython",
    "version": 3
   },
   "file_extension": ".py",
   "mimetype": "text/x-python",
   "name": "python",
   "nbconvert_exporter": "python",
   "pygments_lexer": "ipython3",
   "version": "3.7.1"
  }
 },
 "nbformat": 4,
 "nbformat_minor": 2
}
