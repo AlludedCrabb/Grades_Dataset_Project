{
 "cells": [
  {
   "cell_type": "code",
   "execution_count": 2,
   "metadata": {},
   "outputs": [],
   "source": [
    "import psycopg2\n",
    "import csv\n",
    "import glob\n",
    "import numpy as np \n",
    "from pandasql import sqldf\n",
    "import pandas as pd\n",
    "import seaborn as sns"
   ]
  },
  {
   "cell_type": "code",
   "execution_count": 3,
   "metadata": {},
   "outputs": [],
   "source": [
    "pysqldf = lambda q: sqldf(q, globals())"
   ]
  },
  {
   "cell_type": "code",
   "execution_count": 4,
   "metadata": {},
   "outputs": [],
   "source": [
    "import sqlalchemy\n",
    "from sqlalchemy import create_engine\n",
    "\n",
    "\n",
    "engine = create_engine(\"postgresql:///mod2project\", echo=True)"
   ]
  },
  {
   "cell_type": "code",
   "execution_count": 5,
   "metadata": {},
   "outputs": [],
   "source": [
    "#this was a pain in many places\n",
    "q = \"\"\"\n",
    "\n",
    "SELECT *,\n",
    "    CASE\n",
    "        WHEN term_code BETWEEN 1063 AND 1073 THEN '2006'\n",
    "        WHEN term_code BETWEEN 1073 AND 1083 THEN '2007'\n",
    "        WHEN term_code BETWEEN 1083 AND 1093 THEN '2008'\n",
    "        WHEN term_code BETWEEN 1093 AND 1103 THEN '2009'\n",
    "        WHEN term_code BETWEEN 1103 AND 1113 THEN '2010'\n",
    "        WHEN term_code BETWEEN 1113 AND 1123 THEN '2011'\n",
    "        WHEN term_code BETWEEN 1123 AND 1133 THEN '2012'\n",
    "        WHEN term_code BETWEEN 1133 AND 1143 THEN '2013'\n",
    "        WHEN term_code BETWEEN 1143 AND 1153 THEN '2014'\n",
    "        WHEN term_code BETWEEN 1153 AND 1163 THEN '2015'\n",
    "        WHEN term_code BETWEEN 1163 AND 1173 THEN '2016'\n",
    "        WHEN term_code BETWEEN 1173 AND 1183 THEN '2017'\n",
    "        ELSE 'the_world_is_over'\n",
    "    END AS Year\n",
    "    FROM course_offerings;\n",
    "\"\"\"\n"
   ]
  },
  {
   "cell_type": "code",
   "execution_count": 8,
   "metadata": {},
   "outputs": [
    {
     "name": "stdout",
     "output_type": "stream",
     "text": [
      "2019-05-07 15:14:04,496 INFO sqlalchemy.engine.base.Engine \n",
      "\n",
      "SELECT *,\n",
      "    CASE\n",
      "        WHEN term_code BETWEEN 1063 AND 1073 THEN '2006'\n",
      "        WHEN term_code BETWEEN 1073 AND 1083 THEN '2007'\n",
      "        WHEN term_code BETWEEN 1083 AND 1093 THEN '2008'\n",
      "        WHEN term_code BETWEEN 1093 AND 1103 THEN '2009'\n",
      "        WHEN term_code BETWEEN 1103 AND 1113 THEN '2010'\n",
      "        WHEN term_code BETWEEN 1113 AND 1123 THEN '2011'\n",
      "        WHEN term_code BETWEEN 1123 AND 1133 THEN '2012'\n",
      "        WHEN term_code BETWEEN 1133 AND 1143 THEN '2013'\n",
      "        WHEN term_code BETWEEN 1143 AND 1153 THEN '2014'\n",
      "        WHEN term_code BETWEEN 1153 AND 1163 THEN '2015'\n",
      "        WHEN term_code BETWEEN 1163 AND 1173 THEN '2016'\n",
      "        WHEN term_code BETWEEN 1173 AND 1183 THEN '2017'\n",
      "        ELSE 'the_world_is_over'\n",
      "    END AS Year\n",
      "    FROM course_offerings;\n",
      "\n",
      "2019-05-07 15:14:04,497 INFO sqlalchemy.engine.base.Engine {}\n"
     ]
    }
   ],
   "source": [
    "df = pd.read_sql_query(q,con=engine)"
   ]
  },
  {
   "cell_type": "code",
   "execution_count": 9,
   "metadata": {},
   "outputs": [
    {
     "data": {
      "text/html": [
       "<div>\n",
       "<style scoped>\n",
       "    .dataframe tbody tr th:only-of-type {\n",
       "        vertical-align: middle;\n",
       "    }\n",
       "\n",
       "    .dataframe tbody tr th {\n",
       "        vertical-align: top;\n",
       "    }\n",
       "\n",
       "    .dataframe thead th {\n",
       "        text-align: right;\n",
       "    }\n",
       "</style>\n",
       "<table border=\"1\" class=\"dataframe\">\n",
       "  <thead>\n",
       "    <tr style=\"text-align: right;\">\n",
       "      <th></th>\n",
       "      <th>uuid</th>\n",
       "      <th>course_uuid</th>\n",
       "      <th>term_code</th>\n",
       "      <th>name</th>\n",
       "      <th>year</th>\n",
       "    </tr>\n",
       "  </thead>\n",
       "  <tbody>\n",
       "    <tr>\n",
       "      <th>0</th>\n",
       "      <td>344b3ebe-da7e-314c-83ed-9425269695fd</td>\n",
       "      <td>a3e3e1c3-543d-3bb5-ae65-5f2aec4ad1de</td>\n",
       "      <td>1092</td>\n",
       "      <td>Cooperative Education Prog</td>\n",
       "      <td>2008</td>\n",
       "    </tr>\n",
       "    <tr>\n",
       "      <th>1</th>\n",
       "      <td>f718e6cd-33f0-3c14-a9a6-834d9c3610a8</td>\n",
       "      <td>a3e3e1c3-543d-3bb5-ae65-5f2aec4ad1de</td>\n",
       "      <td>1082</td>\n",
       "      <td>Cooperative Education Prog</td>\n",
       "      <td>2007</td>\n",
       "    </tr>\n",
       "    <tr>\n",
       "      <th>2</th>\n",
       "      <td>ea3b717c-d66b-30dc-8b37-964d9688295f</td>\n",
       "      <td>a3e3e1c3-543d-3bb5-ae65-5f2aec4ad1de</td>\n",
       "      <td>1172</td>\n",
       "      <td>Cooperative Education Prog</td>\n",
       "      <td>2016</td>\n",
       "    </tr>\n",
       "    <tr>\n",
       "      <th>3</th>\n",
       "      <td>075da420-5f49-3dd0-93df-13e3c152e1b1</td>\n",
       "      <td>a3e3e1c3-543d-3bb5-ae65-5f2aec4ad1de</td>\n",
       "      <td>1114</td>\n",
       "      <td>Cooperative Education Prog</td>\n",
       "      <td>2011</td>\n",
       "    </tr>\n",
       "    <tr>\n",
       "      <th>4</th>\n",
       "      <td>2b4e216d-a728-3713-8c7c-19afffc6b2fd</td>\n",
       "      <td>a3e3e1c3-543d-3bb5-ae65-5f2aec4ad1de</td>\n",
       "      <td>1104</td>\n",
       "      <td>Cooperative Education Prog</td>\n",
       "      <td>2010</td>\n",
       "    </tr>\n",
       "  </tbody>\n",
       "</table>\n",
       "</div>"
      ],
      "text/plain": [
       "                                   uuid                           course_uuid  \\\n",
       "0  344b3ebe-da7e-314c-83ed-9425269695fd  a3e3e1c3-543d-3bb5-ae65-5f2aec4ad1de   \n",
       "1  f718e6cd-33f0-3c14-a9a6-834d9c3610a8  a3e3e1c3-543d-3bb5-ae65-5f2aec4ad1de   \n",
       "2  ea3b717c-d66b-30dc-8b37-964d9688295f  a3e3e1c3-543d-3bb5-ae65-5f2aec4ad1de   \n",
       "3  075da420-5f49-3dd0-93df-13e3c152e1b1  a3e3e1c3-543d-3bb5-ae65-5f2aec4ad1de   \n",
       "4  2b4e216d-a728-3713-8c7c-19afffc6b2fd  a3e3e1c3-543d-3bb5-ae65-5f2aec4ad1de   \n",
       "\n",
       "   term_code                        name  year  \n",
       "0       1092  Cooperative Education Prog  2008  \n",
       "1       1082  Cooperative Education Prog  2007  \n",
       "2       1172  Cooperative Education Prog  2016  \n",
       "3       1114  Cooperative Education Prog  2011  \n",
       "4       1104  Cooperative Education Prog  2010  "
      ]
     },
     "execution_count": 9,
     "metadata": {},
     "output_type": "execute_result"
    }
   ],
   "source": [
    "df.head()"
   ]
  },
  {
   "cell_type": "code",
   "execution_count": null,
   "metadata": {},
   "outputs": [],
   "source": [
    "############ Do what's below here #######"
   ]
  },
  {
   "cell_type": "code",
   "execution_count": 108,
   "metadata": {},
   "outputs": [],
   "source": [
    "q = \"\"\"\n",
    "SELECT *\n",
    "FROM subject_memberships\n",
    "JOIN subjects\n",
    "ON cast (subject_memberships.subject_code as text) = cast (subjects.code as text) \n",
    "\"\"\"\n"
   ]
  },
  {
   "cell_type": "code",
   "execution_count": 109,
   "metadata": {
    "scrolled": false
   },
   "outputs": [
    {
     "name": "stdout",
     "output_type": "stream",
     "text": [
      "2019-05-07 16:56:26,895 INFO sqlalchemy.engine.base.Engine \n",
      "SELECT *\n",
      "FROM subject_memberships\n",
      "JOIN subjects\n",
      "ON cast (subject_memberships.subject_code as text) = cast (subjects.code as text) \n",
      "\n",
      "2019-05-07 16:56:26,897 INFO sqlalchemy.engine.base.Engine {}\n"
     ]
    }
   ],
   "source": [
    "df_join = pd.read_sql_query(q,con=engine)"
   ]
  },
  {
   "cell_type": "code",
   "execution_count": 149,
   "metadata": {},
   "outputs": [],
   "source": [
    "all_courses = set(df_join['name'])"
   ]
  },
  {
   "cell_type": "code",
   "execution_count": 153,
   "metadata": {},
   "outputs": [],
   "source": [
    "humanities = {'African Languages and Literature', 'Afro-American Studies', \n",
    "              'American Indian Studies', 'Art Department', 'Anthropology'\n",
    "              'Art Education (Department of Art)', 'Art History', 'Asian American Studies',\n",
    "              'Chicana/o and Latina/o Studies', 'Classics', 'Collaborative Nursing Program',\n",
    "              'Communication Arts','Communication Sciences and Disorders', 'Community and Environmental Sociology',\n",
    "              'Comparative Literature', 'Consumer Science', 'Counseling Psychology', 'Curriculum and Instruction',\n",
    "              'Dance', 'Design Studies', 'ENGLISH', 'East Asian Area Studies', 'East Asian Languages and Literature',\n",
    "              'Economics', 'Educational Leadership and Policy Analysis', 'Educational Policy Studies',\n",
    "              'Educational Psychology', 'Emergency Medicine', 'Engineering Professional Development',\n",
    "              'English', 'English as a Second Language', 'Entomology', 'Environmental Studies - Gaylord Nelson Institute',\n",
    "              'FAMILY AND CONSUMER COMMUNICATIONS', 'Family Medicine', 'Farm & Industry Short Course',\n",
    "              'Finance, Investment and Banking', 'Folklore Program', 'Forest and Wildlife Ecology',\n",
    "              'French (French and Italian)', 'Gender and Women’s Studies', 'General Business',\n",
    "              'Geography', 'German', 'Greek (Classics)', 'HEBREW', 'Hebrew-Biblical', 'Hebrew-Modern',\n",
    "              'History', 'History of Science', 'Horticulture', 'Human Development and Family Studies',\n",
    "              'Human Oncology', 'INDUSTRIAL RELATIONS', 'Integrated Arts', 'Integrated Liberal Studies',\n",
    "              'Integrated Science', 'Interdisciplinary Courses (CALS)', 'Interdisciplinary Courses (L&S)',\n",
    "              'Interdisciplinary Courses (SOHE)', 'International Business', 'International Studies',\n",
    "              'Italian (French and Italian)', 'Jewish Studies', 'Journalism and Mass Communication',\n",
    "              'Kinesiology', 'La Follette School of Public Affairs',  'Landscape Architecture',\n",
    "              'Languages and Cultures of Asia', 'Languages and Cultures of Asia - Languages',\n",
    "              'Latin (Classics)', 'Latin American, Caribbean, and Iberian Studies',\n",
    "              'Law','Legal Studies','Library and Information Studies',\n",
    "              'Life Sciences Communication', 'Linguistics', 'Literature in Translation',\n",
    "              'Management and Human Resources', 'Marketing', 'Medical History and Bioethics',\n",
    "              'Medieval Studies','Music','Music-Performance','Nursing','Nutritional Sciences',\n",
    "              'Occupational Therapy (Department of Kinesiology)',\n",
    "              'Operations and Technology Management','PHYSICAL EDUC ACTIVITY PROGM',\n",
    "              'PROFESSIONAL ORIENTATION', 'Pharmacy','Pharmacy Practice','Philosophy',\n",
    "              'Physical Therapy','Physician Assistant Program','Political Science',\n",
    "              'Portuguese (Spanish and Portuguese)','Psychiatry',\n",
    "              'Real Estate and Urban Land Economics',\n",
    "              'Rehabilitation Psychology and Special Education',\n",
    "              'Religious Studies','Risk Management and Insurance',\n",
    "              'Scandinavian Studies','Slavic (Slavic Languages)','Social Work',\n",
    "              'Social and Administrative Pharmacy','Sociology','Soil Science',\n",
    "              'Spanish (Spanish and Portuguese)','TRANSPORTATION AND PUBLIC UTILITIES',\n",
    "              'Theatre and Drama','Therapeutic Science (Department of Kinesiology)',\n",
    "              'Urban and Regional Planning','WILDLIFE ECOLOGY', 'Zoology'\n",
    " \n",
    "              }"
   ]
  },
  {
   "cell_type": "code",
   "execution_count": 154,
   "metadata": {},
   "outputs": [],
   "source": [
    "all_courses -= humanities"
   ]
  },
  {
   "cell_type": "code",
   "execution_count": 156,
   "metadata": {},
   "outputs": [
    {
     "data": {
      "text/plain": [
       "80"
      ]
     },
     "execution_count": 156,
     "metadata": {},
     "output_type": "execute_result"
    }
   ],
   "source": [
    "len(all_courses)"
   ]
  },
  {
   "cell_type": "code",
   "execution_count": null,
   "metadata": {},
   "outputs": [],
   "source": []
  }
 ],
 "metadata": {
  "kernelspec": {
   "display_name": "Python 3",
   "language": "python",
   "name": "python3"
  },
  "language_info": {
   "codemirror_mode": {
    "name": "ipython",
    "version": 3
   },
   "file_extension": ".py",
   "mimetype": "text/x-python",
   "name": "python",
   "nbconvert_exporter": "python",
   "pygments_lexer": "ipython3",
   "version": "3.7.1"
  }
 },
 "nbformat": 4,
 "nbformat_minor": 2
}
