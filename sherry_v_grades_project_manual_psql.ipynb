{
 "cells": [
  {
   "cell_type": "code",
   "execution_count": 1,
   "metadata": {},
   "outputs": [],
   "source": [
    "import psycopg2\n",
    "import csv\n",
    "import pandas as pd "
   ]
  },
  {
   "cell_type": "code",
   "execution_count": 2,
   "metadata": {},
   "outputs": [],
   "source": [
    "conn = psycopg2.connect(\"dbname=mod2project\")\n",
    "cur = conn.cursor()"
   ]
  },
  {
   "cell_type": "markdown",
   "metadata": {},
   "source": [
    "# Put one csv file into a table "
   ]
  },
  {
   "cell_type": "code",
   "execution_count": 22,
   "metadata": {},
   "outputs": [],
   "source": [
    "create_query = \"\"\"\n",
    "CREATE TABLE courses(\n",
    "  uuid text PRIMARY KEY\n",
    ", name text \n",
    ", number integer\n",
    ")\n",
    "\"\"\""
   ]
  },
  {
   "cell_type": "code",
   "execution_count": 23,
   "metadata": {},
   "outputs": [],
   "source": [
    "cur.execute(create_query)"
   ]
  },
  {
   "cell_type": "code",
   "execution_count": 24,
   "metadata": {},
   "outputs": [],
   "source": [
    "conn.commit()"
   ]
  },
  {
   "cell_type": "code",
   "execution_count": 25,
   "metadata": {},
   "outputs": [],
   "source": [
    "table = 'courses'"
   ]
  },
  {
   "cell_type": "code",
   "execution_count": 26,
   "metadata": {},
   "outputs": [],
   "source": [
    "fields = tuple(line.strip(\", \").split()[0] for \n",
    "               line in create_query.split('\\n')[2:-2])"
   ]
  },
  {
   "cell_type": "code",
   "execution_count": 27,
   "metadata": {},
   "outputs": [
    {
     "data": {
      "text/plain": [
       "('uuid', 'name', 'number')"
      ]
     },
     "execution_count": 27,
     "metadata": {},
     "output_type": "execute_result"
    }
   ],
   "source": [
    "fields"
   ]
  },
  {
   "cell_type": "code",
   "execution_count": 28,
   "metadata": {},
   "outputs": [],
   "source": [
    "query = f\"\"\"\n",
    "INSERT INTO {table}\n",
    "  ({', '.join(fields)})\n",
    "VALUES\n",
    "  ({', '.join('%s' for _ in range(len(fields)))})\n",
    "\"\"\""
   ]
  },
  {
   "cell_type": "code",
   "execution_count": 29,
   "metadata": {
    "scrolled": true
   },
   "outputs": [],
   "source": [
    "with open('raw_data/courses.csv', 'r') as f:\n",
    "    reader = csv.reader(f)\n",
    "    next(reader)  # Skip the header row.\n",
    "    for row in reader:\n",
    "        cur.execute(\n",
    "            query,\n",
    "            row\n",
    "        )\n",
    "conn.commit()"
   ]
  },
  {
   "cell_type": "code",
   "execution_count": 32,
   "metadata": {},
   "outputs": [],
   "source": [
    "###Drop the courses column to do what I did above for all the tables\n",
    "# cur.execute(\"\"\"DROP TABLE courses;\"\"\")\n",
    "# conn.commit()"
   ]
  },
  {
   "cell_type": "markdown",
   "metadata": {},
   "source": [
    "# Now do that in a for loop"
   ]
  },
  {
   "cell_type": "code",
   "execution_count": 3,
   "metadata": {},
   "outputs": [],
   "source": [
    "create_query_1 = \"\"\"\n",
    "CREATE TABLE courses(\n",
    "  uuid text PRIMARY KEY\n",
    ", name text \n",
    ", number integer\n",
    ")\n",
    "\"\"\""
   ]
  },
  {
   "cell_type": "code",
   "execution_count": 4,
   "metadata": {},
   "outputs": [],
   "source": [
    "create_query_2 = \"\"\"\n",
    "CREATE TABLE course_offerings(\n",
    "  uuid text\n",
    ", course_uuid text \n",
    ", term_code integer\n",
    ", name text\n",
    ")\n",
    "\"\"\""
   ]
  },
  {
   "cell_type": "code",
   "execution_count": 5,
   "metadata": {},
   "outputs": [],
   "source": [
    "create_query_3 = \"\"\"\n",
    "CREATE TABLE grade_distributions(\n",
    "  course_offering_uuid text\n",
    ", section_number text \n",
    ", a_count integer\n",
    ", ab_count integer\n",
    ", b_count integer\n",
    ", bc_count integer\n",
    ", c_count integer\n",
    ", d_count integer\n",
    ", f_count integer\n",
    ", s_count integer\n",
    ", u_count integer\n",
    ", cr_count integer\n",
    ", n_count integer\n",
    ", p_count integer\n",
    ", i_count integer\n",
    ", nw_count integer\n",
    ", nr_count integer\n",
    ", other_count integer\n",
    ")\n",
    "\"\"\""
   ]
  },
  {
   "cell_type": "code",
   "execution_count": 6,
   "metadata": {},
   "outputs": [],
   "source": [
    "create_query_4 = \"\"\"\n",
    "CREATE TABLE instructors(\n",
    "  id integer PRIMARY KEY\n",
    ", name text\n",
    ")\n",
    "\"\"\""
   ]
  },
  {
   "cell_type": "code",
   "execution_count": 7,
   "metadata": {},
   "outputs": [],
   "source": [
    "create_query_5 = \"\"\"\n",
    "CREATE TABLE rooms(\n",
    "  uuid text \n",
    ", facility_code text\n",
    ", room_code text\n",
    ")\n",
    "\"\"\""
   ]
  },
  {
   "cell_type": "code",
   "execution_count": 8,
   "metadata": {},
   "outputs": [],
   "source": [
    "create_query_6 = \"\"\"\n",
    "CREATE TABLE schedules(\n",
    "  uuid text \n",
    ", start_time integer\n",
    ", end_time integer\n",
    ", mon text\n",
    ", tues text\n",
    ", wed text\n",
    ", thurs text\n",
    ", fri text\n",
    ", sat text\n",
    ", sun text\n",
    ")\n",
    "\"\"\""
   ]
  },
  {
   "cell_type": "code",
   "execution_count": 9,
   "metadata": {},
   "outputs": [],
   "source": [
    "create_query_7 = \"\"\"\n",
    "CREATE TABLE sections(\n",
    "  uuid text \n",
    ", course_offering_uuid text\n",
    ", section_type text\n",
    ", number text\n",
    ", room_uuid text\n",
    ", schedule_uuid text\n",
    ")\n",
    "\"\"\""
   ]
  },
  {
   "cell_type": "code",
   "execution_count": 10,
   "metadata": {},
   "outputs": [],
   "source": [
    "create_query_8 = \"\"\"\n",
    "CREATE TABLE subject_memberships(\n",
    "  subject_code integer \n",
    ", course_offering_uuid text\n",
    ")\n",
    "\"\"\""
   ]
  },
  {
   "cell_type": "code",
   "execution_count": 11,
   "metadata": {},
   "outputs": [],
   "source": [
    "create_query_9 = \"\"\"\n",
    "CREATE TABLE subjects(\n",
    "  code text \n",
    ", name text\n",
    ", abbreviation text\n",
    ")\n",
    "\"\"\""
   ]
  },
  {
   "cell_type": "code",
   "execution_count": 12,
   "metadata": {},
   "outputs": [],
   "source": [
    "create_query_10 = \"\"\"\n",
    "CREATE TABLE teachings(\n",
    "  instructor_id integer\n",
    ", section_uuid text\n",
    ")\n",
    "\"\"\""
   ]
  },
  {
   "cell_type": "code",
   "execution_count": 13,
   "metadata": {},
   "outputs": [],
   "source": [
    "create_tables = [create_query_1, create_query_2, create_query_3, create_query_4,\n",
    "                create_query_5, create_query_6, create_query_7, create_query_8,\n",
    "                create_query_9, create_query_10]"
   ]
  },
  {
   "cell_type": "code",
   "execution_count": 14,
   "metadata": {},
   "outputs": [],
   "source": [
    "names_of_tables = ['courses', 'course_offerings', 'grade_distributions', 'instructors', \n",
    "                   'rooms', 'schedules', 'sections', 'subject_memberships', \n",
    "                   'subjects', 'teachings']"
   ]
  },
  {
   "cell_type": "markdown",
   "metadata": {},
   "source": [
    "These sections needed to be edited to work: \n",
    "* teachings\n",
    "* subjects\n",
    "* subject_memberships\n",
    "* schedules "
   ]
  },
  {
   "cell_type": "markdown",
   "metadata": {},
   "source": [
    "--Below are the functions--"
   ]
  },
  {
   "cell_type": "code",
   "execution_count": 15,
   "metadata": {},
   "outputs": [],
   "source": [
    "for query in create_tables:\n",
    "    cur.execute(query)\n",
    "    conn.commit()"
   ]
  },
  {
   "cell_type": "code",
   "execution_count": 16,
   "metadata": {},
   "outputs": [],
   "source": [
    "all_fields = []\n",
    "for query in create_tables:\n",
    "    fields = tuple(line.strip(\", \").split()[0] for line in query.split('\\n')[2:-2])\n",
    "    all_fields.append(fields)"
   ]
  },
  {
   "cell_type": "code",
   "execution_count": 56,
   "metadata": {},
   "outputs": [],
   "source": [
    "##skip for now \n",
    "# for i in range(9):\n",
    "#     query = f\"\"\"INSERT INTO {names_of_tables[i]}({', '.join(all_fields[i])})\n",
    "#             VALUES({', '.join('%s' for _ in range(len(all_fields[i])))})\"\"\"\n",
    "    \n",
    "#     with open(f'raw_data/names_of_tables{i}.csv', 'r') as f:\n",
    "#     reader = csv.reader(f)\n",
    "#     next(reader)  # Skip the header row.\n",
    "#     for row in reader:\n",
    "#         cur.execute(\n",
    "#             query,\n",
    "#             row\n",
    "#         )"
   ]
  },
  {
   "cell_type": "code",
   "execution_count": 44,
   "metadata": {},
   "outputs": [],
   "source": [
    "#I did what should be in an easy for loop manually -- this should not be repeated \n",
    "\n",
    "query = f\"\"\"INSERT INTO {names_of_tables[9]}({', '.join(all_fields[9])})\n",
    "            VALUES({', '.join('%s' for _ in range(len(all_fields[9])))})\"\"\""
   ]
  },
  {
   "cell_type": "code",
   "execution_count": 45,
   "metadata": {},
   "outputs": [],
   "source": [
    "#I did what should be in an easy for loop manually -- this should not be repeated \n",
    "\n",
    "with open('raw_data/teachings.csv', 'r') as f:\n",
    "    reader = csv.reader(f)\n",
    "    next(reader)  # Skip the header row.\n",
    "    for row in reader:\n",
    "        cur.execute(\n",
    "            query,\n",
    "            row\n",
    "        )\n"
   ]
  },
  {
   "cell_type": "code",
   "execution_count": 46,
   "metadata": {},
   "outputs": [],
   "source": [
    "conn.commit()"
   ]
  },
  {
   "cell_type": "markdown",
   "metadata": {},
   "source": [
    "At the end of this notebook we will have all the data in all the tables in the database"
   ]
  },
  {
   "cell_type": "code",
   "execution_count": null,
   "metadata": {},
   "outputs": [],
   "source": []
  }
 ],
 "metadata": {
  "kernelspec": {
   "display_name": "Python 3",
   "language": "python",
   "name": "python3"
  },
  "language_info": {
   "codemirror_mode": {
    "name": "ipython",
    "version": 3
   },
   "file_extension": ".py",
   "mimetype": "text/x-python",
   "name": "python",
   "nbconvert_exporter": "python",
   "pygments_lexer": "ipython3",
   "version": "3.7.1"
  }
 },
 "nbformat": 4,
 "nbformat_minor": 2
}
